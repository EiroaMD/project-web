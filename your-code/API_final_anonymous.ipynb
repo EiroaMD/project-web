{
 "cells": [
  {
   "cell_type": "markdown",
   "metadata": {},
   "source": [
    "### Import libraries:"
   ]
  },
  {
   "cell_type": "code",
   "execution_count": 1,
   "metadata": {},
   "outputs": [],
   "source": [
    "# Spotipy library:\n",
    "import spotipy\n",
    "import spotipy.util as util\n",
    "\n",
    "# DataFrame and file management:\n",
    "import json\n",
    "from pandas.io.json import json_normalize\n",
    "import numpy as np\n",
    "import pandas as pd\n",
    "import os"
   ]
  },
  {
   "cell_type": "markdown",
   "metadata": {},
   "source": [
    "### 1. Set constants:"
   ]
  },
  {
   "cell_type": "code",
   "execution_count": 2,
   "metadata": {},
   "outputs": [],
   "source": [
    "CLIENT_ID = 'secret'\n",
    "CLIENT_SECRET = 'secret'\n",
    "SCOPE = \"user-read-private user-read-email user-read-playback-state user-read-currently-playing user-library-read\"\n",
    "REDIRECT_URI = 'http://localhost:8888/callback/'\n",
    "USERNAME = 'secret'\n",
    "PATH = os.getcwd()"
   ]
  },
  {
   "cell_type": "markdown",
   "metadata": {},
   "source": [
    "### 2. Request Spotify token and access to the API:"
   ]
  },
  {
   "cell_type": "code",
   "execution_count": 3,
   "metadata": {},
   "outputs": [],
   "source": [
    "token = util.prompt_for_user_token(username=USERNAME, scope=SCOPE, client_id=CLIENT_ID, client_secret=CLIENT_SECRET, redirect_uri=REDIRECT_URI)"
   ]
  },
  {
   "cell_type": "code",
   "execution_count": 4,
   "metadata": {},
   "outputs": [],
   "source": [
    "sp = spotipy.Spotify(auth=token)"
   ]
  },
  {
   "cell_type": "markdown",
   "metadata": {},
   "source": [
    "### 3. Request user information and add it to a df: "
   ]
  },
  {
   "cell_type": "code",
   "execution_count": 5,
   "metadata": {},
   "outputs": [],
   "source": [
    "# List of selected users and empty dataframe:\n",
    "friends = ['angelus_', 'amane88', 'aechos', 'alequijada',  'dannig012', 'popersea', 'marc.vallvebernal',\n",
    "           'nestorviolin', 'pau_ik', 'jluisite', 'elyp', 'elsapato', 'chicareversible', 'brunocossio', '42416345k']\n",
    "friends_df = pd.DataFrame()\n",
    "\n",
    "# Loop to request user informaton and adding it to friends_df:\n",
    "for friend in friends:\n",
    "    # Uses spotipy's user function to request user info.\n",
    "    user_df = json_normalize(sp.user(friend))\n",
    "    friends_df = friends_df.append(user_df)"
   ]
  },
  {
   "cell_type": "markdown",
   "metadata": {},
   "source": [
    "#### friends_df information and export:"
   ]
  },
  {
   "cell_type": "code",
   "execution_count": 6,
   "metadata": {},
   "outputs": [
    {
     "data": {
      "text/html": [
       "<div>\n",
       "<style scoped>\n",
       "    .dataframe tbody tr th:only-of-type {\n",
       "        vertical-align: middle;\n",
       "    }\n",
       "\n",
       "    .dataframe tbody tr th {\n",
       "        vertical-align: top;\n",
       "    }\n",
       "\n",
       "    .dataframe thead th {\n",
       "        text-align: right;\n",
       "    }\n",
       "</style>\n",
       "<table border=\"1\" class=\"dataframe\">\n",
       "  <thead>\n",
       "    <tr style=\"text-align: right;\">\n",
       "      <th></th>\n",
       "      <th>display_name</th>\n",
       "      <th>external_urls.spotify</th>\n",
       "      <th>followers.href</th>\n",
       "      <th>followers.total</th>\n",
       "      <th>href</th>\n",
       "      <th>id</th>\n",
       "      <th>images</th>\n",
       "      <th>type</th>\n",
       "      <th>uri</th>\n",
       "    </tr>\n",
       "  </thead>\n",
       "  <tbody>\n",
       "    <tr>\n",
       "      <th>0</th>\n",
       "      <td>angelus_</td>\n",
       "      <td>https://open.spotify.com/user/angelus_</td>\n",
       "      <td>None</td>\n",
       "      <td>14</td>\n",
       "      <td>https://api.spotify.com/v1/users/angelus_</td>\n",
       "      <td>angelus_</td>\n",
       "      <td>[]</td>\n",
       "      <td>user</td>\n",
       "      <td>spotify:user:angelus_</td>\n",
       "    </tr>\n",
       "    <tr>\n",
       "      <th>0</th>\n",
       "      <td>Amanda Batista Sosa</td>\n",
       "      <td>https://open.spotify.com/user/amane88</td>\n",
       "      <td>None</td>\n",
       "      <td>34</td>\n",
       "      <td>https://api.spotify.com/v1/users/amane88</td>\n",
       "      <td>amane88</td>\n",
       "      <td>[{'height': None, 'url': 'https://scontent.xx....</td>\n",
       "      <td>user</td>\n",
       "      <td>spotify:user:amane88</td>\n",
       "    </tr>\n",
       "    <tr>\n",
       "      <th>0</th>\n",
       "      <td>Alejandro De La Barreda Heusser</td>\n",
       "      <td>https://open.spotify.com/user/aechos</td>\n",
       "      <td>None</td>\n",
       "      <td>66</td>\n",
       "      <td>https://api.spotify.com/v1/users/aechos</td>\n",
       "      <td>aechos</td>\n",
       "      <td>[{'height': None, 'url': 'https://scontent.xx....</td>\n",
       "      <td>user</td>\n",
       "      <td>spotify:user:aechos</td>\n",
       "    </tr>\n",
       "    <tr>\n",
       "      <th>0</th>\n",
       "      <td>Alejandro Quijada Fumero</td>\n",
       "      <td>https://open.spotify.com/user/alequijada</td>\n",
       "      <td>None</td>\n",
       "      <td>16</td>\n",
       "      <td>https://api.spotify.com/v1/users/alequijada</td>\n",
       "      <td>alequijada</td>\n",
       "      <td>[{'height': None, 'url': 'https://scontent.xx....</td>\n",
       "      <td>user</td>\n",
       "      <td>spotify:user:alequijada</td>\n",
       "    </tr>\n",
       "    <tr>\n",
       "      <th>0</th>\n",
       "      <td>dannig012</td>\n",
       "      <td>https://open.spotify.com/user/dannig012</td>\n",
       "      <td>None</td>\n",
       "      <td>24</td>\n",
       "      <td>https://api.spotify.com/v1/users/dannig012</td>\n",
       "      <td>dannig012</td>\n",
       "      <td>[]</td>\n",
       "      <td>user</td>\n",
       "      <td>spotify:user:dannig012</td>\n",
       "    </tr>\n",
       "  </tbody>\n",
       "</table>\n",
       "</div>"
      ],
      "text/plain": [
       "                      display_name                     external_urls.spotify  \\\n",
       "0                         angelus_    https://open.spotify.com/user/angelus_   \n",
       "0              Amanda Batista Sosa     https://open.spotify.com/user/amane88   \n",
       "0  Alejandro De La Barreda Heusser      https://open.spotify.com/user/aechos   \n",
       "0         Alejandro Quijada Fumero  https://open.spotify.com/user/alequijada   \n",
       "0                        dannig012   https://open.spotify.com/user/dannig012   \n",
       "\n",
       "  followers.href  followers.total  \\\n",
       "0           None               14   \n",
       "0           None               34   \n",
       "0           None               66   \n",
       "0           None               16   \n",
       "0           None               24   \n",
       "\n",
       "                                          href          id  \\\n",
       "0    https://api.spotify.com/v1/users/angelus_    angelus_   \n",
       "0     https://api.spotify.com/v1/users/amane88     amane88   \n",
       "0      https://api.spotify.com/v1/users/aechos      aechos   \n",
       "0  https://api.spotify.com/v1/users/alequijada  alequijada   \n",
       "0   https://api.spotify.com/v1/users/dannig012   dannig012   \n",
       "\n",
       "                                              images  type  \\\n",
       "0                                                 []  user   \n",
       "0  [{'height': None, 'url': 'https://scontent.xx....  user   \n",
       "0  [{'height': None, 'url': 'https://scontent.xx....  user   \n",
       "0  [{'height': None, 'url': 'https://scontent.xx....  user   \n",
       "0                                                 []  user   \n",
       "\n",
       "                       uri  \n",
       "0    spotify:user:angelus_  \n",
       "0     spotify:user:amane88  \n",
       "0      spotify:user:aechos  \n",
       "0  spotify:user:alequijada  \n",
       "0   spotify:user:dannig012  "
      ]
     },
     "execution_count": 6,
     "metadata": {},
     "output_type": "execute_result"
    }
   ],
   "source": [
    "friends_df.head()"
   ]
  },
  {
   "cell_type": "code",
   "execution_count": 7,
   "metadata": {},
   "outputs": [
    {
     "data": {
      "text/plain": [
       "(15, 9)"
      ]
     },
     "execution_count": 7,
     "metadata": {},
     "output_type": "execute_result"
    }
   ],
   "source": [
    "friends_df.shape"
   ]
  },
  {
   "cell_type": "code",
   "execution_count": 8,
   "metadata": {},
   "outputs": [
    {
     "name": "stdout",
     "output_type": "stream",
     "text": [
      "<class 'pandas.core.frame.DataFrame'>\n",
      "Int64Index: 15 entries, 0 to 0\n",
      "Data columns (total 9 columns):\n",
      "display_name             15 non-null object\n",
      "external_urls.spotify    15 non-null object\n",
      "followers.href           0 non-null object\n",
      "followers.total          15 non-null int64\n",
      "href                     15 non-null object\n",
      "id                       15 non-null object\n",
      "images                   15 non-null object\n",
      "type                     15 non-null object\n",
      "uri                      15 non-null object\n",
      "dtypes: int64(1), object(8)\n",
      "memory usage: 1.2+ KB\n"
     ]
    }
   ],
   "source": [
    "friends_df.info()"
   ]
  },
  {
   "cell_type": "code",
   "execution_count": 9,
   "metadata": {},
   "outputs": [],
   "source": [
    "#Exporting (uses PATH as constant previously defined):\n",
    "friends_export = friends_df.to_csv('%s/output/spotify_friends.csv'%PATH, index=False)"
   ]
  },
  {
   "cell_type": "markdown",
   "metadata": {},
   "source": [
    "### 4. Extract playlist information"
   ]
  },
  {
   "cell_type": "markdown",
   "metadata": {},
   "source": [
    "#### Defining a function to extract (and flatten) the public playlists for a given user:"
   ]
  },
  {
   "cell_type": "code",
   "execution_count": 10,
   "metadata": {},
   "outputs": [],
   "source": [
    "def playlist_extractor(user):\n",
    "    # Uses spotipy's user_playlists function.\n",
    "    playlists = json_normalize(sp.user_playlists(user))\n",
    "    playlists_flat = json_normalize(playlists['items'][0])\n",
    "    return playlists_flat"
   ]
  },
  {
   "cell_type": "markdown",
   "metadata": {},
   "source": [
    "#### Looping the function over the 'id' column of friends_df to create a new dataframe containing every playlist:"
   ]
  },
  {
   "cell_type": "code",
   "execution_count": 11,
   "metadata": {},
   "outputs": [],
   "source": [
    "# Creating the empty dataframe:\n",
    "playlists_df = pd.DataFrame()\n",
    "\n",
    "# Loop to get the playlists for every user in friends_df:\n",
    "for i in friends_df['id']:\n",
    "    user_playlists = playlist_extractor(i)\n",
    "    playlists_df = playlists_df.append(user_playlists)\n",
    "\n",
    "# Reseting playlists_df index:\n",
    "playlists_df.reset_index(drop=True, inplace=True)"
   ]
  },
  {
   "cell_type": "markdown",
   "metadata": {},
   "source": [
    "#### playlists_df information:"
   ]
  },
  {
   "cell_type": "code",
   "execution_count": 12,
   "metadata": {},
   "outputs": [
    {
     "data": {
      "text/html": [
       "<div>\n",
       "<style scoped>\n",
       "    .dataframe tbody tr th:only-of-type {\n",
       "        vertical-align: middle;\n",
       "    }\n",
       "\n",
       "    .dataframe tbody tr th {\n",
       "        vertical-align: top;\n",
       "    }\n",
       "\n",
       "    .dataframe thead th {\n",
       "        text-align: right;\n",
       "    }\n",
       "</style>\n",
       "<table border=\"1\" class=\"dataframe\">\n",
       "  <thead>\n",
       "    <tr style=\"text-align: right;\">\n",
       "      <th></th>\n",
       "      <th>collaborative</th>\n",
       "      <th>external_urls.spotify</th>\n",
       "      <th>href</th>\n",
       "      <th>id</th>\n",
       "      <th>images</th>\n",
       "      <th>name</th>\n",
       "      <th>owner.display_name</th>\n",
       "      <th>owner.external_urls.spotify</th>\n",
       "      <th>owner.href</th>\n",
       "      <th>owner.id</th>\n",
       "      <th>owner.type</th>\n",
       "      <th>owner.uri</th>\n",
       "      <th>primary_color</th>\n",
       "      <th>public</th>\n",
       "      <th>snapshot_id</th>\n",
       "      <th>tracks.href</th>\n",
       "      <th>tracks.total</th>\n",
       "      <th>type</th>\n",
       "      <th>uri</th>\n",
       "    </tr>\n",
       "  </thead>\n",
       "  <tbody>\n",
       "    <tr>\n",
       "      <th>0</th>\n",
       "      <td>False</td>\n",
       "      <td>https://open.spotify.com/playlist/37i9dQZF1DWX...</td>\n",
       "      <td>https://api.spotify.com/v1/playlists/37i9dQZF1...</td>\n",
       "      <td>37i9dQZF1DWXe9gFZP0gtP</td>\n",
       "      <td>[{'height': None, 'url': 'https://pl.scdn.co/i...</td>\n",
       "      <td>Stress Relief</td>\n",
       "      <td>Spotify</td>\n",
       "      <td>https://open.spotify.com/user/spotify</td>\n",
       "      <td>https://api.spotify.com/v1/users/spotify</td>\n",
       "      <td>spotify</td>\n",
       "      <td>user</td>\n",
       "      <td>spotify:user:spotify</td>\n",
       "      <td>None</td>\n",
       "      <td>True</td>\n",
       "      <td>MTU2MzgyMDg2MSwwMDAwMDAwMGQ0MWQ4Y2Q5OGYwMGIyMD...</td>\n",
       "      <td>https://api.spotify.com/v1/playlists/37i9dQZF1...</td>\n",
       "      <td>131</td>\n",
       "      <td>playlist</td>\n",
       "      <td>spotify:playlist:37i9dQZF1DWXe9gFZP0gtP</td>\n",
       "    </tr>\n",
       "    <tr>\n",
       "      <th>1</th>\n",
       "      <td>False</td>\n",
       "      <td>https://open.spotify.com/playlist/5oiKq5lfsNvr...</td>\n",
       "      <td>https://api.spotify.com/v1/playlists/5oiKq5lfs...</td>\n",
       "      <td>5oiKq5lfsNvrdN7xAy6XsK</td>\n",
       "      <td>[{'height': 640, 'url': 'https://mosaic.scdn.c...</td>\n",
       "      <td>Místico All time collection</td>\n",
       "      <td>angelus_</td>\n",
       "      <td>https://open.spotify.com/user/angelus_</td>\n",
       "      <td>https://api.spotify.com/v1/users/angelus_</td>\n",
       "      <td>angelus_</td>\n",
       "      <td>user</td>\n",
       "      <td>spotify:user:angelus_</td>\n",
       "      <td>None</td>\n",
       "      <td>True</td>\n",
       "      <td>MTQxLGZhNTJkYmU2ZGYxZDk0MTVmYzZjNzJhNzk4YzU2Zm...</td>\n",
       "      <td>https://api.spotify.com/v1/playlists/5oiKq5lfs...</td>\n",
       "      <td>150</td>\n",
       "      <td>playlist</td>\n",
       "      <td>spotify:playlist:5oiKq5lfsNvrdN7xAy6XsK</td>\n",
       "    </tr>\n",
       "    <tr>\n",
       "      <th>2</th>\n",
       "      <td>False</td>\n",
       "      <td>https://open.spotify.com/playlist/4UBx2ZfAjPbh...</td>\n",
       "      <td>https://api.spotify.com/v1/playlists/4UBx2ZfAj...</td>\n",
       "      <td>4UBx2ZfAjPbh0jNdvuVhss</td>\n",
       "      <td>[{'height': 640, 'url': 'https://mosaic.scdn.c...</td>\n",
       "      <td>Chunda chunda guay discotequero</td>\n",
       "      <td>angelus_</td>\n",
       "      <td>https://open.spotify.com/user/angelus_</td>\n",
       "      <td>https://api.spotify.com/v1/users/angelus_</td>\n",
       "      <td>angelus_</td>\n",
       "      <td>user</td>\n",
       "      <td>spotify:user:angelus_</td>\n",
       "      <td>None</td>\n",
       "      <td>True</td>\n",
       "      <td>MTMzLGFiNTMzYWU3NGYyMzAxY2RkMjRiNWExMWEzZTFiYj...</td>\n",
       "      <td>https://api.spotify.com/v1/playlists/4UBx2ZfAj...</td>\n",
       "      <td>135</td>\n",
       "      <td>playlist</td>\n",
       "      <td>spotify:playlist:4UBx2ZfAjPbh0jNdvuVhss</td>\n",
       "    </tr>\n",
       "    <tr>\n",
       "      <th>3</th>\n",
       "      <td>False</td>\n",
       "      <td>https://open.spotify.com/playlist/3tPFZzhjsRsJ...</td>\n",
       "      <td>https://api.spotify.com/v1/playlists/3tPFZzhjs...</td>\n",
       "      <td>3tPFZzhjsRsJWavnevNwER</td>\n",
       "      <td>[{'height': 640, 'url': 'https://i.scdn.co/ima...</td>\n",
       "      <td>New Life</td>\n",
       "      <td>angelus_</td>\n",
       "      <td>https://open.spotify.com/user/angelus_</td>\n",
       "      <td>https://api.spotify.com/v1/users/angelus_</td>\n",
       "      <td>angelus_</td>\n",
       "      <td>user</td>\n",
       "      <td>spotify:user:angelus_</td>\n",
       "      <td>None</td>\n",
       "      <td>True</td>\n",
       "      <td>MyxkMWNiZWZjZTYyYmM4Yzc1MTNlMmY5YjkwYjY0ZWNlN2...</td>\n",
       "      <td>https://api.spotify.com/v1/playlists/3tPFZzhjs...</td>\n",
       "      <td>2</td>\n",
       "      <td>playlist</td>\n",
       "      <td>spotify:playlist:3tPFZzhjsRsJWavnevNwER</td>\n",
       "    </tr>\n",
       "    <tr>\n",
       "      <th>4</th>\n",
       "      <td>False</td>\n",
       "      <td>https://open.spotify.com/playlist/6xa4DYxZ5IO0...</td>\n",
       "      <td>https://api.spotify.com/v1/playlists/6xa4DYxZ5...</td>\n",
       "      <td>6xa4DYxZ5IO09eyKt5be52</td>\n",
       "      <td>[{'height': 640, 'url': 'https://mosaic.scdn.c...</td>\n",
       "      <td>MBM</td>\n",
       "      <td>angelus_</td>\n",
       "      <td>https://open.spotify.com/user/angelus_</td>\n",
       "      <td>https://api.spotify.com/v1/users/angelus_</td>\n",
       "      <td>angelus_</td>\n",
       "      <td>user</td>\n",
       "      <td>spotify:user:angelus_</td>\n",
       "      <td>None</td>\n",
       "      <td>True</td>\n",
       "      <td>NDksZDhmMWRiZDgxNDRjYjRlYzBhMjE3NGU2ZTFiNDQ4YT...</td>\n",
       "      <td>https://api.spotify.com/v1/playlists/6xa4DYxZ5...</td>\n",
       "      <td>186</td>\n",
       "      <td>playlist</td>\n",
       "      <td>spotify:playlist:6xa4DYxZ5IO09eyKt5be52</td>\n",
       "    </tr>\n",
       "  </tbody>\n",
       "</table>\n",
       "</div>"
      ],
      "text/plain": [
       "   collaborative                              external_urls.spotify  \\\n",
       "0          False  https://open.spotify.com/playlist/37i9dQZF1DWX...   \n",
       "1          False  https://open.spotify.com/playlist/5oiKq5lfsNvr...   \n",
       "2          False  https://open.spotify.com/playlist/4UBx2ZfAjPbh...   \n",
       "3          False  https://open.spotify.com/playlist/3tPFZzhjsRsJ...   \n",
       "4          False  https://open.spotify.com/playlist/6xa4DYxZ5IO0...   \n",
       "\n",
       "                                                href                      id  \\\n",
       "0  https://api.spotify.com/v1/playlists/37i9dQZF1...  37i9dQZF1DWXe9gFZP0gtP   \n",
       "1  https://api.spotify.com/v1/playlists/5oiKq5lfs...  5oiKq5lfsNvrdN7xAy6XsK   \n",
       "2  https://api.spotify.com/v1/playlists/4UBx2ZfAj...  4UBx2ZfAjPbh0jNdvuVhss   \n",
       "3  https://api.spotify.com/v1/playlists/3tPFZzhjs...  3tPFZzhjsRsJWavnevNwER   \n",
       "4  https://api.spotify.com/v1/playlists/6xa4DYxZ5...  6xa4DYxZ5IO09eyKt5be52   \n",
       "\n",
       "                                              images  \\\n",
       "0  [{'height': None, 'url': 'https://pl.scdn.co/i...   \n",
       "1  [{'height': 640, 'url': 'https://mosaic.scdn.c...   \n",
       "2  [{'height': 640, 'url': 'https://mosaic.scdn.c...   \n",
       "3  [{'height': 640, 'url': 'https://i.scdn.co/ima...   \n",
       "4  [{'height': 640, 'url': 'https://mosaic.scdn.c...   \n",
       "\n",
       "                              name owner.display_name  \\\n",
       "0                    Stress Relief            Spotify   \n",
       "1      Místico All time collection           angelus_   \n",
       "2  Chunda chunda guay discotequero           angelus_   \n",
       "3                         New Life           angelus_   \n",
       "4                              MBM           angelus_   \n",
       "\n",
       "              owner.external_urls.spotify  \\\n",
       "0   https://open.spotify.com/user/spotify   \n",
       "1  https://open.spotify.com/user/angelus_   \n",
       "2  https://open.spotify.com/user/angelus_   \n",
       "3  https://open.spotify.com/user/angelus_   \n",
       "4  https://open.spotify.com/user/angelus_   \n",
       "\n",
       "                                  owner.href  owner.id owner.type  \\\n",
       "0   https://api.spotify.com/v1/users/spotify   spotify       user   \n",
       "1  https://api.spotify.com/v1/users/angelus_  angelus_       user   \n",
       "2  https://api.spotify.com/v1/users/angelus_  angelus_       user   \n",
       "3  https://api.spotify.com/v1/users/angelus_  angelus_       user   \n",
       "4  https://api.spotify.com/v1/users/angelus_  angelus_       user   \n",
       "\n",
       "               owner.uri primary_color  public  \\\n",
       "0   spotify:user:spotify          None    True   \n",
       "1  spotify:user:angelus_          None    True   \n",
       "2  spotify:user:angelus_          None    True   \n",
       "3  spotify:user:angelus_          None    True   \n",
       "4  spotify:user:angelus_          None    True   \n",
       "\n",
       "                                         snapshot_id  \\\n",
       "0  MTU2MzgyMDg2MSwwMDAwMDAwMGQ0MWQ4Y2Q5OGYwMGIyMD...   \n",
       "1  MTQxLGZhNTJkYmU2ZGYxZDk0MTVmYzZjNzJhNzk4YzU2Zm...   \n",
       "2  MTMzLGFiNTMzYWU3NGYyMzAxY2RkMjRiNWExMWEzZTFiYj...   \n",
       "3  MyxkMWNiZWZjZTYyYmM4Yzc1MTNlMmY5YjkwYjY0ZWNlN2...   \n",
       "4  NDksZDhmMWRiZDgxNDRjYjRlYzBhMjE3NGU2ZTFiNDQ4YT...   \n",
       "\n",
       "                                         tracks.href  tracks.total      type  \\\n",
       "0  https://api.spotify.com/v1/playlists/37i9dQZF1...           131  playlist   \n",
       "1  https://api.spotify.com/v1/playlists/5oiKq5lfs...           150  playlist   \n",
       "2  https://api.spotify.com/v1/playlists/4UBx2ZfAj...           135  playlist   \n",
       "3  https://api.spotify.com/v1/playlists/3tPFZzhjs...             2  playlist   \n",
       "4  https://api.spotify.com/v1/playlists/6xa4DYxZ5...           186  playlist   \n",
       "\n",
       "                                       uri  \n",
       "0  spotify:playlist:37i9dQZF1DWXe9gFZP0gtP  \n",
       "1  spotify:playlist:5oiKq5lfsNvrdN7xAy6XsK  \n",
       "2  spotify:playlist:4UBx2ZfAjPbh0jNdvuVhss  \n",
       "3  spotify:playlist:3tPFZzhjsRsJWavnevNwER  \n",
       "4  spotify:playlist:6xa4DYxZ5IO09eyKt5be52  "
      ]
     },
     "execution_count": 12,
     "metadata": {},
     "output_type": "execute_result"
    }
   ],
   "source": [
    "playlists_df.head()"
   ]
  },
  {
   "cell_type": "code",
   "execution_count": 13,
   "metadata": {},
   "outputs": [
    {
     "data": {
      "text/plain": [
       "(493, 19)"
      ]
     },
     "execution_count": 13,
     "metadata": {},
     "output_type": "execute_result"
    }
   ],
   "source": [
    "playlists_df.shape"
   ]
  },
  {
   "cell_type": "code",
   "execution_count": 14,
   "metadata": {},
   "outputs": [
    {
     "name": "stdout",
     "output_type": "stream",
     "text": [
      "<class 'pandas.core.frame.DataFrame'>\n",
      "RangeIndex: 493 entries, 0 to 492\n",
      "Data columns (total 19 columns):\n",
      "collaborative                  493 non-null bool\n",
      "external_urls.spotify          493 non-null object\n",
      "href                           493 non-null object\n",
      "id                             493 non-null object\n",
      "images                         493 non-null object\n",
      "name                           493 non-null object\n",
      "owner.display_name             434 non-null object\n",
      "owner.external_urls.spotify    493 non-null object\n",
      "owner.href                     493 non-null object\n",
      "owner.id                       493 non-null object\n",
      "owner.type                     493 non-null object\n",
      "owner.uri                      493 non-null object\n",
      "primary_color                  0 non-null object\n",
      "public                         493 non-null bool\n",
      "snapshot_id                    493 non-null object\n",
      "tracks.href                    493 non-null object\n",
      "tracks.total                   493 non-null int64\n",
      "type                           493 non-null object\n",
      "uri                            493 non-null object\n",
      "dtypes: bool(2), int64(1), object(16)\n",
      "memory usage: 66.5+ KB\n"
     ]
    }
   ],
   "source": [
    "playlists_df.info()"
   ]
  },
  {
   "cell_type": "code",
   "execution_count": 15,
   "metadata": {},
   "outputs": [],
   "source": [
    "#Exporting (uses PATH as constant previously defined):\n",
    "playlists_export = playlists_df.to_csv('%s/output/spotify_playlists.csv'%PATH, index=False)"
   ]
  },
  {
   "cell_type": "markdown",
   "metadata": {},
   "source": [
    "### 5. Extract track information"
   ]
  },
  {
   "cell_type": "markdown",
   "metadata": {},
   "source": [
    "#### Defining a function to extract (and clean and flatten) the songs of a playlist:"
   ]
  },
  {
   "cell_type": "code",
   "execution_count": 16,
   "metadata": {},
   "outputs": [],
   "source": [
    "def track_extractor(df):\n",
    "    final_df = pd.DataFrame()\n",
    "    for i in range(len(df)):\n",
    "        # Uses spotipy's user_playlist_tracks function to get the songs.\n",
    "        track_list = json_normalize(sp.user_playlist_tracks(user=df['owner.id'][i], playlist_id=df['id'][i]))\n",
    "        if track_list['items'][0] == []:\n",
    "            continue\n",
    "        else:\n",
    "            tracks_df = json_normalize(track_list['items'][0])\n",
    "            tracks_df['owner.id'] = df['owner.id'][i]\n",
    "            tracks_df_clean = tracks_df[['track.album.href', 'track.album.id', 'track.album.name', \n",
    "                                   'track.album.release_date', 'track.album.type', 'track.artists', 'track.href',\n",
    "                                   'track.id', 'track.is_local', 'track.name', 'track.popularity', 'track.type', 'owner.id']]\n",
    "            final_df = final_df.append(tracks_df_clean)\n",
    "    return final_df"
   ]
  },
  {
   "cell_type": "markdown",
   "metadata": {},
   "source": [
    "#### Looping the function over playlists_df to create a new dataframe with all the tracks of every playlist:"
   ]
  },
  {
   "cell_type": "code",
   "execution_count": 17,
   "metadata": {},
   "outputs": [],
   "source": [
    "# Creating the dataframe:\n",
    "songs_df = track_extractor(playlists_df)\n",
    "\n",
    "# Resetting songs_df index:\n",
    "songs_df.reset_index(drop=True, inplace=True)"
   ]
  },
  {
   "cell_type": "markdown",
   "metadata": {},
   "source": [
    "#### songs_df information:"
   ]
  },
  {
   "cell_type": "code",
   "execution_count": 18,
   "metadata": {},
   "outputs": [
    {
     "data": {
      "text/html": [
       "<div>\n",
       "<style scoped>\n",
       "    .dataframe tbody tr th:only-of-type {\n",
       "        vertical-align: middle;\n",
       "    }\n",
       "\n",
       "    .dataframe tbody tr th {\n",
       "        vertical-align: top;\n",
       "    }\n",
       "\n",
       "    .dataframe thead th {\n",
       "        text-align: right;\n",
       "    }\n",
       "</style>\n",
       "<table border=\"1\" class=\"dataframe\">\n",
       "  <thead>\n",
       "    <tr style=\"text-align: right;\">\n",
       "      <th></th>\n",
       "      <th>track.album.href</th>\n",
       "      <th>track.album.id</th>\n",
       "      <th>track.album.name</th>\n",
       "      <th>track.album.release_date</th>\n",
       "      <th>track.album.type</th>\n",
       "      <th>track.artists</th>\n",
       "      <th>track.href</th>\n",
       "      <th>track.id</th>\n",
       "      <th>track.is_local</th>\n",
       "      <th>track.name</th>\n",
       "      <th>track.popularity</th>\n",
       "      <th>track.type</th>\n",
       "      <th>owner.id</th>\n",
       "    </tr>\n",
       "  </thead>\n",
       "  <tbody>\n",
       "    <tr>\n",
       "      <th>0</th>\n",
       "      <td>https://api.spotify.com/v1/albums/6hzdQgjn3wTJ...</td>\n",
       "      <td>6hzdQgjn3wTJhOUI4cVKu2</td>\n",
       "      <td>Amelie from Montmartre</td>\n",
       "      <td>2001-04-23</td>\n",
       "      <td>album</td>\n",
       "      <td>[{'external_urls': {'spotify': 'https://open.s...</td>\n",
       "      <td>https://api.spotify.com/v1/tracks/2AkcjsKlRbIB...</td>\n",
       "      <td>2AkcjsKlRbIBYGAgpQVFii</td>\n",
       "      <td>False</td>\n",
       "      <td>Comptine d'un autre été, l'après-midi</td>\n",
       "      <td>16.0</td>\n",
       "      <td>track</td>\n",
       "      <td>spotify</td>\n",
       "    </tr>\n",
       "    <tr>\n",
       "      <th>1</th>\n",
       "      <td>https://api.spotify.com/v1/albums/5Q23RuwpOqhN...</td>\n",
       "      <td>5Q23RuwpOqhN28KtBOdnGp</td>\n",
       "      <td>Tone of Love</td>\n",
       "      <td>2019-03-23</td>\n",
       "      <td>album</td>\n",
       "      <td>[{'external_urls': {'spotify': 'https://open.s...</td>\n",
       "      <td>https://api.spotify.com/v1/tracks/3Z0n8POAcDQC...</td>\n",
       "      <td>3Z0n8POAcDQCSyxA06cqbW</td>\n",
       "      <td>False</td>\n",
       "      <td>Tone of Love</td>\n",
       "      <td>61.0</td>\n",
       "      <td>track</td>\n",
       "      <td>spotify</td>\n",
       "    </tr>\n",
       "    <tr>\n",
       "      <th>2</th>\n",
       "      <td>https://api.spotify.com/v1/albums/2rK7rji9Qxaf...</td>\n",
       "      <td>2rK7rji9Qxafhao5PFXtu5</td>\n",
       "      <td>Longing</td>\n",
       "      <td>2019-05-30</td>\n",
       "      <td>album</td>\n",
       "      <td>[{'external_urls': {'spotify': 'https://open.s...</td>\n",
       "      <td>https://api.spotify.com/v1/tracks/1ONolOLYjM97...</td>\n",
       "      <td>1ONolOLYjM977hgtqKzXmJ</td>\n",
       "      <td>False</td>\n",
       "      <td>Longing</td>\n",
       "      <td>56.0</td>\n",
       "      <td>track</td>\n",
       "      <td>spotify</td>\n",
       "    </tr>\n",
       "    <tr>\n",
       "      <th>3</th>\n",
       "      <td>https://api.spotify.com/v1/albums/4zojkjd8Enxh...</td>\n",
       "      <td>4zojkjd8EnxhvBQAx1Nd4W</td>\n",
       "      <td>En t'attendant</td>\n",
       "      <td>2011-05-02</td>\n",
       "      <td>album</td>\n",
       "      <td>[{'external_urls': {'spotify': 'https://open.s...</td>\n",
       "      <td>https://api.spotify.com/v1/tracks/2rK5aTaCfPoS...</td>\n",
       "      <td>2rK5aTaCfPoSX0TqAW5YgV</td>\n",
       "      <td>False</td>\n",
       "      <td>Fin</td>\n",
       "      <td>61.0</td>\n",
       "      <td>track</td>\n",
       "      <td>spotify</td>\n",
       "    </tr>\n",
       "    <tr>\n",
       "      <th>4</th>\n",
       "      <td>https://api.spotify.com/v1/albums/6AUPQJfBYnyw...</td>\n",
       "      <td>6AUPQJfBYnyw47dZ9V0w89</td>\n",
       "      <td>Florentin</td>\n",
       "      <td>2019-04-03</td>\n",
       "      <td>album</td>\n",
       "      <td>[{'external_urls': {'spotify': 'https://open.s...</td>\n",
       "      <td>https://api.spotify.com/v1/tracks/6lE5ACHHqeEk...</td>\n",
       "      <td>6lE5ACHHqeEk7nLciGJH3P</td>\n",
       "      <td>False</td>\n",
       "      <td>Florentin</td>\n",
       "      <td>58.0</td>\n",
       "      <td>track</td>\n",
       "      <td>spotify</td>\n",
       "    </tr>\n",
       "  </tbody>\n",
       "</table>\n",
       "</div>"
      ],
      "text/plain": [
       "                                    track.album.href          track.album.id  \\\n",
       "0  https://api.spotify.com/v1/albums/6hzdQgjn3wTJ...  6hzdQgjn3wTJhOUI4cVKu2   \n",
       "1  https://api.spotify.com/v1/albums/5Q23RuwpOqhN...  5Q23RuwpOqhN28KtBOdnGp   \n",
       "2  https://api.spotify.com/v1/albums/2rK7rji9Qxaf...  2rK7rji9Qxafhao5PFXtu5   \n",
       "3  https://api.spotify.com/v1/albums/4zojkjd8Enxh...  4zojkjd8EnxhvBQAx1Nd4W   \n",
       "4  https://api.spotify.com/v1/albums/6AUPQJfBYnyw...  6AUPQJfBYnyw47dZ9V0w89   \n",
       "\n",
       "         track.album.name track.album.release_date track.album.type  \\\n",
       "0  Amelie from Montmartre               2001-04-23            album   \n",
       "1            Tone of Love               2019-03-23            album   \n",
       "2                 Longing               2019-05-30            album   \n",
       "3          En t'attendant               2011-05-02            album   \n",
       "4               Florentin               2019-04-03            album   \n",
       "\n",
       "                                       track.artists  \\\n",
       "0  [{'external_urls': {'spotify': 'https://open.s...   \n",
       "1  [{'external_urls': {'spotify': 'https://open.s...   \n",
       "2  [{'external_urls': {'spotify': 'https://open.s...   \n",
       "3  [{'external_urls': {'spotify': 'https://open.s...   \n",
       "4  [{'external_urls': {'spotify': 'https://open.s...   \n",
       "\n",
       "                                          track.href                track.id  \\\n",
       "0  https://api.spotify.com/v1/tracks/2AkcjsKlRbIB...  2AkcjsKlRbIBYGAgpQVFii   \n",
       "1  https://api.spotify.com/v1/tracks/3Z0n8POAcDQC...  3Z0n8POAcDQCSyxA06cqbW   \n",
       "2  https://api.spotify.com/v1/tracks/1ONolOLYjM97...  1ONolOLYjM977hgtqKzXmJ   \n",
       "3  https://api.spotify.com/v1/tracks/2rK5aTaCfPoS...  2rK5aTaCfPoSX0TqAW5YgV   \n",
       "4  https://api.spotify.com/v1/tracks/6lE5ACHHqeEk...  6lE5ACHHqeEk7nLciGJH3P   \n",
       "\n",
       "  track.is_local                             track.name  track.popularity  \\\n",
       "0          False  Comptine d'un autre été, l'après-midi              16.0   \n",
       "1          False                           Tone of Love              61.0   \n",
       "2          False                                Longing              56.0   \n",
       "3          False                                    Fin              61.0   \n",
       "4          False                              Florentin              58.0   \n",
       "\n",
       "  track.type owner.id  \n",
       "0      track  spotify  \n",
       "1      track  spotify  \n",
       "2      track  spotify  \n",
       "3      track  spotify  \n",
       "4      track  spotify  "
      ]
     },
     "execution_count": 18,
     "metadata": {},
     "output_type": "execute_result"
    }
   ],
   "source": [
    "songs_df.head()"
   ]
  },
  {
   "cell_type": "code",
   "execution_count": 19,
   "metadata": {},
   "outputs": [
    {
     "data": {
      "text/plain": [
       "(22531, 13)"
      ]
     },
     "execution_count": 19,
     "metadata": {},
     "output_type": "execute_result"
    }
   ],
   "source": [
    "songs_df.shape"
   ]
  },
  {
   "cell_type": "code",
   "execution_count": 20,
   "metadata": {},
   "outputs": [
    {
     "name": "stdout",
     "output_type": "stream",
     "text": [
      "<class 'pandas.core.frame.DataFrame'>\n",
      "RangeIndex: 22531 entries, 0 to 22530\n",
      "Data columns (total 13 columns):\n",
      "track.album.href            22167 non-null object\n",
      "track.album.id              22167 non-null object\n",
      "track.album.name            22528 non-null object\n",
      "track.album.release_date    22167 non-null object\n",
      "track.album.type            22528 non-null object\n",
      "track.artists               22528 non-null object\n",
      "track.href                  22167 non-null object\n",
      "track.id                    22167 non-null object\n",
      "track.is_local              22528 non-null object\n",
      "track.name                  22528 non-null object\n",
      "track.popularity            22528 non-null float64\n",
      "track.type                  22528 non-null object\n",
      "owner.id                    22531 non-null object\n",
      "dtypes: float64(1), object(12)\n",
      "memory usage: 2.2+ MB\n"
     ]
    }
   ],
   "source": [
    "songs_df.info()"
   ]
  },
  {
   "cell_type": "markdown",
   "metadata": {},
   "source": [
    "### 6. Extract artist information:"
   ]
  },
  {
   "cell_type": "markdown",
   "metadata": {},
   "source": [
    "#### Defining a function to extract (by means of flattenning) the artist of the songs_df:"
   ]
  },
  {
   "cell_type": "code",
   "execution_count": 21,
   "metadata": {},
   "outputs": [],
   "source": [
    "def artist_extractor(item):\n",
    "    if type(item) == float:\n",
    "        return []\n",
    "    else:\n",
    "        artist_df = json_normalize(item)\n",
    "        artist_list = [str(artist_df['name'][i]) for i in range(len(artist_df))]\n",
    "        return artist_list"
   ]
  },
  {
   "cell_type": "markdown",
   "metadata": {},
   "source": [
    "#### Applying the function to the whole 'track.artists' column in order to change the json information for a more readable list of artists:"
   ]
  },
  {
   "cell_type": "code",
   "execution_count": 22,
   "metadata": {},
   "outputs": [],
   "source": [
    "songs_df['track.artists'] = songs_df['track.artists'].apply(artist_extractor)"
   ]
  },
  {
   "cell_type": "markdown",
   "metadata": {},
   "source": [
    "#### songs_df information, cleaning, and export:"
   ]
  },
  {
   "cell_type": "code",
   "execution_count": 23,
   "metadata": {},
   "outputs": [
    {
     "data": {
      "text/html": [
       "<div>\n",
       "<style scoped>\n",
       "    .dataframe tbody tr th:only-of-type {\n",
       "        vertical-align: middle;\n",
       "    }\n",
       "\n",
       "    .dataframe tbody tr th {\n",
       "        vertical-align: top;\n",
       "    }\n",
       "\n",
       "    .dataframe thead th {\n",
       "        text-align: right;\n",
       "    }\n",
       "</style>\n",
       "<table border=\"1\" class=\"dataframe\">\n",
       "  <thead>\n",
       "    <tr style=\"text-align: right;\">\n",
       "      <th></th>\n",
       "      <th>track.album.href</th>\n",
       "      <th>track.album.id</th>\n",
       "      <th>track.album.name</th>\n",
       "      <th>track.album.release_date</th>\n",
       "      <th>track.album.type</th>\n",
       "      <th>track.artists</th>\n",
       "      <th>track.href</th>\n",
       "      <th>track.id</th>\n",
       "      <th>track.is_local</th>\n",
       "      <th>track.name</th>\n",
       "      <th>track.popularity</th>\n",
       "      <th>track.type</th>\n",
       "      <th>owner.id</th>\n",
       "    </tr>\n",
       "  </thead>\n",
       "  <tbody>\n",
       "    <tr>\n",
       "      <th>0</th>\n",
       "      <td>https://api.spotify.com/v1/albums/6hzdQgjn3wTJ...</td>\n",
       "      <td>6hzdQgjn3wTJhOUI4cVKu2</td>\n",
       "      <td>Amelie from Montmartre</td>\n",
       "      <td>2001-04-23</td>\n",
       "      <td>album</td>\n",
       "      <td>[Yann Tiersen]</td>\n",
       "      <td>https://api.spotify.com/v1/tracks/2AkcjsKlRbIB...</td>\n",
       "      <td>2AkcjsKlRbIBYGAgpQVFii</td>\n",
       "      <td>False</td>\n",
       "      <td>Comptine d'un autre été, l'après-midi</td>\n",
       "      <td>16.0</td>\n",
       "      <td>track</td>\n",
       "      <td>spotify</td>\n",
       "    </tr>\n",
       "    <tr>\n",
       "      <th>1</th>\n",
       "      <td>https://api.spotify.com/v1/albums/5Q23RuwpOqhN...</td>\n",
       "      <td>5Q23RuwpOqhN28KtBOdnGp</td>\n",
       "      <td>Tone of Love</td>\n",
       "      <td>2019-03-23</td>\n",
       "      <td>album</td>\n",
       "      <td>[Charles Bolt]</td>\n",
       "      <td>https://api.spotify.com/v1/tracks/3Z0n8POAcDQC...</td>\n",
       "      <td>3Z0n8POAcDQCSyxA06cqbW</td>\n",
       "      <td>False</td>\n",
       "      <td>Tone of Love</td>\n",
       "      <td>61.0</td>\n",
       "      <td>track</td>\n",
       "      <td>spotify</td>\n",
       "    </tr>\n",
       "    <tr>\n",
       "      <th>2</th>\n",
       "      <td>https://api.spotify.com/v1/albums/2rK7rji9Qxaf...</td>\n",
       "      <td>2rK7rji9Qxafhao5PFXtu5</td>\n",
       "      <td>Longing</td>\n",
       "      <td>2019-05-30</td>\n",
       "      <td>album</td>\n",
       "      <td>[Joaquin Mans]</td>\n",
       "      <td>https://api.spotify.com/v1/tracks/1ONolOLYjM97...</td>\n",
       "      <td>1ONolOLYjM977hgtqKzXmJ</td>\n",
       "      <td>False</td>\n",
       "      <td>Longing</td>\n",
       "      <td>56.0</td>\n",
       "      <td>track</td>\n",
       "      <td>spotify</td>\n",
       "    </tr>\n",
       "    <tr>\n",
       "      <th>3</th>\n",
       "      <td>https://api.spotify.com/v1/albums/4zojkjd8Enxh...</td>\n",
       "      <td>4zojkjd8EnxhvBQAx1Nd4W</td>\n",
       "      <td>En t'attendant</td>\n",
       "      <td>2011-05-02</td>\n",
       "      <td>album</td>\n",
       "      <td>[Mélanie Laurent]</td>\n",
       "      <td>https://api.spotify.com/v1/tracks/2rK5aTaCfPoS...</td>\n",
       "      <td>2rK5aTaCfPoSX0TqAW5YgV</td>\n",
       "      <td>False</td>\n",
       "      <td>Fin</td>\n",
       "      <td>61.0</td>\n",
       "      <td>track</td>\n",
       "      <td>spotify</td>\n",
       "    </tr>\n",
       "    <tr>\n",
       "      <th>4</th>\n",
       "      <td>https://api.spotify.com/v1/albums/6AUPQJfBYnyw...</td>\n",
       "      <td>6AUPQJfBYnyw47dZ9V0w89</td>\n",
       "      <td>Florentin</td>\n",
       "      <td>2019-04-03</td>\n",
       "      <td>album</td>\n",
       "      <td>[Joaquin Alejandro]</td>\n",
       "      <td>https://api.spotify.com/v1/tracks/6lE5ACHHqeEk...</td>\n",
       "      <td>6lE5ACHHqeEk7nLciGJH3P</td>\n",
       "      <td>False</td>\n",
       "      <td>Florentin</td>\n",
       "      <td>58.0</td>\n",
       "      <td>track</td>\n",
       "      <td>spotify</td>\n",
       "    </tr>\n",
       "  </tbody>\n",
       "</table>\n",
       "</div>"
      ],
      "text/plain": [
       "                                    track.album.href          track.album.id  \\\n",
       "0  https://api.spotify.com/v1/albums/6hzdQgjn3wTJ...  6hzdQgjn3wTJhOUI4cVKu2   \n",
       "1  https://api.spotify.com/v1/albums/5Q23RuwpOqhN...  5Q23RuwpOqhN28KtBOdnGp   \n",
       "2  https://api.spotify.com/v1/albums/2rK7rji9Qxaf...  2rK7rji9Qxafhao5PFXtu5   \n",
       "3  https://api.spotify.com/v1/albums/4zojkjd8Enxh...  4zojkjd8EnxhvBQAx1Nd4W   \n",
       "4  https://api.spotify.com/v1/albums/6AUPQJfBYnyw...  6AUPQJfBYnyw47dZ9V0w89   \n",
       "\n",
       "         track.album.name track.album.release_date track.album.type  \\\n",
       "0  Amelie from Montmartre               2001-04-23            album   \n",
       "1            Tone of Love               2019-03-23            album   \n",
       "2                 Longing               2019-05-30            album   \n",
       "3          En t'attendant               2011-05-02            album   \n",
       "4               Florentin               2019-04-03            album   \n",
       "\n",
       "         track.artists                                         track.href  \\\n",
       "0       [Yann Tiersen]  https://api.spotify.com/v1/tracks/2AkcjsKlRbIB...   \n",
       "1       [Charles Bolt]  https://api.spotify.com/v1/tracks/3Z0n8POAcDQC...   \n",
       "2       [Joaquin Mans]  https://api.spotify.com/v1/tracks/1ONolOLYjM97...   \n",
       "3    [Mélanie Laurent]  https://api.spotify.com/v1/tracks/2rK5aTaCfPoS...   \n",
       "4  [Joaquin Alejandro]  https://api.spotify.com/v1/tracks/6lE5ACHHqeEk...   \n",
       "\n",
       "                 track.id track.is_local  \\\n",
       "0  2AkcjsKlRbIBYGAgpQVFii          False   \n",
       "1  3Z0n8POAcDQCSyxA06cqbW          False   \n",
       "2  1ONolOLYjM977hgtqKzXmJ          False   \n",
       "3  2rK5aTaCfPoSX0TqAW5YgV          False   \n",
       "4  6lE5ACHHqeEk7nLciGJH3P          False   \n",
       "\n",
       "                              track.name  track.popularity track.type owner.id  \n",
       "0  Comptine d'un autre été, l'après-midi              16.0      track  spotify  \n",
       "1                           Tone of Love              61.0      track  spotify  \n",
       "2                                Longing              56.0      track  spotify  \n",
       "3                                    Fin              61.0      track  spotify  \n",
       "4                              Florentin              58.0      track  spotify  "
      ]
     },
     "execution_count": 23,
     "metadata": {},
     "output_type": "execute_result"
    }
   ],
   "source": [
    "songs_df.head()"
   ]
  },
  {
   "cell_type": "code",
   "execution_count": 24,
   "metadata": {},
   "outputs": [
    {
     "data": {
      "text/plain": [
       "(22531, 13)"
      ]
     },
     "execution_count": 24,
     "metadata": {},
     "output_type": "execute_result"
    }
   ],
   "source": [
    "songs_df.shape"
   ]
  },
  {
   "cell_type": "code",
   "execution_count": 25,
   "metadata": {},
   "outputs": [
    {
     "name": "stdout",
     "output_type": "stream",
     "text": [
      "<class 'pandas.core.frame.DataFrame'>\n",
      "RangeIndex: 22531 entries, 0 to 22530\n",
      "Data columns (total 13 columns):\n",
      "track.album.href            22167 non-null object\n",
      "track.album.id              22167 non-null object\n",
      "track.album.name            22528 non-null object\n",
      "track.album.release_date    22167 non-null object\n",
      "track.album.type            22528 non-null object\n",
      "track.artists               22531 non-null object\n",
      "track.href                  22167 non-null object\n",
      "track.id                    22167 non-null object\n",
      "track.is_local              22528 non-null object\n",
      "track.name                  22528 non-null object\n",
      "track.popularity            22528 non-null float64\n",
      "track.type                  22528 non-null object\n",
      "owner.id                    22531 non-null object\n",
      "dtypes: float64(1), object(12)\n",
      "memory usage: 2.2+ MB\n"
     ]
    }
   ],
   "source": [
    "songs_df.info()"
   ]
  },
  {
   "cell_type": "markdown",
   "metadata": {},
   "source": [
    "Deleting all rows that are local songs:"
   ]
  },
  {
   "cell_type": "code",
   "execution_count": 26,
   "metadata": {},
   "outputs": [],
   "source": [
    "# Excluding all rows where .is_local is True\n",
    "songs_df = songs_df[songs_df['track.is_local'] == False]"
   ]
  },
  {
   "cell_type": "markdown",
   "metadata": {},
   "source": [
    "Rearranging columns:"
   ]
  },
  {
   "cell_type": "code",
   "execution_count": 27,
   "metadata": {},
   "outputs": [],
   "source": [
    "songs_df = songs_df[['track.popularity', 'track.name', 'track.artists', \n",
    "             'track.album.name','track.href', 'track.album.href', \n",
    "             'track.id', 'track.album.id', 'track.album.release_date',\n",
    "             'track.type', 'track.album.type', 'track.is_local', 'owner.id']]"
   ]
  },
  {
   "cell_type": "markdown",
   "metadata": {},
   "source": [
    "Renaming columns:"
   ]
  },
  {
   "cell_type": "code",
   "execution_count": 28,
   "metadata": {},
   "outputs": [],
   "source": [
    "# Replaces colon for underscore to adapt column names to snake case:\n",
    "snake_cols = [i.replace('.','_') for i in songs_df.columns]\n",
    "\n",
    "# Changes column names\n",
    "songs_df.columns = snake_cols"
   ]
  },
  {
   "cell_type": "code",
   "execution_count": 29,
   "metadata": {},
   "outputs": [
    {
     "data": {
      "text/plain": [
       "(22167, 13)"
      ]
     },
     "execution_count": 29,
     "metadata": {},
     "output_type": "execute_result"
    }
   ],
   "source": [
    "songs_df.shape"
   ]
  },
  {
   "cell_type": "code",
   "execution_count": 30,
   "metadata": {},
   "outputs": [
    {
     "data": {
      "text/html": [
       "<div>\n",
       "<style scoped>\n",
       "    .dataframe tbody tr th:only-of-type {\n",
       "        vertical-align: middle;\n",
       "    }\n",
       "\n",
       "    .dataframe tbody tr th {\n",
       "        vertical-align: top;\n",
       "    }\n",
       "\n",
       "    .dataframe thead th {\n",
       "        text-align: right;\n",
       "    }\n",
       "</style>\n",
       "<table border=\"1\" class=\"dataframe\">\n",
       "  <thead>\n",
       "    <tr style=\"text-align: right;\">\n",
       "      <th></th>\n",
       "      <th>track_popularity</th>\n",
       "      <th>track_name</th>\n",
       "      <th>track_artists</th>\n",
       "      <th>track_album_name</th>\n",
       "      <th>track_href</th>\n",
       "      <th>track_album_href</th>\n",
       "      <th>track_id</th>\n",
       "      <th>track_album_id</th>\n",
       "      <th>track_album_release_date</th>\n",
       "      <th>track_type</th>\n",
       "      <th>track_album_type</th>\n",
       "      <th>track_is_local</th>\n",
       "      <th>owner_id</th>\n",
       "    </tr>\n",
       "  </thead>\n",
       "  <tbody>\n",
       "    <tr>\n",
       "      <th>0</th>\n",
       "      <td>16.0</td>\n",
       "      <td>Comptine d'un autre été, l'après-midi</td>\n",
       "      <td>[Yann Tiersen]</td>\n",
       "      <td>Amelie from Montmartre</td>\n",
       "      <td>https://api.spotify.com/v1/tracks/2AkcjsKlRbIB...</td>\n",
       "      <td>https://api.spotify.com/v1/albums/6hzdQgjn3wTJ...</td>\n",
       "      <td>2AkcjsKlRbIBYGAgpQVFii</td>\n",
       "      <td>6hzdQgjn3wTJhOUI4cVKu2</td>\n",
       "      <td>2001-04-23</td>\n",
       "      <td>track</td>\n",
       "      <td>album</td>\n",
       "      <td>False</td>\n",
       "      <td>spotify</td>\n",
       "    </tr>\n",
       "    <tr>\n",
       "      <th>1</th>\n",
       "      <td>61.0</td>\n",
       "      <td>Tone of Love</td>\n",
       "      <td>[Charles Bolt]</td>\n",
       "      <td>Tone of Love</td>\n",
       "      <td>https://api.spotify.com/v1/tracks/3Z0n8POAcDQC...</td>\n",
       "      <td>https://api.spotify.com/v1/albums/5Q23RuwpOqhN...</td>\n",
       "      <td>3Z0n8POAcDQCSyxA06cqbW</td>\n",
       "      <td>5Q23RuwpOqhN28KtBOdnGp</td>\n",
       "      <td>2019-03-23</td>\n",
       "      <td>track</td>\n",
       "      <td>album</td>\n",
       "      <td>False</td>\n",
       "      <td>spotify</td>\n",
       "    </tr>\n",
       "    <tr>\n",
       "      <th>2</th>\n",
       "      <td>56.0</td>\n",
       "      <td>Longing</td>\n",
       "      <td>[Joaquin Mans]</td>\n",
       "      <td>Longing</td>\n",
       "      <td>https://api.spotify.com/v1/tracks/1ONolOLYjM97...</td>\n",
       "      <td>https://api.spotify.com/v1/albums/2rK7rji9Qxaf...</td>\n",
       "      <td>1ONolOLYjM977hgtqKzXmJ</td>\n",
       "      <td>2rK7rji9Qxafhao5PFXtu5</td>\n",
       "      <td>2019-05-30</td>\n",
       "      <td>track</td>\n",
       "      <td>album</td>\n",
       "      <td>False</td>\n",
       "      <td>spotify</td>\n",
       "    </tr>\n",
       "    <tr>\n",
       "      <th>3</th>\n",
       "      <td>61.0</td>\n",
       "      <td>Fin</td>\n",
       "      <td>[Mélanie Laurent]</td>\n",
       "      <td>En t'attendant</td>\n",
       "      <td>https://api.spotify.com/v1/tracks/2rK5aTaCfPoS...</td>\n",
       "      <td>https://api.spotify.com/v1/albums/4zojkjd8Enxh...</td>\n",
       "      <td>2rK5aTaCfPoSX0TqAW5YgV</td>\n",
       "      <td>4zojkjd8EnxhvBQAx1Nd4W</td>\n",
       "      <td>2011-05-02</td>\n",
       "      <td>track</td>\n",
       "      <td>album</td>\n",
       "      <td>False</td>\n",
       "      <td>spotify</td>\n",
       "    </tr>\n",
       "    <tr>\n",
       "      <th>4</th>\n",
       "      <td>58.0</td>\n",
       "      <td>Florentin</td>\n",
       "      <td>[Joaquin Alejandro]</td>\n",
       "      <td>Florentin</td>\n",
       "      <td>https://api.spotify.com/v1/tracks/6lE5ACHHqeEk...</td>\n",
       "      <td>https://api.spotify.com/v1/albums/6AUPQJfBYnyw...</td>\n",
       "      <td>6lE5ACHHqeEk7nLciGJH3P</td>\n",
       "      <td>6AUPQJfBYnyw47dZ9V0w89</td>\n",
       "      <td>2019-04-03</td>\n",
       "      <td>track</td>\n",
       "      <td>album</td>\n",
       "      <td>False</td>\n",
       "      <td>spotify</td>\n",
       "    </tr>\n",
       "  </tbody>\n",
       "</table>\n",
       "</div>"
      ],
      "text/plain": [
       "   track_popularity                             track_name  \\\n",
       "0              16.0  Comptine d'un autre été, l'après-midi   \n",
       "1              61.0                           Tone of Love   \n",
       "2              56.0                                Longing   \n",
       "3              61.0                                    Fin   \n",
       "4              58.0                              Florentin   \n",
       "\n",
       "         track_artists        track_album_name  \\\n",
       "0       [Yann Tiersen]  Amelie from Montmartre   \n",
       "1       [Charles Bolt]            Tone of Love   \n",
       "2       [Joaquin Mans]                 Longing   \n",
       "3    [Mélanie Laurent]          En t'attendant   \n",
       "4  [Joaquin Alejandro]               Florentin   \n",
       "\n",
       "                                          track_href  \\\n",
       "0  https://api.spotify.com/v1/tracks/2AkcjsKlRbIB...   \n",
       "1  https://api.spotify.com/v1/tracks/3Z0n8POAcDQC...   \n",
       "2  https://api.spotify.com/v1/tracks/1ONolOLYjM97...   \n",
       "3  https://api.spotify.com/v1/tracks/2rK5aTaCfPoS...   \n",
       "4  https://api.spotify.com/v1/tracks/6lE5ACHHqeEk...   \n",
       "\n",
       "                                    track_album_href                track_id  \\\n",
       "0  https://api.spotify.com/v1/albums/6hzdQgjn3wTJ...  2AkcjsKlRbIBYGAgpQVFii   \n",
       "1  https://api.spotify.com/v1/albums/5Q23RuwpOqhN...  3Z0n8POAcDQCSyxA06cqbW   \n",
       "2  https://api.spotify.com/v1/albums/2rK7rji9Qxaf...  1ONolOLYjM977hgtqKzXmJ   \n",
       "3  https://api.spotify.com/v1/albums/4zojkjd8Enxh...  2rK5aTaCfPoSX0TqAW5YgV   \n",
       "4  https://api.spotify.com/v1/albums/6AUPQJfBYnyw...  6lE5ACHHqeEk7nLciGJH3P   \n",
       "\n",
       "           track_album_id track_album_release_date track_type  \\\n",
       "0  6hzdQgjn3wTJhOUI4cVKu2               2001-04-23      track   \n",
       "1  5Q23RuwpOqhN28KtBOdnGp               2019-03-23      track   \n",
       "2  2rK7rji9Qxafhao5PFXtu5               2019-05-30      track   \n",
       "3  4zojkjd8EnxhvBQAx1Nd4W               2011-05-02      track   \n",
       "4  6AUPQJfBYnyw47dZ9V0w89               2019-04-03      track   \n",
       "\n",
       "  track_album_type track_is_local owner_id  \n",
       "0            album          False  spotify  \n",
       "1            album          False  spotify  \n",
       "2            album          False  spotify  \n",
       "3            album          False  spotify  \n",
       "4            album          False  spotify  "
      ]
     },
     "execution_count": 30,
     "metadata": {},
     "output_type": "execute_result"
    }
   ],
   "source": [
    "songs_df.head()"
   ]
  },
  {
   "cell_type": "markdown",
   "metadata": {},
   "source": [
    "Dropping duplicates:"
   ]
  },
  {
   "cell_type": "code",
   "execution_count": 31,
   "metadata": {},
   "outputs": [],
   "source": [
    "songs_df = songs_df.drop_duplicates(subset='track_id')"
   ]
  },
  {
   "cell_type": "code",
   "execution_count": 32,
   "metadata": {},
   "outputs": [
    {
     "data": {
      "text/plain": [
       "(17438, 13)"
      ]
     },
     "execution_count": 32,
     "metadata": {},
     "output_type": "execute_result"
    }
   ],
   "source": [
    "songs_df.shape"
   ]
  },
  {
   "cell_type": "markdown",
   "metadata": {},
   "source": [
    "Exporting raw dataframe:"
   ]
  },
  {
   "cell_type": "code",
   "execution_count": 33,
   "metadata": {},
   "outputs": [],
   "source": [
    "#Exporting:\n",
    "songs_raw_export = songs_df.to_csv('%s/output/spotify_songs_raw.csv'%PATH, index=False)"
   ]
  },
  {
   "cell_type": "markdown",
   "metadata": {},
   "source": [
    "#### Filtering by owner (deleting songs of followed playlists):"
   ]
  },
  {
   "cell_type": "code",
   "execution_count": 34,
   "metadata": {},
   "outputs": [],
   "source": [
    "# Excludes all rows where owner.id is not in initial list of friends\n",
    "songs_filtered = songs_df.loc[songs_df['owner_id'].isin(friends)]"
   ]
  },
  {
   "cell_type": "code",
   "execution_count": 35,
   "metadata": {},
   "outputs": [
    {
     "data": {
      "text/plain": [
       "(10655, 13)"
      ]
     },
     "execution_count": 35,
     "metadata": {},
     "output_type": "execute_result"
    }
   ],
   "source": [
    "songs_filtered.shape"
   ]
  },
  {
   "cell_type": "code",
   "execution_count": 36,
   "metadata": {
    "scrolled": true
   },
   "outputs": [
    {
     "data": {
      "text/plain": [
       "aechos               1763\n",
       "popersea             1373\n",
       "elyp                 1344\n",
       "pau_ik               1072\n",
       "angelus_              853\n",
       "brunocossio           643\n",
       "dannig012             624\n",
       "chicareversible       529\n",
       "42416345k             515\n",
       "alequijada            388\n",
       "amane88               386\n",
       "nestorviolin          359\n",
       "elsapato              313\n",
       "marc.vallvebernal     281\n",
       "jluisite              212\n",
       "Name: owner_id, dtype: int64"
      ]
     },
     "execution_count": 36,
     "metadata": {},
     "output_type": "execute_result"
    }
   ],
   "source": [
    "songs_filtered['owner_id'].value_counts()"
   ]
  },
  {
   "cell_type": "markdown",
   "metadata": {},
   "source": [
    "Exporting filtered dataframe:"
   ]
  },
  {
   "cell_type": "code",
   "execution_count": 37,
   "metadata": {},
   "outputs": [],
   "source": [
    "#Exporting:\n",
    "songs_filtered_export = songs_filtered.to_csv('%s/output/spotify_songs_filtered.csv'%PATH, index=False)"
   ]
  }
 ],
 "metadata": {
  "kernelspec": {
   "display_name": "Python 3",
   "language": "python",
   "name": "python3"
  },
  "language_info": {
   "codemirror_mode": {
    "name": "ipython",
    "version": 3
   },
   "file_extension": ".py",
   "mimetype": "text/x-python",
   "name": "python",
   "nbconvert_exporter": "python",
   "pygments_lexer": "ipython3",
   "version": "3.6.8"
  }
 },
 "nbformat": 4,
 "nbformat_minor": 2
}
