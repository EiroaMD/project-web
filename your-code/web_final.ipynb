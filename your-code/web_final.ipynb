{
 "cells": [
  {
   "cell_type": "markdown",
   "metadata": {},
   "source": [
    "# Web Scraping project "
   ]
  },
  {
   "cell_type": "markdown",
   "metadata": {},
   "source": [
    "## 1. Import libraries and set  options for visualization:"
   ]
  },
  {
   "cell_type": "code",
   "execution_count": 1,
   "metadata": {},
   "outputs": [],
   "source": [
    "import requests \n",
    "from bs4 import BeautifulSoup\n",
    "import numpy as np\n",
    "import pandas as pd\n",
    "import time\n",
    "import os\n",
    "\n",
    "# Setting options for DataFrame visualization:\n",
    "pd.set_option('display.width', 1000)\n",
    "pd.set_option('display.max_columns', 25)"
   ]
  },
  {
   "cell_type": "markdown",
   "metadata": {},
   "source": [
    "## 2. Creating final dataframe and defining a random sleep interval function and a random user agent function:"
   ]
  },
  {
   "cell_type": "markdown",
   "metadata": {},
   "source": [
    "Setting path for export:"
   ]
  },
  {
   "cell_type": "code",
   "execution_count": 2,
   "metadata": {},
   "outputs": [],
   "source": [
    "PATH = os.getcwd()"
   ]
  },
  {
   "cell_type": "markdown",
   "metadata": {},
   "source": [
    "Individual dataframes for each year will be appended here:"
   ]
  },
  {
   "cell_type": "code",
   "execution_count": 3,
   "metadata": {},
   "outputs": [],
   "source": [
    "hits_spain = pd.DataFrame()"
   ]
  },
  {
   "cell_type": "markdown",
   "metadata": {},
   "source": [
    "A random sleep interval generator is defined:"
   ]
  },
  {
   "cell_type": "code",
   "execution_count": 4,
   "metadata": {},
   "outputs": [],
   "source": [
    "def delay():\n",
    "    delay_list = [i for i in range(13)]\n",
    "    lag = np.random.choice(delay_list)\n",
    "    return lag"
   ]
  },
  {
   "cell_type": "markdown",
   "metadata": {},
   "source": [
    "A random user agent generator is defined:"
   ]
  },
  {
   "cell_type": "code",
   "execution_count": 5,
   "metadata": {},
   "outputs": [],
   "source": [
    "def get_random_ua():\n",
    "    random_ua = ''\n",
    "    ua_file = 'ua_file.txt'\n",
    "    try:\n",
    "        with open(ua_file) as f:\n",
    "            lines = f.readlines()\n",
    "        if len(lines) > 0:\n",
    "            prng = np.random.RandomState()\n",
    "            index = prng.permutation(len(lines) - 1)\n",
    "            idx = np.asarray(index, dtype=np.integer)[0]\n",
    "            random_ua = lines[int(idx)]\n",
    "    except Exception as ex:\n",
    "        print('Exception in random_ua')\n",
    "        print(str(ex))\n",
    "    finally:\n",
    "        return random_ua"
   ]
  },
  {
   "cell_type": "markdown",
   "metadata": {},
   "source": [
    "## 3. Loop to iterate over urls for the last 10 years:"
   ]
  },
  {
   "cell_type": "markdown",
   "metadata": {},
   "source": [
    "A dictionary is created containing the year as a key and the url as a value"
   ]
  },
  {
   "cell_type": "code",
   "execution_count": 6,
   "metadata": {},
   "outputs": [],
   "source": [
    "url_dict = {}\n",
    "# The pattern of url changes in 2016, that's why two subloops are created:\n",
    "for i in range(2011,2020):\n",
    "    if i < 2016:\n",
    "        url_dict[i] = 'https://es.wikipedia.org/wiki/Anexo:Los_n%C3%BAmeros_uno_de_Los_40_Principales_(Espa%C3%B1a)_'+str(i)\n",
    "    else:\n",
    "        url_dict[i] = 'https://es.wikipedia.org/wiki/Anexo:Los_n%C3%BAmeros_uno_de_LOS40_(Espa%C3%B1a)_'+str(i)"
   ]
  },
  {
   "cell_type": "code",
   "execution_count": 7,
   "metadata": {},
   "outputs": [
    {
     "data": {
      "text/plain": [
       "{2011: 'https://es.wikipedia.org/wiki/Anexo:Los_n%C3%BAmeros_uno_de_Los_40_Principales_(Espa%C3%B1a)_2011',\n",
       " 2012: 'https://es.wikipedia.org/wiki/Anexo:Los_n%C3%BAmeros_uno_de_Los_40_Principales_(Espa%C3%B1a)_2012',\n",
       " 2013: 'https://es.wikipedia.org/wiki/Anexo:Los_n%C3%BAmeros_uno_de_Los_40_Principales_(Espa%C3%B1a)_2013',\n",
       " 2014: 'https://es.wikipedia.org/wiki/Anexo:Los_n%C3%BAmeros_uno_de_Los_40_Principales_(Espa%C3%B1a)_2014',\n",
       " 2015: 'https://es.wikipedia.org/wiki/Anexo:Los_n%C3%BAmeros_uno_de_Los_40_Principales_(Espa%C3%B1a)_2015',\n",
       " 2016: 'https://es.wikipedia.org/wiki/Anexo:Los_n%C3%BAmeros_uno_de_LOS40_(Espa%C3%B1a)_2016',\n",
       " 2017: 'https://es.wikipedia.org/wiki/Anexo:Los_n%C3%BAmeros_uno_de_LOS40_(Espa%C3%B1a)_2017',\n",
       " 2018: 'https://es.wikipedia.org/wiki/Anexo:Los_n%C3%BAmeros_uno_de_LOS40_(Espa%C3%B1a)_2018',\n",
       " 2019: 'https://es.wikipedia.org/wiki/Anexo:Los_n%C3%BAmeros_uno_de_LOS40_(Espa%C3%B1a)_2019'}"
      ]
     },
     "execution_count": 7,
     "metadata": {},
     "output_type": "execute_result"
    }
   ],
   "source": [
    "url_dict"
   ]
  },
  {
   "cell_type": "markdown",
   "metadata": {},
   "source": [
    "## 4. Defining functions to clean the information that is going to be retrieved:"
   ]
  },
  {
   "cell_type": "code",
   "execution_count": 8,
   "metadata": {},
   "outputs": [],
   "source": [
    "def list_cleaner(input_list):\n",
    "    '''\n",
    "    This function 'cleans' the artist result, as sometimes there is\n",
    "    more than one artist, and the connectors may vary (mostly 'y' and 'con')\n",
    "    '''\n",
    "    output_list = [i.replace(' y ', ', ') for i in input_list]\n",
    "    output_list = [i.replace(' con ', ', ') for i in output_list]\n",
    "    output_list = [i.split(', ') for i in output_list]\n",
    "    return output_list\n",
    "\n",
    "def info_finder(items, info):\n",
    "    '''\n",
    "    This function extracts artists and title information from every item\n",
    "    of the provided list.\n",
    "    It considers the cases where a title/artists is in the numer 1 for more\n",
    "    than one week.\n",
    "    '''\n",
    "    info_list = []\n",
    "    if info == 'titles':\n",
    "        subindex = 1\n",
    "    elif info == 'artists':\n",
    "        subindex = 2\n",
    "    else:\n",
    "        return 'Error: for now you can only extract info for \"titles\" or \"artists\"'\n",
    "    \n",
    "    for i in range(1,len(items)): #because items[0] is an empty list.\n",
    "        # if an elif are to avoid empty elements when there is more than one week with the same number 1\n",
    "        if len(items[i]) != 4 and len(items[i-1]) == 4:\n",
    "            a = items[i-1][subindex].get_text().replace('\\n','')\n",
    "            info_list.append(a)\n",
    "        elif len(items[i]) != 4 and len(items[i-1]) != 4:\n",
    "            a = items[i-2][subindex].get_text().replace('\\n','')\n",
    "            info_list.append(a)\n",
    "        elif len(items[i]) != 4 and len(items[i-1]) != 4 and len(items[i-2]) != 4:\n",
    "            a = items[i-3][subindex].get_text().replace('\\n','')\n",
    "            info_list.append(a)\n",
    "        else:\n",
    "            a = items[i][subindex].get_text().replace('\\n','')\n",
    "            info_list.append(a)\n",
    "    else:\n",
    "        return info_list"
   ]
  },
  {
   "cell_type": "markdown",
   "metadata": {},
   "source": [
    "## 4. Loop to parse every url in url and extract the information:"
   ]
  },
  {
   "cell_type": "markdown",
   "metadata": {},
   "source": [
    "This loop parses the url, looks for tables (class:'wikitable'), extracts the information, insert it in a dataframe and appends it to the hits_df created itially:"
   ]
  },
  {
   "cell_type": "code",
   "execution_count": 9,
   "metadata": {},
   "outputs": [],
   "source": [
    "for key, value in url_dict.items():\n",
    "    df_year = pd.DataFrame()\n",
    "    # Requesting information from url and parsing it:\n",
    "    user_agent = get_random_ua().replace('\\n','')\n",
    "    headers = {'user_agent':user_agent}\n",
    "    url = value\n",
    "    request = requests.get(url, headers=headers)\n",
    "    web = request.text\n",
    "    soup = BeautifulSoup(web, 'html.parser')\n",
    "    \n",
    "    # Retrieving all tables:\n",
    "    tables = soup.find_all('table',{'class':'wikitable'})\n",
    "    \n",
    "    # Filtering the information found in the first table ([0]), which is the one that contains the needed info:\n",
    "    rows = [row for row in tables[0].find_all('tr')]\n",
    "\n",
    "    # Retrieving content of the table:\n",
    "    items = [row.find_all('td') for row in rows]\n",
    "    \n",
    "    # Retrieving list of dates:\n",
    "    # first [x] is for element of items lists\n",
    "    # second [x] is for element of each of the items: {0: date, 1:title, 2:artist}\n",
    "    # .replace to delete the linebreak\n",
    "    # starts in 1 because first element of items list is an empty list\n",
    "    dates = [items[i][0].get_text().replace('\\n','') for i in range(1,len(items))]\n",
    "    \n",
    "    # Retrieving list of titles and artists using info_finder function:\n",
    "    titles = info_finder(items,'titles')\n",
    "    artists = info_finder(items,'artists')\n",
    "    \n",
    "    # Cleaning artist list:\n",
    "    artists = list_cleaner(artists)\n",
    "    \n",
    "    # df is created and info is included:\n",
    "    info = {'year': key, 'week': range(1,len(dates)+1), 'date': dates, \n",
    "            'track': titles, 'artists': artists, 'url': value}   \n",
    "    temp = pd.DataFrame(info)\n",
    "    \n",
    "    # Appending local dataframe to main dataframe:\n",
    "    hits_spain = pd.concat([hits_spain,temp])\n",
    "    \n",
    "    # Setting the random timer between every loop:\n",
    "    delay()"
   ]
  },
  {
   "cell_type": "markdown",
   "metadata": {},
   "source": [
    "## 5. Explore and export final dataframe"
   ]
  },
  {
   "cell_type": "code",
   "execution_count": 10,
   "metadata": {},
   "outputs": [
    {
     "data": {
      "text/html": [
       "<div>\n",
       "<style scoped>\n",
       "    .dataframe tbody tr th:only-of-type {\n",
       "        vertical-align: middle;\n",
       "    }\n",
       "\n",
       "    .dataframe tbody tr th {\n",
       "        vertical-align: top;\n",
       "    }\n",
       "\n",
       "    .dataframe thead th {\n",
       "        text-align: right;\n",
       "    }\n",
       "</style>\n",
       "<table border=\"1\" class=\"dataframe\">\n",
       "  <thead>\n",
       "    <tr style=\"text-align: right;\">\n",
       "      <th></th>\n",
       "      <th>year</th>\n",
       "      <th>week</th>\n",
       "      <th>date</th>\n",
       "      <th>track</th>\n",
       "      <th>artists</th>\n",
       "      <th>url</th>\n",
       "    </tr>\n",
       "  </thead>\n",
       "  <tbody>\n",
       "    <tr>\n",
       "      <th>0</th>\n",
       "      <td>2011</td>\n",
       "      <td>1</td>\n",
       "      <td>1 de enero</td>\n",
       "      <td>Loca</td>\n",
       "      <td>[Shakira, El Cata]</td>\n",
       "      <td>https://es.wikipedia.org/wiki/Anexo:Los_n%C3%B...</td>\n",
       "    </tr>\n",
       "    <tr>\n",
       "      <th>1</th>\n",
       "      <td>2011</td>\n",
       "      <td>2</td>\n",
       "      <td>8 de enero</td>\n",
       "      <td>Barbie de extrarradio</td>\n",
       "      <td>[Melendi]</td>\n",
       "      <td>https://es.wikipedia.org/wiki/Anexo:Los_n%C3%B...</td>\n",
       "    </tr>\n",
       "    <tr>\n",
       "      <th>2</th>\n",
       "      <td>2011</td>\n",
       "      <td>3</td>\n",
       "      <td>15 de enero</td>\n",
       "      <td>Love the Way You Lie</td>\n",
       "      <td>[Eminem, Rihanna]</td>\n",
       "      <td>https://es.wikipedia.org/wiki/Anexo:Los_n%C3%B...</td>\n",
       "    </tr>\n",
       "    <tr>\n",
       "      <th>3</th>\n",
       "      <td>2011</td>\n",
       "      <td>4</td>\n",
       "      <td>22 de enero</td>\n",
       "      <td>The Time (Dirty Bit)</td>\n",
       "      <td>[The Black Eyed Peas]</td>\n",
       "      <td>https://es.wikipedia.org/wiki/Anexo:Los_n%C3%B...</td>\n",
       "    </tr>\n",
       "    <tr>\n",
       "      <th>4</th>\n",
       "      <td>2011</td>\n",
       "      <td>5</td>\n",
       "      <td>29 de enero</td>\n",
       "      <td>The Time (Dirty Bit)</td>\n",
       "      <td>[The Black Eyed Peas]</td>\n",
       "      <td>https://es.wikipedia.org/wiki/Anexo:Los_n%C3%B...</td>\n",
       "    </tr>\n",
       "  </tbody>\n",
       "</table>\n",
       "</div>"
      ],
      "text/plain": [
       "   year  week         date                  track                artists                                                url\n",
       "0  2011     1   1 de enero                   Loca     [Shakira, El Cata]  https://es.wikipedia.org/wiki/Anexo:Los_n%C3%B...\n",
       "1  2011     2   8 de enero  Barbie de extrarradio              [Melendi]  https://es.wikipedia.org/wiki/Anexo:Los_n%C3%B...\n",
       "2  2011     3  15 de enero   Love the Way You Lie      [Eminem, Rihanna]  https://es.wikipedia.org/wiki/Anexo:Los_n%C3%B...\n",
       "3  2011     4  22 de enero   The Time (Dirty Bit)  [The Black Eyed Peas]  https://es.wikipedia.org/wiki/Anexo:Los_n%C3%B...\n",
       "4  2011     5  29 de enero   The Time (Dirty Bit)  [The Black Eyed Peas]  https://es.wikipedia.org/wiki/Anexo:Los_n%C3%B..."
      ]
     },
     "execution_count": 10,
     "metadata": {},
     "output_type": "execute_result"
    }
   ],
   "source": [
    "hits_spain.head()"
   ]
  },
  {
   "cell_type": "markdown",
   "metadata": {},
   "source": [
    "Resetting df index:"
   ]
  },
  {
   "cell_type": "code",
   "execution_count": 11,
   "metadata": {},
   "outputs": [],
   "source": [
    "hits_spain.reset_index(drop=True, inplace=True)"
   ]
  },
  {
   "cell_type": "code",
   "execution_count": 12,
   "metadata": {},
   "outputs": [
    {
     "name": "stdout",
     "output_type": "stream",
     "text": [
      "<class 'pandas.core.frame.DataFrame'>\n",
      "RangeIndex: 447 entries, 0 to 446\n",
      "Data columns (total 6 columns):\n",
      "year       447 non-null int64\n",
      "week       447 non-null int64\n",
      "date       447 non-null object\n",
      "track      447 non-null object\n",
      "artists    447 non-null object\n",
      "url        447 non-null object\n",
      "dtypes: int64(2), object(4)\n",
      "memory usage: 21.0+ KB\n"
     ]
    }
   ],
   "source": [
    "hits_spain.info()"
   ]
  },
  {
   "cell_type": "markdown",
   "metadata": {},
   "source": [
    "Cleaning the quotation marks from songs in 2012 list:"
   ]
  },
  {
   "cell_type": "code",
   "execution_count": 13,
   "metadata": {},
   "outputs": [
    {
     "data": {
      "text/plain": [
       "(447, 6)"
      ]
     },
     "execution_count": 13,
     "metadata": {},
     "output_type": "execute_result"
    }
   ],
   "source": [
    "hits_spain.shape"
   ]
  },
  {
   "cell_type": "code",
   "execution_count": 14,
   "metadata": {},
   "outputs": [
    {
     "data": {
      "text/html": [
       "<div>\n",
       "<style scoped>\n",
       "    .dataframe tbody tr th:only-of-type {\n",
       "        vertical-align: middle;\n",
       "    }\n",
       "\n",
       "    .dataframe tbody tr th {\n",
       "        vertical-align: top;\n",
       "    }\n",
       "\n",
       "    .dataframe thead th {\n",
       "        text-align: right;\n",
       "    }\n",
       "</style>\n",
       "<table border=\"1\" class=\"dataframe\">\n",
       "  <thead>\n",
       "    <tr style=\"text-align: right;\">\n",
       "      <th></th>\n",
       "      <th>year</th>\n",
       "      <th>week</th>\n",
       "      <th>date</th>\n",
       "      <th>track</th>\n",
       "      <th>artists</th>\n",
       "      <th>url</th>\n",
       "    </tr>\n",
       "  </thead>\n",
       "  <tbody>\n",
       "    <tr>\n",
       "      <th>53</th>\n",
       "      <td>2012</td>\n",
       "      <td>1</td>\n",
       "      <td>7 de enero</td>\n",
       "      <td>«Someone like You»</td>\n",
       "      <td>[Adele]</td>\n",
       "      <td>https://es.wikipedia.org/wiki/Anexo:Los_n%C3%B...</td>\n",
       "    </tr>\n",
       "    <tr>\n",
       "      <th>54</th>\n",
       "      <td>2012</td>\n",
       "      <td>2</td>\n",
       "      <td>14 de enero</td>\n",
       "      <td>«Someone like You»</td>\n",
       "      <td>[Adele]</td>\n",
       "      <td>https://es.wikipedia.org/wiki/Anexo:Los_n%C3%B...</td>\n",
       "    </tr>\n",
       "    <tr>\n",
       "      <th>55</th>\n",
       "      <td>2012</td>\n",
       "      <td>3</td>\n",
       "      <td>21 de enero</td>\n",
       "      <td>«Ai se eu te pego!»</td>\n",
       "      <td>[Michel Teló]</td>\n",
       "      <td>https://es.wikipedia.org/wiki/Anexo:Los_n%C3%B...</td>\n",
       "    </tr>\n",
       "    <tr>\n",
       "      <th>56</th>\n",
       "      <td>2012</td>\n",
       "      <td>4</td>\n",
       "      <td>28 de enero</td>\n",
       "      <td>«Someone like You»</td>\n",
       "      <td>[Adele]</td>\n",
       "      <td>https://es.wikipedia.org/wiki/Anexo:Los_n%C3%B...</td>\n",
       "    </tr>\n",
       "    <tr>\n",
       "      <th>57</th>\n",
       "      <td>2012</td>\n",
       "      <td>5</td>\n",
       "      <td>4 de febrero</td>\n",
       "      <td>«Got 2 Luv U»</td>\n",
       "      <td>[Sean Paul, Alexis Jordan]</td>\n",
       "      <td>https://es.wikipedia.org/wiki/Anexo:Los_n%C3%B...</td>\n",
       "    </tr>\n",
       "  </tbody>\n",
       "</table>\n",
       "</div>"
      ],
      "text/plain": [
       "    year  week          date                track                     artists                                                url\n",
       "53  2012     1    7 de enero   «Someone like You»                     [Adele]  https://es.wikipedia.org/wiki/Anexo:Los_n%C3%B...\n",
       "54  2012     2   14 de enero   «Someone like You»                     [Adele]  https://es.wikipedia.org/wiki/Anexo:Los_n%C3%B...\n",
       "55  2012     3   21 de enero  «Ai se eu te pego!»               [Michel Teló]  https://es.wikipedia.org/wiki/Anexo:Los_n%C3%B...\n",
       "56  2012     4   28 de enero   «Someone like You»                     [Adele]  https://es.wikipedia.org/wiki/Anexo:Los_n%C3%B...\n",
       "57  2012     5  4 de febrero        «Got 2 Luv U»  [Sean Paul, Alexis Jordan]  https://es.wikipedia.org/wiki/Anexo:Los_n%C3%B..."
      ]
     },
     "execution_count": 14,
     "metadata": {},
     "output_type": "execute_result"
    }
   ],
   "source": [
    "# Demonstrating the problem:\n",
    "hits_spain.loc[hits_spain.year == 2012].head()"
   ]
  },
  {
   "cell_type": "code",
   "execution_count": 15,
   "metadata": {},
   "outputs": [],
   "source": [
    "# Defining the function to clean column\n",
    "def string_cleaner(i):\n",
    "    i = i.rstrip('»')\n",
    "    i = i.lstrip('«')\n",
    "    return i\n",
    "\n",
    "# Replacing items:\n",
    "hits_spain.track = hits_spain.track.apply(string_cleaner)"
   ]
  },
  {
   "cell_type": "code",
   "execution_count": 16,
   "metadata": {},
   "outputs": [
    {
     "data": {
      "text/html": [
       "<div>\n",
       "<style scoped>\n",
       "    .dataframe tbody tr th:only-of-type {\n",
       "        vertical-align: middle;\n",
       "    }\n",
       "\n",
       "    .dataframe tbody tr th {\n",
       "        vertical-align: top;\n",
       "    }\n",
       "\n",
       "    .dataframe thead th {\n",
       "        text-align: right;\n",
       "    }\n",
       "</style>\n",
       "<table border=\"1\" class=\"dataframe\">\n",
       "  <thead>\n",
       "    <tr style=\"text-align: right;\">\n",
       "      <th></th>\n",
       "      <th>year</th>\n",
       "      <th>week</th>\n",
       "      <th>date</th>\n",
       "      <th>track</th>\n",
       "      <th>artists</th>\n",
       "      <th>url</th>\n",
       "    </tr>\n",
       "  </thead>\n",
       "  <tbody>\n",
       "    <tr>\n",
       "      <th>53</th>\n",
       "      <td>2012</td>\n",
       "      <td>1</td>\n",
       "      <td>7 de enero</td>\n",
       "      <td>Someone like You</td>\n",
       "      <td>[Adele]</td>\n",
       "      <td>https://es.wikipedia.org/wiki/Anexo:Los_n%C3%B...</td>\n",
       "    </tr>\n",
       "    <tr>\n",
       "      <th>54</th>\n",
       "      <td>2012</td>\n",
       "      <td>2</td>\n",
       "      <td>14 de enero</td>\n",
       "      <td>Someone like You</td>\n",
       "      <td>[Adele]</td>\n",
       "      <td>https://es.wikipedia.org/wiki/Anexo:Los_n%C3%B...</td>\n",
       "    </tr>\n",
       "    <tr>\n",
       "      <th>55</th>\n",
       "      <td>2012</td>\n",
       "      <td>3</td>\n",
       "      <td>21 de enero</td>\n",
       "      <td>Ai se eu te pego!</td>\n",
       "      <td>[Michel Teló]</td>\n",
       "      <td>https://es.wikipedia.org/wiki/Anexo:Los_n%C3%B...</td>\n",
       "    </tr>\n",
       "    <tr>\n",
       "      <th>56</th>\n",
       "      <td>2012</td>\n",
       "      <td>4</td>\n",
       "      <td>28 de enero</td>\n",
       "      <td>Someone like You</td>\n",
       "      <td>[Adele]</td>\n",
       "      <td>https://es.wikipedia.org/wiki/Anexo:Los_n%C3%B...</td>\n",
       "    </tr>\n",
       "    <tr>\n",
       "      <th>57</th>\n",
       "      <td>2012</td>\n",
       "      <td>5</td>\n",
       "      <td>4 de febrero</td>\n",
       "      <td>Got 2 Luv U</td>\n",
       "      <td>[Sean Paul, Alexis Jordan]</td>\n",
       "      <td>https://es.wikipedia.org/wiki/Anexo:Los_n%C3%B...</td>\n",
       "    </tr>\n",
       "  </tbody>\n",
       "</table>\n",
       "</div>"
      ],
      "text/plain": [
       "    year  week          date              track                     artists                                                url\n",
       "53  2012     1    7 de enero   Someone like You                     [Adele]  https://es.wikipedia.org/wiki/Anexo:Los_n%C3%B...\n",
       "54  2012     2   14 de enero   Someone like You                     [Adele]  https://es.wikipedia.org/wiki/Anexo:Los_n%C3%B...\n",
       "55  2012     3   21 de enero  Ai se eu te pego!               [Michel Teló]  https://es.wikipedia.org/wiki/Anexo:Los_n%C3%B...\n",
       "56  2012     4   28 de enero   Someone like You                     [Adele]  https://es.wikipedia.org/wiki/Anexo:Los_n%C3%B...\n",
       "57  2012     5  4 de febrero        Got 2 Luv U  [Sean Paul, Alexis Jordan]  https://es.wikipedia.org/wiki/Anexo:Los_n%C3%B..."
      ]
     },
     "execution_count": 16,
     "metadata": {},
     "output_type": "execute_result"
    }
   ],
   "source": [
    "hits_spain.loc[hits_spain.year == 2012].head()"
   ]
  },
  {
   "cell_type": "code",
   "execution_count": 17,
   "metadata": {},
   "outputs": [
    {
     "data": {
      "text/plain": [
       "(447, 6)"
      ]
     },
     "execution_count": 17,
     "metadata": {},
     "output_type": "execute_result"
    }
   ],
   "source": [
    "hits_spain.shape"
   ]
  },
  {
   "cell_type": "markdown",
   "metadata": {},
   "source": [
    "Export dataframe"
   ]
  },
  {
   "cell_type": "code",
   "execution_count": 19,
   "metadata": {},
   "outputs": [],
   "source": [
    "hits_spain_export = hits_spain.to_csv('%s/output/wiki_hits_spain.csv'%PATH, index=False)"
   ]
  }
 ],
 "metadata": {
  "kernelspec": {
   "display_name": "Python 3",
   "language": "python",
   "name": "python3"
  },
  "language_info": {
   "codemirror_mode": {
    "name": "ipython",
    "version": 3
   },
   "file_extension": ".py",
   "mimetype": "text/x-python",
   "name": "python",
   "nbconvert_exporter": "python",
   "pygments_lexer": "ipython3",
   "version": "3.6.8"
  }
 },
 "nbformat": 4,
 "nbformat_minor": 2
}
