{
 "cells": [
  {
   "cell_type": "markdown",
   "metadata": {},
   "source": [
    "# Joining both dataframes"
   ]
  },
  {
   "cell_type": "markdown",
   "metadata": {},
   "source": [
    "## 1. Import libraries and set  options for visualization:"
   ]
  },
  {
   "cell_type": "code",
   "execution_count": 1,
   "metadata": {},
   "outputs": [],
   "source": [
    "import numpy as np\n",
    "import pandas as pd\n",
    "import os\n",
    "\n",
    "# Setting PATH\n",
    "PATH = os.getcwd()\n",
    "\n",
    "# Setting options for DataFrame visualization:\n",
    "pd.set_option('display.width', 500)\n",
    "pd.set_option('display.max_columns', 25)\n",
    "pd.set_option('display.max_rows', 122)"
   ]
  },
  {
   "cell_type": "markdown",
   "metadata": {},
   "source": [
    "## 2. Import both dataframes"
   ]
  },
  {
   "cell_type": "code",
   "execution_count": 2,
   "metadata": {},
   "outputs": [],
   "source": [
    "sp_songs = pd.read_csv('%s/output/spotify_songs_filtered.csv'%PATH)"
   ]
  },
  {
   "cell_type": "code",
   "execution_count": 3,
   "metadata": {},
   "outputs": [],
   "source": [
    "wp_hits = pd.read_csv('%s/output/wiki_hits_spain.csv'%PATH)"
   ]
  },
  {
   "cell_type": "markdown",
   "metadata": {},
   "source": [
    "## 3. Exploring and preparing df for joining"
   ]
  },
  {
   "cell_type": "code",
   "execution_count": 4,
   "metadata": {},
   "outputs": [
    {
     "data": {
      "text/html": [
       "<div>\n",
       "<style scoped>\n",
       "    .dataframe tbody tr th:only-of-type {\n",
       "        vertical-align: middle;\n",
       "    }\n",
       "\n",
       "    .dataframe tbody tr th {\n",
       "        vertical-align: top;\n",
       "    }\n",
       "\n",
       "    .dataframe thead th {\n",
       "        text-align: right;\n",
       "    }\n",
       "</style>\n",
       "<table border=\"1\" class=\"dataframe\">\n",
       "  <thead>\n",
       "    <tr style=\"text-align: right;\">\n",
       "      <th></th>\n",
       "      <th>track_popularity</th>\n",
       "      <th>track_name</th>\n",
       "      <th>track_artists</th>\n",
       "      <th>track_album_name</th>\n",
       "      <th>track_href</th>\n",
       "      <th>track_album_href</th>\n",
       "      <th>track_id</th>\n",
       "      <th>track_album_id</th>\n",
       "      <th>track_album_release_date</th>\n",
       "      <th>track_type</th>\n",
       "      <th>track_album_type</th>\n",
       "      <th>track_is_local</th>\n",
       "      <th>owner_id</th>\n",
       "    </tr>\n",
       "  </thead>\n",
       "  <tbody>\n",
       "    <tr>\n",
       "      <th>0</th>\n",
       "      <td>62.0</td>\n",
       "      <td>E.T.</td>\n",
       "      <td>['Katy Perry']</td>\n",
       "      <td>Katy Perry - Teenage Dream: The Complete Confe...</td>\n",
       "      <td>https://api.spotify.com/v1/tracks/4z8ssgZfs5Tz...</td>\n",
       "      <td>https://api.spotify.com/v1/albums/5BvgP623rtvl...</td>\n",
       "      <td>4z8ssgZfs5TzKiO8HaGWXO</td>\n",
       "      <td>5BvgP623rtvlc0HDcpzquz</td>\n",
       "      <td>2012-03-12</td>\n",
       "      <td>track</td>\n",
       "      <td>album</td>\n",
       "      <td>False</td>\n",
       "      <td>angelus_</td>\n",
       "    </tr>\n",
       "    <tr>\n",
       "      <th>1</th>\n",
       "      <td>66.0</td>\n",
       "      <td>Teenage Dream</td>\n",
       "      <td>['Katy Perry']</td>\n",
       "      <td>Katy Perry - Teenage Dream: The Complete Confe...</td>\n",
       "      <td>https://api.spotify.com/v1/tracks/55qBw1900pZK...</td>\n",
       "      <td>https://api.spotify.com/v1/albums/5BvgP623rtvl...</td>\n",
       "      <td>55qBw1900pZKfXJ6Q9A2Lc</td>\n",
       "      <td>5BvgP623rtvlc0HDcpzquz</td>\n",
       "      <td>2012-03-12</td>\n",
       "      <td>track</td>\n",
       "      <td>album</td>\n",
       "      <td>False</td>\n",
       "      <td>angelus_</td>\n",
       "    </tr>\n",
       "    <tr>\n",
       "      <th>2</th>\n",
       "      <td>70.0</td>\n",
       "      <td>Firework</td>\n",
       "      <td>['Katy Perry']</td>\n",
       "      <td>Katy Perry - Teenage Dream: The Complete Confe...</td>\n",
       "      <td>https://api.spotify.com/v1/tracks/4lCv7b86sLyn...</td>\n",
       "      <td>https://api.spotify.com/v1/albums/5BvgP623rtvl...</td>\n",
       "      <td>4lCv7b86sLynZbXhfScfm2</td>\n",
       "      <td>5BvgP623rtvlc0HDcpzquz</td>\n",
       "      <td>2012-03-12</td>\n",
       "      <td>track</td>\n",
       "      <td>album</td>\n",
       "      <td>False</td>\n",
       "      <td>angelus_</td>\n",
       "    </tr>\n",
       "    <tr>\n",
       "      <th>3</th>\n",
       "      <td>15.0</td>\n",
       "      <td>Roar</td>\n",
       "      <td>['Katy Perry']</td>\n",
       "      <td>PRISM (Deluxe)</td>\n",
       "      <td>https://api.spotify.com/v1/tracks/3bDGwl0X3EjQ...</td>\n",
       "      <td>https://api.spotify.com/v1/albums/4lFDt4sVpCni...</td>\n",
       "      <td>3bDGwl0X3EjQmIyFD1uif5</td>\n",
       "      <td>4lFDt4sVpCni9DRHRmDjgG</td>\n",
       "      <td>2013-01-01</td>\n",
       "      <td>track</td>\n",
       "      <td>album</td>\n",
       "      <td>False</td>\n",
       "      <td>angelus_</td>\n",
       "    </tr>\n",
       "    <tr>\n",
       "      <th>4</th>\n",
       "      <td>0.0</td>\n",
       "      <td>Legendary Lovers</td>\n",
       "      <td>['Katy Perry']</td>\n",
       "      <td>PRISM (Deluxe)</td>\n",
       "      <td>https://api.spotify.com/v1/tracks/4kkDQNeYyLe9...</td>\n",
       "      <td>https://api.spotify.com/v1/albums/4lFDt4sVpCni...</td>\n",
       "      <td>4kkDQNeYyLe9MxFAncbkoa</td>\n",
       "      <td>4lFDt4sVpCni9DRHRmDjgG</td>\n",
       "      <td>2013-01-01</td>\n",
       "      <td>track</td>\n",
       "      <td>album</td>\n",
       "      <td>False</td>\n",
       "      <td>angelus_</td>\n",
       "    </tr>\n",
       "  </tbody>\n",
       "</table>\n",
       "</div>"
      ],
      "text/plain": [
       "   track_popularity        track_name   track_artists                                   track_album_name                                         track_href                                   track_album_href                track_id          track_album_id track_album_release_date track_type track_album_type  track_is_local  owner_id\n",
       "0              62.0              E.T.  ['Katy Perry']  Katy Perry - Teenage Dream: The Complete Confe...  https://api.spotify.com/v1/tracks/4z8ssgZfs5Tz...  https://api.spotify.com/v1/albums/5BvgP623rtvl...  4z8ssgZfs5TzKiO8HaGWXO  5BvgP623rtvlc0HDcpzquz               2012-03-12      track            album           False  angelus_\n",
       "1              66.0     Teenage Dream  ['Katy Perry']  Katy Perry - Teenage Dream: The Complete Confe...  https://api.spotify.com/v1/tracks/55qBw1900pZK...  https://api.spotify.com/v1/albums/5BvgP623rtvl...  55qBw1900pZKfXJ6Q9A2Lc  5BvgP623rtvlc0HDcpzquz               2012-03-12      track            album           False  angelus_\n",
       "2              70.0          Firework  ['Katy Perry']  Katy Perry - Teenage Dream: The Complete Confe...  https://api.spotify.com/v1/tracks/4lCv7b86sLyn...  https://api.spotify.com/v1/albums/5BvgP623rtvl...  4lCv7b86sLynZbXhfScfm2  5BvgP623rtvlc0HDcpzquz               2012-03-12      track            album           False  angelus_\n",
       "3              15.0              Roar  ['Katy Perry']                                     PRISM (Deluxe)  https://api.spotify.com/v1/tracks/3bDGwl0X3EjQ...  https://api.spotify.com/v1/albums/4lFDt4sVpCni...  3bDGwl0X3EjQmIyFD1uif5  4lFDt4sVpCni9DRHRmDjgG               2013-01-01      track            album           False  angelus_\n",
       "4               0.0  Legendary Lovers  ['Katy Perry']                                     PRISM (Deluxe)  https://api.spotify.com/v1/tracks/4kkDQNeYyLe9...  https://api.spotify.com/v1/albums/4lFDt4sVpCni...  4kkDQNeYyLe9MxFAncbkoa  4lFDt4sVpCni9DRHRmDjgG               2013-01-01      track            album           False  angelus_"
      ]
     },
     "execution_count": 4,
     "metadata": {},
     "output_type": "execute_result"
    }
   ],
   "source": [
    "sp_songs.head()"
   ]
  },
  {
   "cell_type": "code",
   "execution_count": 5,
   "metadata": {},
   "outputs": [
    {
     "data": {
      "text/plain": [
       "(10659, 13)"
      ]
     },
     "execution_count": 5,
     "metadata": {},
     "output_type": "execute_result"
    }
   ],
   "source": [
    "sp_songs.shape"
   ]
  },
  {
   "cell_type": "code",
   "execution_count": 6,
   "metadata": {},
   "outputs": [
    {
     "data": {
      "text/html": [
       "<div>\n",
       "<style scoped>\n",
       "    .dataframe tbody tr th:only-of-type {\n",
       "        vertical-align: middle;\n",
       "    }\n",
       "\n",
       "    .dataframe tbody tr th {\n",
       "        vertical-align: top;\n",
       "    }\n",
       "\n",
       "    .dataframe thead th {\n",
       "        text-align: right;\n",
       "    }\n",
       "</style>\n",
       "<table border=\"1\" class=\"dataframe\">\n",
       "  <thead>\n",
       "    <tr style=\"text-align: right;\">\n",
       "      <th></th>\n",
       "      <th>year</th>\n",
       "      <th>week</th>\n",
       "      <th>date</th>\n",
       "      <th>track</th>\n",
       "      <th>artists</th>\n",
       "      <th>url</th>\n",
       "    </tr>\n",
       "  </thead>\n",
       "  <tbody>\n",
       "    <tr>\n",
       "      <th>0</th>\n",
       "      <td>2011</td>\n",
       "      <td>1</td>\n",
       "      <td>1 de enero</td>\n",
       "      <td>Loca</td>\n",
       "      <td>['Shakira', 'El Cata']</td>\n",
       "      <td>https://es.wikipedia.org/wiki/Anexo:Los_n%C3%B...</td>\n",
       "    </tr>\n",
       "    <tr>\n",
       "      <th>1</th>\n",
       "      <td>2011</td>\n",
       "      <td>2</td>\n",
       "      <td>8 de enero</td>\n",
       "      <td>Barbie de extrarradio</td>\n",
       "      <td>['Melendi']</td>\n",
       "      <td>https://es.wikipedia.org/wiki/Anexo:Los_n%C3%B...</td>\n",
       "    </tr>\n",
       "    <tr>\n",
       "      <th>2</th>\n",
       "      <td>2011</td>\n",
       "      <td>3</td>\n",
       "      <td>15 de enero</td>\n",
       "      <td>Love the Way You Lie</td>\n",
       "      <td>['Eminem', 'Rihanna']</td>\n",
       "      <td>https://es.wikipedia.org/wiki/Anexo:Los_n%C3%B...</td>\n",
       "    </tr>\n",
       "    <tr>\n",
       "      <th>3</th>\n",
       "      <td>2011</td>\n",
       "      <td>4</td>\n",
       "      <td>22 de enero</td>\n",
       "      <td>The Time (Dirty Bit)</td>\n",
       "      <td>['The Black Eyed Peas']</td>\n",
       "      <td>https://es.wikipedia.org/wiki/Anexo:Los_n%C3%B...</td>\n",
       "    </tr>\n",
       "    <tr>\n",
       "      <th>4</th>\n",
       "      <td>2011</td>\n",
       "      <td>5</td>\n",
       "      <td>29 de enero</td>\n",
       "      <td>The Time (Dirty Bit)</td>\n",
       "      <td>['The Black Eyed Peas']</td>\n",
       "      <td>https://es.wikipedia.org/wiki/Anexo:Los_n%C3%B...</td>\n",
       "    </tr>\n",
       "  </tbody>\n",
       "</table>\n",
       "</div>"
      ],
      "text/plain": [
       "   year  week         date                  track                  artists                                                url\n",
       "0  2011     1   1 de enero                   Loca   ['Shakira', 'El Cata']  https://es.wikipedia.org/wiki/Anexo:Los_n%C3%B...\n",
       "1  2011     2   8 de enero  Barbie de extrarradio              ['Melendi']  https://es.wikipedia.org/wiki/Anexo:Los_n%C3%B...\n",
       "2  2011     3  15 de enero   Love the Way You Lie    ['Eminem', 'Rihanna']  https://es.wikipedia.org/wiki/Anexo:Los_n%C3%B...\n",
       "3  2011     4  22 de enero   The Time (Dirty Bit)  ['The Black Eyed Peas']  https://es.wikipedia.org/wiki/Anexo:Los_n%C3%B...\n",
       "4  2011     5  29 de enero   The Time (Dirty Bit)  ['The Black Eyed Peas']  https://es.wikipedia.org/wiki/Anexo:Los_n%C3%B..."
      ]
     },
     "execution_count": 6,
     "metadata": {},
     "output_type": "execute_result"
    }
   ],
   "source": [
    "wp_hits.head()"
   ]
  },
  {
   "cell_type": "code",
   "execution_count": 7,
   "metadata": {},
   "outputs": [
    {
     "data": {
      "text/plain": [
       "(447, 6)"
      ]
     },
     "execution_count": 7,
     "metadata": {},
     "output_type": "execute_result"
    }
   ],
   "source": [
    "wp_hits.shape"
   ]
  },
  {
   "cell_type": "markdown",
   "metadata": {},
   "source": [
    "### Dropping some of the columns of sp_songs:"
   ]
  },
  {
   "cell_type": "code",
   "execution_count": 8,
   "metadata": {},
   "outputs": [],
   "source": [
    "sp_songs = sp_songs[['track_popularity', 'track_name', 'track_artists', 'track_album_name', \n",
    "                    'track_href', 'track_album_release_date', 'owner_id']]"
   ]
  },
  {
   "cell_type": "code",
   "execution_count": 9,
   "metadata": {},
   "outputs": [
    {
     "data": {
      "text/plain": [
       "(10659, 7)"
      ]
     },
     "execution_count": 9,
     "metadata": {},
     "output_type": "execute_result"
    }
   ],
   "source": [
    "sp_songs.shape"
   ]
  },
  {
   "cell_type": "markdown",
   "metadata": {},
   "source": [
    "### Joining both dataframes on basis of song names:"
   ]
  },
  {
   "cell_type": "markdown",
   "metadata": {},
   "source": [
    "#### An inner join is performed, to check for the tracks that are inside the playlists and in the hit lists:"
   ]
  },
  {
   "cell_type": "code",
   "execution_count": 10,
   "metadata": {},
   "outputs": [],
   "source": [
    "# left_on and right_on are used because the name of the columns are different:\n",
    "common_df = pd.merge(wp_hits,\n",
    "                    sp_songs,\n",
    "                    left_on='track',\n",
    "                    right_on='track_name',\n",
    "                    how='inner')"
   ]
  },
  {
   "cell_type": "code",
   "execution_count": 11,
   "metadata": {},
   "outputs": [
    {
     "data": {
      "text/html": [
       "<div>\n",
       "<style scoped>\n",
       "    .dataframe tbody tr th:only-of-type {\n",
       "        vertical-align: middle;\n",
       "    }\n",
       "\n",
       "    .dataframe tbody tr th {\n",
       "        vertical-align: top;\n",
       "    }\n",
       "\n",
       "    .dataframe thead th {\n",
       "        text-align: right;\n",
       "    }\n",
       "</style>\n",
       "<table border=\"1\" class=\"dataframe\">\n",
       "  <thead>\n",
       "    <tr style=\"text-align: right;\">\n",
       "      <th></th>\n",
       "      <th>year</th>\n",
       "      <th>week</th>\n",
       "      <th>date</th>\n",
       "      <th>track</th>\n",
       "      <th>artists</th>\n",
       "      <th>url</th>\n",
       "      <th>track_popularity</th>\n",
       "      <th>track_name</th>\n",
       "      <th>track_artists</th>\n",
       "      <th>track_album_name</th>\n",
       "      <th>track_href</th>\n",
       "      <th>track_album_release_date</th>\n",
       "      <th>owner_id</th>\n",
       "    </tr>\n",
       "  </thead>\n",
       "  <tbody>\n",
       "    <tr>\n",
       "      <th>0</th>\n",
       "      <td>2011</td>\n",
       "      <td>4</td>\n",
       "      <td>22 de enero</td>\n",
       "      <td>The Time (Dirty Bit)</td>\n",
       "      <td>['The Black Eyed Peas']</td>\n",
       "      <td>https://es.wikipedia.org/wiki/Anexo:Los_n%C3%B...</td>\n",
       "      <td>2.0</td>\n",
       "      <td>The Time (Dirty Bit)</td>\n",
       "      <td>['The Black Eyed Peas']</td>\n",
       "      <td>The Time (Dirty Bit)</td>\n",
       "      <td>https://api.spotify.com/v1/tracks/34q1KaLX8h73...</td>\n",
       "      <td>2010-01-01</td>\n",
       "      <td>angelus_</td>\n",
       "    </tr>\n",
       "    <tr>\n",
       "      <th>1</th>\n",
       "      <td>2011</td>\n",
       "      <td>5</td>\n",
       "      <td>29 de enero</td>\n",
       "      <td>The Time (Dirty Bit)</td>\n",
       "      <td>['The Black Eyed Peas']</td>\n",
       "      <td>https://es.wikipedia.org/wiki/Anexo:Los_n%C3%B...</td>\n",
       "      <td>2.0</td>\n",
       "      <td>The Time (Dirty Bit)</td>\n",
       "      <td>['The Black Eyed Peas']</td>\n",
       "      <td>The Time (Dirty Bit)</td>\n",
       "      <td>https://api.spotify.com/v1/tracks/34q1KaLX8h73...</td>\n",
       "      <td>2010-01-01</td>\n",
       "      <td>angelus_</td>\n",
       "    </tr>\n",
       "    <tr>\n",
       "      <th>2</th>\n",
       "      <td>2011</td>\n",
       "      <td>6</td>\n",
       "      <td>5 de febrero</td>\n",
       "      <td>Hold My Hand</td>\n",
       "      <td>['Michael Jackson', 'Akon']</td>\n",
       "      <td>https://es.wikipedia.org/wiki/Anexo:Los_n%C3%B...</td>\n",
       "      <td>57.0</td>\n",
       "      <td>Hold My Hand</td>\n",
       "      <td>['Jess Glynne']</td>\n",
       "      <td>I Cry When I Laugh</td>\n",
       "      <td>https://api.spotify.com/v1/tracks/1eOJAiCKFuMd...</td>\n",
       "      <td>2013</td>\n",
       "      <td>42416345k</td>\n",
       "    </tr>\n",
       "    <tr>\n",
       "      <th>3</th>\n",
       "      <td>2011</td>\n",
       "      <td>7</td>\n",
       "      <td>12 de febrero</td>\n",
       "      <td>Hold My Hand</td>\n",
       "      <td>['Michael Jackson', 'Akon']</td>\n",
       "      <td>https://es.wikipedia.org/wiki/Anexo:Los_n%C3%B...</td>\n",
       "      <td>57.0</td>\n",
       "      <td>Hold My Hand</td>\n",
       "      <td>['Jess Glynne']</td>\n",
       "      <td>I Cry When I Laugh</td>\n",
       "      <td>https://api.spotify.com/v1/tracks/1eOJAiCKFuMd...</td>\n",
       "      <td>2013</td>\n",
       "      <td>42416345k</td>\n",
       "    </tr>\n",
       "    <tr>\n",
       "      <th>4</th>\n",
       "      <td>2011</td>\n",
       "      <td>15</td>\n",
       "      <td>9 de abril</td>\n",
       "      <td>Born This Way</td>\n",
       "      <td>['Lady Gaga']</td>\n",
       "      <td>https://es.wikipedia.org/wiki/Anexo:Los_n%C3%B...</td>\n",
       "      <td>46.0</td>\n",
       "      <td>Born This Way</td>\n",
       "      <td>['Lady Gaga']</td>\n",
       "      <td>Born This Way (International Standard Version)</td>\n",
       "      <td>https://api.spotify.com/v1/tracks/209NkbzmsUa9...</td>\n",
       "      <td>2011-01-01</td>\n",
       "      <td>angelus_</td>\n",
       "    </tr>\n",
       "  </tbody>\n",
       "</table>\n",
       "</div>"
      ],
      "text/plain": [
       "   year  week           date                 track                      artists                                                url  track_popularity            track_name            track_artists                                track_album_name                                         track_href track_album_release_date   owner_id\n",
       "0  2011     4    22 de enero  The Time (Dirty Bit)      ['The Black Eyed Peas']  https://es.wikipedia.org/wiki/Anexo:Los_n%C3%B...               2.0  The Time (Dirty Bit)  ['The Black Eyed Peas']                            The Time (Dirty Bit)  https://api.spotify.com/v1/tracks/34q1KaLX8h73...               2010-01-01   angelus_\n",
       "1  2011     5    29 de enero  The Time (Dirty Bit)      ['The Black Eyed Peas']  https://es.wikipedia.org/wiki/Anexo:Los_n%C3%B...               2.0  The Time (Dirty Bit)  ['The Black Eyed Peas']                            The Time (Dirty Bit)  https://api.spotify.com/v1/tracks/34q1KaLX8h73...               2010-01-01   angelus_\n",
       "2  2011     6   5 de febrero          Hold My Hand  ['Michael Jackson', 'Akon']  https://es.wikipedia.org/wiki/Anexo:Los_n%C3%B...              57.0          Hold My Hand          ['Jess Glynne']                              I Cry When I Laugh  https://api.spotify.com/v1/tracks/1eOJAiCKFuMd...                     2013  42416345k\n",
       "3  2011     7  12 de febrero          Hold My Hand  ['Michael Jackson', 'Akon']  https://es.wikipedia.org/wiki/Anexo:Los_n%C3%B...              57.0          Hold My Hand          ['Jess Glynne']                              I Cry When I Laugh  https://api.spotify.com/v1/tracks/1eOJAiCKFuMd...                     2013  42416345k\n",
       "4  2011    15     9 de abril         Born This Way                ['Lady Gaga']  https://es.wikipedia.org/wiki/Anexo:Los_n%C3%B...              46.0         Born This Way            ['Lady Gaga']  Born This Way (International Standard Version)  https://api.spotify.com/v1/tracks/209NkbzmsUa9...               2011-01-01   angelus_"
      ]
     },
     "execution_count": 11,
     "metadata": {},
     "output_type": "execute_result"
    }
   ],
   "source": [
    "common_df.head()"
   ]
  },
  {
   "cell_type": "code",
   "execution_count": 12,
   "metadata": {},
   "outputs": [
    {
     "data": {
      "text/plain": [
       "(261, 13)"
      ]
     },
     "execution_count": 12,
     "metadata": {},
     "output_type": "execute_result"
    }
   ],
   "source": [
    "common_df.shape"
   ]
  },
  {
   "cell_type": "markdown",
   "metadata": {},
   "source": [
    "As the merge was performed using only the track name, now we have to check for all those entries with different artists, in order to manipulate the data accordingly (modify or drop):"
   ]
  },
  {
   "cell_type": "code",
   "execution_count": 13,
   "metadata": {},
   "outputs": [
    {
     "data": {
      "text/plain": [
       "(121, 13)"
      ]
     },
     "execution_count": 13,
     "metadata": {},
     "output_type": "execute_result"
    }
   ],
   "source": [
    "differences = common_df.loc[common_df.artists != common_df.track_artists]\n",
    "differences.shape"
   ]
  },
  {
   "cell_type": "code",
   "execution_count": 14,
   "metadata": {},
   "outputs": [
    {
     "data": {
      "text/html": [
       "<div>\n",
       "<style scoped>\n",
       "    .dataframe tbody tr th:only-of-type {\n",
       "        vertical-align: middle;\n",
       "    }\n",
       "\n",
       "    .dataframe tbody tr th {\n",
       "        vertical-align: top;\n",
       "    }\n",
       "\n",
       "    .dataframe thead th {\n",
       "        text-align: right;\n",
       "    }\n",
       "</style>\n",
       "<table border=\"1\" class=\"dataframe\">\n",
       "  <thead>\n",
       "    <tr style=\"text-align: right;\">\n",
       "      <th></th>\n",
       "      <th>year</th>\n",
       "      <th>week</th>\n",
       "      <th>date</th>\n",
       "      <th>track</th>\n",
       "      <th>artists</th>\n",
       "      <th>url</th>\n",
       "      <th>track_popularity</th>\n",
       "      <th>track_name</th>\n",
       "      <th>track_artists</th>\n",
       "      <th>track_album_name</th>\n",
       "      <th>track_href</th>\n",
       "      <th>track_album_release_date</th>\n",
       "      <th>owner_id</th>\n",
       "    </tr>\n",
       "  </thead>\n",
       "  <tbody>\n",
       "    <tr>\n",
       "      <th>2</th>\n",
       "      <td>2011</td>\n",
       "      <td>6</td>\n",
       "      <td>5 de febrero</td>\n",
       "      <td>Hold My Hand</td>\n",
       "      <td>['Michael Jackson', 'Akon']</td>\n",
       "      <td>https://es.wikipedia.org/wiki/Anexo:Los_n%C3%B...</td>\n",
       "      <td>57.0</td>\n",
       "      <td>Hold My Hand</td>\n",
       "      <td>['Jess Glynne']</td>\n",
       "      <td>I Cry When I Laugh</td>\n",
       "      <td>https://api.spotify.com/v1/tracks/1eOJAiCKFuMd...</td>\n",
       "      <td>2013</td>\n",
       "      <td>42416345k</td>\n",
       "    </tr>\n",
       "    <tr>\n",
       "      <th>3</th>\n",
       "      <td>2011</td>\n",
       "      <td>7</td>\n",
       "      <td>12 de febrero</td>\n",
       "      <td>Hold My Hand</td>\n",
       "      <td>['Michael Jackson', 'Akon']</td>\n",
       "      <td>https://es.wikipedia.org/wiki/Anexo:Los_n%C3%B...</td>\n",
       "      <td>57.0</td>\n",
       "      <td>Hold My Hand</td>\n",
       "      <td>['Jess Glynne']</td>\n",
       "      <td>I Cry When I Laugh</td>\n",
       "      <td>https://api.spotify.com/v1/tracks/1eOJAiCKFuMd...</td>\n",
       "      <td>2013</td>\n",
       "      <td>42416345k</td>\n",
       "    </tr>\n",
       "    <tr>\n",
       "      <th>22</th>\n",
       "      <td>2011</td>\n",
       "      <td>51</td>\n",
       "      <td>17 de diciembre</td>\n",
       "      <td>Titanium</td>\n",
       "      <td>['David Guetta', 'Sia']</td>\n",
       "      <td>https://es.wikipedia.org/wiki/Anexo:Los_n%C3%B...</td>\n",
       "      <td>46.0</td>\n",
       "      <td>Titanium</td>\n",
       "      <td>['Jasmine Thompson']</td>\n",
       "      <td>Bundle of Tantrums</td>\n",
       "      <td>https://api.spotify.com/v1/tracks/406dEJjjP5f5...</td>\n",
       "      <td>2013-09-06</td>\n",
       "      <td>dannig012</td>\n",
       "    </tr>\n",
       "    <tr>\n",
       "      <th>23</th>\n",
       "      <td>2011</td>\n",
       "      <td>52</td>\n",
       "      <td>24 de diciembre</td>\n",
       "      <td>Titanium</td>\n",
       "      <td>['David Guetta', 'Sia']</td>\n",
       "      <td>https://es.wikipedia.org/wiki/Anexo:Los_n%C3%B...</td>\n",
       "      <td>46.0</td>\n",
       "      <td>Titanium</td>\n",
       "      <td>['Jasmine Thompson']</td>\n",
       "      <td>Bundle of Tantrums</td>\n",
       "      <td>https://api.spotify.com/v1/tracks/406dEJjjP5f5...</td>\n",
       "      <td>2013-09-06</td>\n",
       "      <td>dannig012</td>\n",
       "    </tr>\n",
       "    <tr>\n",
       "      <th>26</th>\n",
       "      <td>2012</td>\n",
       "      <td>24</td>\n",
       "      <td>16 de junio</td>\n",
       "      <td>Somebody That I Used to Know</td>\n",
       "      <td>['Gotye', 'Kimbra']</td>\n",
       "      <td>https://es.wikipedia.org/wiki/Anexo:Los_n%C3%B...</td>\n",
       "      <td>39.0</td>\n",
       "      <td>Somebody That I Used to Know</td>\n",
       "      <td>['Walk Off the Earth']</td>\n",
       "      <td>Somebody That I Used to Know</td>\n",
       "      <td>https://api.spotify.com/v1/tracks/0VVMuMXtkASP...</td>\n",
       "      <td>2012-02-06</td>\n",
       "      <td>angelus_</td>\n",
       "    </tr>\n",
       "  </tbody>\n",
       "</table>\n",
       "</div>"
      ],
      "text/plain": [
       "    year  week             date                         track                      artists                                                url  track_popularity                    track_name           track_artists              track_album_name                                         track_href track_album_release_date   owner_id\n",
       "2   2011     6     5 de febrero                  Hold My Hand  ['Michael Jackson', 'Akon']  https://es.wikipedia.org/wiki/Anexo:Los_n%C3%B...              57.0                  Hold My Hand         ['Jess Glynne']            I Cry When I Laugh  https://api.spotify.com/v1/tracks/1eOJAiCKFuMd...                     2013  42416345k\n",
       "3   2011     7    12 de febrero                  Hold My Hand  ['Michael Jackson', 'Akon']  https://es.wikipedia.org/wiki/Anexo:Los_n%C3%B...              57.0                  Hold My Hand         ['Jess Glynne']            I Cry When I Laugh  https://api.spotify.com/v1/tracks/1eOJAiCKFuMd...                     2013  42416345k\n",
       "22  2011    51  17 de diciembre                      Titanium      ['David Guetta', 'Sia']  https://es.wikipedia.org/wiki/Anexo:Los_n%C3%B...              46.0                      Titanium    ['Jasmine Thompson']            Bundle of Tantrums  https://api.spotify.com/v1/tracks/406dEJjjP5f5...               2013-09-06  dannig012\n",
       "23  2011    52  24 de diciembre                      Titanium      ['David Guetta', 'Sia']  https://es.wikipedia.org/wiki/Anexo:Los_n%C3%B...              46.0                      Titanium    ['Jasmine Thompson']            Bundle of Tantrums  https://api.spotify.com/v1/tracks/406dEJjjP5f5...               2013-09-06  dannig012\n",
       "26  2012    24      16 de junio  Somebody That I Used to Know          ['Gotye', 'Kimbra']  https://es.wikipedia.org/wiki/Anexo:Los_n%C3%B...              39.0  Somebody That I Used to Know  ['Walk Off the Earth']  Somebody That I Used to Know  https://api.spotify.com/v1/tracks/0VVMuMXtkASP...               2012-02-06   angelus_"
      ]
     },
     "execution_count": 14,
     "metadata": {},
     "output_type": "execute_result"
    }
   ],
   "source": [
    "differences.head()"
   ]
  },
  {
   "cell_type": "code",
   "execution_count": 15,
   "metadata": {},
   "outputs": [
    {
     "name": "stderr",
     "output_type": "stream",
     "text": [
      "/home/eiroamd/.local/lib/python3.6/site-packages/pandas/core/indexing.py:190: SettingWithCopyWarning: \n",
      "A value is trying to be set on a copy of a slice from a DataFrame\n",
      "\n",
      "See the caveats in the documentation: http://pandas.pydata.org/pandas-docs/stable/indexing.html#indexing-view-versus-copy\n",
      "  self._setitem_with_indexer(indexer, value)\n"
     ]
    }
   ],
   "source": [
    "# Only these indexes share the same artist, the rest are really different songs/versions:\n",
    "ind = [63, 74, 75, 207, 208]\n",
    "for i in ind:\n",
    "    common_df['artists'].iloc[i] = common_df['track_artists'].iloc[i]"
   ]
  },
  {
   "cell_type": "code",
   "execution_count": 16,
   "metadata": {},
   "outputs": [
    {
     "data": {
      "text/plain": [
       "artists          ['P!nk']\n",
       "track_artists    ['P!nk']\n",
       "Name: 63, dtype: object"
      ]
     },
     "execution_count": 16,
     "metadata": {},
     "output_type": "execute_result"
    }
   ],
   "source": [
    "common_df[['artists', 'track_artists']].iloc[63]"
   ]
  },
  {
   "cell_type": "code",
   "execution_count": 17,
   "metadata": {},
   "outputs": [
    {
     "data": {
      "text/plain": [
       "(143, 13)"
      ]
     },
     "execution_count": 17,
     "metadata": {},
     "output_type": "execute_result"
    }
   ],
   "source": [
    "# Checking that the substitutions were correctly made:\n",
    "differences = common_df.loc[common_df.artists != common_df.track_artists]\n",
    "differences.shape\n",
    "\n",
    "# Making a definitive dataframe where only the coincidental tracks and artists are included:\n",
    "final_df = common_df.loc[common_df.artists == common_df.track_artists]\n",
    "final_df.shape"
   ]
  },
  {
   "cell_type": "markdown",
   "metadata": {},
   "source": [
    "## 4. Exploring and exporting final dataframe"
   ]
  },
  {
   "cell_type": "code",
   "execution_count": 18,
   "metadata": {},
   "outputs": [
    {
     "data": {
      "text/html": [
       "<div>\n",
       "<style scoped>\n",
       "    .dataframe tbody tr th:only-of-type {\n",
       "        vertical-align: middle;\n",
       "    }\n",
       "\n",
       "    .dataframe tbody tr th {\n",
       "        vertical-align: top;\n",
       "    }\n",
       "\n",
       "    .dataframe thead th {\n",
       "        text-align: right;\n",
       "    }\n",
       "</style>\n",
       "<table border=\"1\" class=\"dataframe\">\n",
       "  <thead>\n",
       "    <tr style=\"text-align: right;\">\n",
       "      <th></th>\n",
       "      <th>year</th>\n",
       "      <th>week</th>\n",
       "      <th>date</th>\n",
       "      <th>track</th>\n",
       "      <th>artists</th>\n",
       "      <th>url</th>\n",
       "      <th>track_popularity</th>\n",
       "      <th>track_name</th>\n",
       "      <th>track_artists</th>\n",
       "      <th>track_album_name</th>\n",
       "      <th>track_href</th>\n",
       "      <th>track_album_release_date</th>\n",
       "      <th>owner_id</th>\n",
       "    </tr>\n",
       "  </thead>\n",
       "  <tbody>\n",
       "    <tr>\n",
       "      <th>0</th>\n",
       "      <td>2011</td>\n",
       "      <td>4</td>\n",
       "      <td>22 de enero</td>\n",
       "      <td>The Time (Dirty Bit)</td>\n",
       "      <td>['The Black Eyed Peas']</td>\n",
       "      <td>https://es.wikipedia.org/wiki/Anexo:Los_n%C3%B...</td>\n",
       "      <td>2.0</td>\n",
       "      <td>The Time (Dirty Bit)</td>\n",
       "      <td>['The Black Eyed Peas']</td>\n",
       "      <td>The Time (Dirty Bit)</td>\n",
       "      <td>https://api.spotify.com/v1/tracks/34q1KaLX8h73...</td>\n",
       "      <td>2010-01-01</td>\n",
       "      <td>angelus_</td>\n",
       "    </tr>\n",
       "    <tr>\n",
       "      <th>1</th>\n",
       "      <td>2011</td>\n",
       "      <td>5</td>\n",
       "      <td>29 de enero</td>\n",
       "      <td>The Time (Dirty Bit)</td>\n",
       "      <td>['The Black Eyed Peas']</td>\n",
       "      <td>https://es.wikipedia.org/wiki/Anexo:Los_n%C3%B...</td>\n",
       "      <td>2.0</td>\n",
       "      <td>The Time (Dirty Bit)</td>\n",
       "      <td>['The Black Eyed Peas']</td>\n",
       "      <td>The Time (Dirty Bit)</td>\n",
       "      <td>https://api.spotify.com/v1/tracks/34q1KaLX8h73...</td>\n",
       "      <td>2010-01-01</td>\n",
       "      <td>angelus_</td>\n",
       "    </tr>\n",
       "    <tr>\n",
       "      <th>4</th>\n",
       "      <td>2011</td>\n",
       "      <td>15</td>\n",
       "      <td>9 de abril</td>\n",
       "      <td>Born This Way</td>\n",
       "      <td>['Lady Gaga']</td>\n",
       "      <td>https://es.wikipedia.org/wiki/Anexo:Los_n%C3%B...</td>\n",
       "      <td>46.0</td>\n",
       "      <td>Born This Way</td>\n",
       "      <td>['Lady Gaga']</td>\n",
       "      <td>Born This Way (International Standard Version)</td>\n",
       "      <td>https://api.spotify.com/v1/tracks/209NkbzmsUa9...</td>\n",
       "      <td>2011-01-01</td>\n",
       "      <td>angelus_</td>\n",
       "    </tr>\n",
       "    <tr>\n",
       "      <th>5</th>\n",
       "      <td>2011</td>\n",
       "      <td>15</td>\n",
       "      <td>9 de abril</td>\n",
       "      <td>Born This Way</td>\n",
       "      <td>['Lady Gaga']</td>\n",
       "      <td>https://es.wikipedia.org/wiki/Anexo:Los_n%C3%B...</td>\n",
       "      <td>68.0</td>\n",
       "      <td>Born This Way</td>\n",
       "      <td>['Lady Gaga']</td>\n",
       "      <td>Born This Way (International Special Edition V...</td>\n",
       "      <td>https://api.spotify.com/v1/tracks/30XU4suKzCeo...</td>\n",
       "      <td>2011-01-01</td>\n",
       "      <td>dannig012</td>\n",
       "    </tr>\n",
       "    <tr>\n",
       "      <th>6</th>\n",
       "      <td>2011</td>\n",
       "      <td>15</td>\n",
       "      <td>9 de abril</td>\n",
       "      <td>Born This Way</td>\n",
       "      <td>['Lady Gaga']</td>\n",
       "      <td>https://es.wikipedia.org/wiki/Anexo:Los_n%C3%B...</td>\n",
       "      <td>6.0</td>\n",
       "      <td>Born This Way</td>\n",
       "      <td>['Lady Gaga']</td>\n",
       "      <td>Born This Way</td>\n",
       "      <td>https://api.spotify.com/v1/tracks/6wAdqKcL7uES...</td>\n",
       "      <td>2011-01-01</td>\n",
       "      <td>popersea</td>\n",
       "    </tr>\n",
       "  </tbody>\n",
       "</table>\n",
       "</div>"
      ],
      "text/plain": [
       "   year  week         date                 track                  artists                                                url  track_popularity            track_name            track_artists                                   track_album_name                                         track_href track_album_release_date   owner_id\n",
       "0  2011     4  22 de enero  The Time (Dirty Bit)  ['The Black Eyed Peas']  https://es.wikipedia.org/wiki/Anexo:Los_n%C3%B...               2.0  The Time (Dirty Bit)  ['The Black Eyed Peas']                               The Time (Dirty Bit)  https://api.spotify.com/v1/tracks/34q1KaLX8h73...               2010-01-01   angelus_\n",
       "1  2011     5  29 de enero  The Time (Dirty Bit)  ['The Black Eyed Peas']  https://es.wikipedia.org/wiki/Anexo:Los_n%C3%B...               2.0  The Time (Dirty Bit)  ['The Black Eyed Peas']                               The Time (Dirty Bit)  https://api.spotify.com/v1/tracks/34q1KaLX8h73...               2010-01-01   angelus_\n",
       "4  2011    15   9 de abril         Born This Way            ['Lady Gaga']  https://es.wikipedia.org/wiki/Anexo:Los_n%C3%B...              46.0         Born This Way            ['Lady Gaga']     Born This Way (International Standard Version)  https://api.spotify.com/v1/tracks/209NkbzmsUa9...               2011-01-01   angelus_\n",
       "5  2011    15   9 de abril         Born This Way            ['Lady Gaga']  https://es.wikipedia.org/wiki/Anexo:Los_n%C3%B...              68.0         Born This Way            ['Lady Gaga']  Born This Way (International Special Edition V...  https://api.spotify.com/v1/tracks/30XU4suKzCeo...               2011-01-01  dannig012\n",
       "6  2011    15   9 de abril         Born This Way            ['Lady Gaga']  https://es.wikipedia.org/wiki/Anexo:Los_n%C3%B...               6.0         Born This Way            ['Lady Gaga']                                      Born This Way  https://api.spotify.com/v1/tracks/6wAdqKcL7uES...               2011-01-01   popersea"
      ]
     },
     "execution_count": 18,
     "metadata": {},
     "output_type": "execute_result"
    }
   ],
   "source": [
    "final_df.head()"
   ]
  },
  {
   "cell_type": "code",
   "execution_count": 19,
   "metadata": {},
   "outputs": [
    {
     "name": "stdout",
     "output_type": "stream",
     "text": [
      "<class 'pandas.core.frame.DataFrame'>\n",
      "Int64Index: 143 entries, 0 to 243\n",
      "Data columns (total 13 columns):\n",
      "year                        143 non-null int64\n",
      "week                        143 non-null int64\n",
      "date                        143 non-null object\n",
      "track                       143 non-null object\n",
      "artists                     143 non-null object\n",
      "url                         143 non-null object\n",
      "track_popularity            143 non-null float64\n",
      "track_name                  143 non-null object\n",
      "track_artists               143 non-null object\n",
      "track_album_name            143 non-null object\n",
      "track_href                  143 non-null object\n",
      "track_album_release_date    143 non-null object\n",
      "owner_id                    143 non-null object\n",
      "dtypes: float64(1), int64(2), object(10)\n",
      "memory usage: 15.6+ KB\n"
     ]
    }
   ],
   "source": [
    "final_df.info()"
   ]
  },
  {
   "cell_type": "markdown",
   "metadata": {},
   "source": [
    "### Top 5 people according to amount of #1's in their playlists:"
   ]
  },
  {
   "cell_type": "code",
   "execution_count": 20,
   "metadata": {},
   "outputs": [
    {
     "data": {
      "text/plain": [
       "owner_id\n",
       "dannig012       39\n",
       "angelus_        22\n",
       "elsapato        15\n",
       "nestorviolin    14\n",
       "aechos          10\n",
       "Name: track, dtype: int64"
      ]
     },
     "execution_count": 20,
     "metadata": {},
     "output_type": "execute_result"
    }
   ],
   "source": [
    "final_df.groupby('owner_id')['track'].count().sort_values(ascending=False)[:5]"
   ]
  },
  {
   "cell_type": "markdown",
   "metadata": {},
   "source": [
    "### Exporting dataframe"
   ]
  },
  {
   "cell_type": "code",
   "execution_count": 21,
   "metadata": {},
   "outputs": [],
   "source": [
    "final_df_export = final_df.to_csv('%s/output/final_df.csv'%PATH, index=False)"
   ]
  }
 ],
 "metadata": {
  "kernelspec": {
   "display_name": "Python 3",
   "language": "python",
   "name": "python3"
  },
  "language_info": {
   "codemirror_mode": {
    "name": "ipython",
    "version": 3
   },
   "file_extension": ".py",
   "mimetype": "text/x-python",
   "name": "python",
   "nbconvert_exporter": "python",
   "pygments_lexer": "ipython3",
   "version": "3.6.8"
  }
 },
 "nbformat": 4,
 "nbformat_minor": 2
}
