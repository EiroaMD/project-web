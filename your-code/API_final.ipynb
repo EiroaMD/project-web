{
 "cells": [
  {
   "cell_type": "markdown",
   "metadata": {},
   "source": [
    "# API Project"
   ]
  },
  {
   "cell_type": "markdown",
   "metadata": {},
   "source": [
    "## 1. Import libraries and set  options for visualization:"
   ]
  },
  {
   "cell_type": "code",
   "execution_count": 1,
   "metadata": {},
   "outputs": [],
   "source": [
    "import spotipy\n",
    "import spotipy.util as util\n",
    "import json\n",
    "from pandas.io.json import json_normalize\n",
    "import numpy as np\n",
    "import pandas as pd\n",
    "import os\n",
    "\n",
    "# Setting options for DataFrame visualization:\n",
    "pd.set_option('display.width', 1000)\n",
    "pd.set_option('display.max_columns', 25)"
   ]
  },
  {
   "cell_type": "markdown",
   "metadata": {},
   "source": [
    "## 2. Set constants:"
   ]
  },
  {
   "cell_type": "code",
   "execution_count": 2,
   "metadata": {},
   "outputs": [],
   "source": [
    "CLIENT_ID = '50f3b0028641407db383394bce5bdab2'\n",
    "CLIENT_SECRET = '102abdda8d97489ca12c32c510af6bd9'\n",
    "SCOPE = \"user-read-private user-read-email user-read-playback-state user-read-currently-playing user-library-read\"\n",
    "REDIRECT_URI = 'http://localhost:8888/callback/'\n",
    "USERNAME = 'dannig012'\n",
    "PATH = os.getcwd()"
   ]
  },
  {
   "cell_type": "markdown",
   "metadata": {},
   "source": [
    "## 3. Request Spotify token and access to the API:"
   ]
  },
  {
   "cell_type": "code",
   "execution_count": 3,
   "metadata": {},
   "outputs": [],
   "source": [
    "token = util.prompt_for_user_token(username=USERNAME, scope=SCOPE, client_id=CLIENT_ID, client_secret=CLIENT_SECRET, redirect_uri=REDIRECT_URI)"
   ]
  },
  {
   "cell_type": "code",
   "execution_count": 4,
   "metadata": {},
   "outputs": [],
   "source": [
    "sp = spotipy.Spotify(auth=token)"
   ]
  },
  {
   "cell_type": "markdown",
   "metadata": {},
   "source": [
    "## 4. Request user information and add it to a df: "
   ]
  },
  {
   "cell_type": "code",
   "execution_count": 5,
   "metadata": {},
   "outputs": [],
   "source": [
    "# List of selected users and empty dataframe:\n",
    "friends = ['angelus_', 'amane88', 'aechos', 'alequijada',  'dannig012', 'popersea', 'marc.vallvebernal',\n",
    "           'nestorviolin', 'pau_ik', 'jluisite', 'elyp', 'elsapato', 'chicareversible', 'brunocossio', '42416345k']\n",
    "friends_df = pd.DataFrame()\n",
    "\n",
    "# Loop to request user informaton and adding it to friends_df:\n",
    "for friend in friends:\n",
    "    # Uses spotipy's user function to request user info.\n",
    "    user_df = json_normalize(sp.user(friend))\n",
    "    friends_df = friends_df.append(user_df)"
   ]
  },
  {
   "cell_type": "markdown",
   "metadata": {},
   "source": [
    "### friends_df information and export:"
   ]
  },
  {
   "cell_type": "code",
   "execution_count": 6,
   "metadata": {},
   "outputs": [
    {
     "data": {
      "text/html": [
       "<div>\n",
       "<style scoped>\n",
       "    .dataframe tbody tr th:only-of-type {\n",
       "        vertical-align: middle;\n",
       "    }\n",
       "\n",
       "    .dataframe tbody tr th {\n",
       "        vertical-align: top;\n",
       "    }\n",
       "\n",
       "    .dataframe thead th {\n",
       "        text-align: right;\n",
       "    }\n",
       "</style>\n",
       "<table border=\"1\" class=\"dataframe\">\n",
       "  <thead>\n",
       "    <tr style=\"text-align: right;\">\n",
       "      <th></th>\n",
       "      <th>display_name</th>\n",
       "      <th>external_urls.spotify</th>\n",
       "      <th>followers.href</th>\n",
       "      <th>followers.total</th>\n",
       "      <th>href</th>\n",
       "      <th>id</th>\n",
       "      <th>images</th>\n",
       "      <th>type</th>\n",
       "      <th>uri</th>\n",
       "    </tr>\n",
       "  </thead>\n",
       "  <tbody>\n",
       "    <tr>\n",
       "      <th>0</th>\n",
       "      <td>angelus_</td>\n",
       "      <td>https://open.spotify.com/user/angelus_</td>\n",
       "      <td>None</td>\n",
       "      <td>14</td>\n",
       "      <td>https://api.spotify.com/v1/users/angelus_</td>\n",
       "      <td>angelus_</td>\n",
       "      <td>[]</td>\n",
       "      <td>user</td>\n",
       "      <td>spotify:user:angelus_</td>\n",
       "    </tr>\n",
       "    <tr>\n",
       "      <th>0</th>\n",
       "      <td>Amanda Batista Sosa</td>\n",
       "      <td>https://open.spotify.com/user/amane88</td>\n",
       "      <td>None</td>\n",
       "      <td>34</td>\n",
       "      <td>https://api.spotify.com/v1/users/amane88</td>\n",
       "      <td>amane88</td>\n",
       "      <td>[{'height': None, 'url': 'https://scontent.xx....</td>\n",
       "      <td>user</td>\n",
       "      <td>spotify:user:amane88</td>\n",
       "    </tr>\n",
       "    <tr>\n",
       "      <th>0</th>\n",
       "      <td>Alejandro De La Barreda Heusser</td>\n",
       "      <td>https://open.spotify.com/user/aechos</td>\n",
       "      <td>None</td>\n",
       "      <td>66</td>\n",
       "      <td>https://api.spotify.com/v1/users/aechos</td>\n",
       "      <td>aechos</td>\n",
       "      <td>[{'height': None, 'url': 'https://scontent.xx....</td>\n",
       "      <td>user</td>\n",
       "      <td>spotify:user:aechos</td>\n",
       "    </tr>\n",
       "    <tr>\n",
       "      <th>0</th>\n",
       "      <td>Alejandro Quijada Fumero</td>\n",
       "      <td>https://open.spotify.com/user/alequijada</td>\n",
       "      <td>None</td>\n",
       "      <td>16</td>\n",
       "      <td>https://api.spotify.com/v1/users/alequijada</td>\n",
       "      <td>alequijada</td>\n",
       "      <td>[{'height': None, 'url': 'https://scontent.xx....</td>\n",
       "      <td>user</td>\n",
       "      <td>spotify:user:alequijada</td>\n",
       "    </tr>\n",
       "    <tr>\n",
       "      <th>0</th>\n",
       "      <td>dannig012</td>\n",
       "      <td>https://open.spotify.com/user/dannig012</td>\n",
       "      <td>None</td>\n",
       "      <td>24</td>\n",
       "      <td>https://api.spotify.com/v1/users/dannig012</td>\n",
       "      <td>dannig012</td>\n",
       "      <td>[]</td>\n",
       "      <td>user</td>\n",
       "      <td>spotify:user:dannig012</td>\n",
       "    </tr>\n",
       "  </tbody>\n",
       "</table>\n",
       "</div>"
      ],
      "text/plain": [
       "                      display_name                     external_urls.spotify followers.href  followers.total                                         href          id                                             images  type                      uri\n",
       "0                         angelus_    https://open.spotify.com/user/angelus_           None               14    https://api.spotify.com/v1/users/angelus_    angelus_                                                 []  user    spotify:user:angelus_\n",
       "0              Amanda Batista Sosa     https://open.spotify.com/user/amane88           None               34     https://api.spotify.com/v1/users/amane88     amane88  [{'height': None, 'url': 'https://scontent.xx....  user     spotify:user:amane88\n",
       "0  Alejandro De La Barreda Heusser      https://open.spotify.com/user/aechos           None               66      https://api.spotify.com/v1/users/aechos      aechos  [{'height': None, 'url': 'https://scontent.xx....  user      spotify:user:aechos\n",
       "0         Alejandro Quijada Fumero  https://open.spotify.com/user/alequijada           None               16  https://api.spotify.com/v1/users/alequijada  alequijada  [{'height': None, 'url': 'https://scontent.xx....  user  spotify:user:alequijada\n",
       "0                        dannig012   https://open.spotify.com/user/dannig012           None               24   https://api.spotify.com/v1/users/dannig012   dannig012                                                 []  user   spotify:user:dannig012"
      ]
     },
     "execution_count": 6,
     "metadata": {},
     "output_type": "execute_result"
    }
   ],
   "source": [
    "friends_df.head()"
   ]
  },
  {
   "cell_type": "code",
   "execution_count": 7,
   "metadata": {},
   "outputs": [
    {
     "data": {
      "text/plain": [
       "(15, 9)"
      ]
     },
     "execution_count": 7,
     "metadata": {},
     "output_type": "execute_result"
    }
   ],
   "source": [
    "friends_df.shape"
   ]
  },
  {
   "cell_type": "code",
   "execution_count": 8,
   "metadata": {},
   "outputs": [
    {
     "name": "stdout",
     "output_type": "stream",
     "text": [
      "<class 'pandas.core.frame.DataFrame'>\n",
      "Int64Index: 15 entries, 0 to 0\n",
      "Data columns (total 9 columns):\n",
      "display_name             15 non-null object\n",
      "external_urls.spotify    15 non-null object\n",
      "followers.href           0 non-null object\n",
      "followers.total          15 non-null int64\n",
      "href                     15 non-null object\n",
      "id                       15 non-null object\n",
      "images                   15 non-null object\n",
      "type                     15 non-null object\n",
      "uri                      15 non-null object\n",
      "dtypes: int64(1), object(8)\n",
      "memory usage: 1.2+ KB\n"
     ]
    }
   ],
   "source": [
    "friends_df.info()"
   ]
  },
  {
   "cell_type": "code",
   "execution_count": 9,
   "metadata": {},
   "outputs": [],
   "source": [
    "#Exporting (uses PATH as constant previously defined):\n",
    "friends_export = friends_df.to_csv('%s/output/spotify_friends.csv'%PATH, index=False)"
   ]
  },
  {
   "cell_type": "markdown",
   "metadata": {},
   "source": [
    "## 5. Extract playlist information"
   ]
  },
  {
   "cell_type": "markdown",
   "metadata": {},
   "source": [
    "### Defining a function to extract (and flatten) the public playlists for a given user:"
   ]
  },
  {
   "cell_type": "code",
   "execution_count": 10,
   "metadata": {},
   "outputs": [],
   "source": [
    "def playlist_extractor(user):\n",
    "    # Uses spotipy's user_playlists function.\n",
    "    playlists = json_normalize(sp.user_playlists(user))\n",
    "    playlists_flat = json_normalize(playlists['items'][0])\n",
    "    return playlists_flat"
   ]
  },
  {
   "cell_type": "markdown",
   "metadata": {},
   "source": [
    "### Looping the function over the 'id' column of friends_df to create a new dataframe containing every playlist:"
   ]
  },
  {
   "cell_type": "code",
   "execution_count": 11,
   "metadata": {},
   "outputs": [],
   "source": [
    "# Creating the empty dataframe:\n",
    "playlists_df = pd.DataFrame()\n",
    "\n",
    "# Loop to get the playlists for every user in friends_df:\n",
    "for i in friends_df['id']:\n",
    "    user_playlists = playlist_extractor(i)\n",
    "    playlists_df = playlists_df.append(user_playlists)\n",
    "\n",
    "# Reseting playlists_df index:\n",
    "playlists_df.reset_index(drop=True, inplace=True)"
   ]
  },
  {
   "cell_type": "markdown",
   "metadata": {},
   "source": [
    "### playlists_df information:"
   ]
  },
  {
   "cell_type": "code",
   "execution_count": 12,
   "metadata": {},
   "outputs": [
    {
     "data": {
      "text/html": [
       "<div>\n",
       "<style scoped>\n",
       "    .dataframe tbody tr th:only-of-type {\n",
       "        vertical-align: middle;\n",
       "    }\n",
       "\n",
       "    .dataframe tbody tr th {\n",
       "        vertical-align: top;\n",
       "    }\n",
       "\n",
       "    .dataframe thead th {\n",
       "        text-align: right;\n",
       "    }\n",
       "</style>\n",
       "<table border=\"1\" class=\"dataframe\">\n",
       "  <thead>\n",
       "    <tr style=\"text-align: right;\">\n",
       "      <th></th>\n",
       "      <th>collaborative</th>\n",
       "      <th>external_urls.spotify</th>\n",
       "      <th>href</th>\n",
       "      <th>id</th>\n",
       "      <th>images</th>\n",
       "      <th>name</th>\n",
       "      <th>owner.display_name</th>\n",
       "      <th>owner.external_urls.spotify</th>\n",
       "      <th>owner.href</th>\n",
       "      <th>owner.id</th>\n",
       "      <th>owner.type</th>\n",
       "      <th>owner.uri</th>\n",
       "      <th>primary_color</th>\n",
       "      <th>public</th>\n",
       "      <th>snapshot_id</th>\n",
       "      <th>tracks.href</th>\n",
       "      <th>tracks.total</th>\n",
       "      <th>type</th>\n",
       "      <th>uri</th>\n",
       "    </tr>\n",
       "  </thead>\n",
       "  <tbody>\n",
       "    <tr>\n",
       "      <th>0</th>\n",
       "      <td>False</td>\n",
       "      <td>https://open.spotify.com/playlist/37i9dQZF1DWX...</td>\n",
       "      <td>https://api.spotify.com/v1/playlists/37i9dQZF1...</td>\n",
       "      <td>37i9dQZF1DWXe9gFZP0gtP</td>\n",
       "      <td>[{'height': None, 'url': 'https://pl.scdn.co/i...</td>\n",
       "      <td>Stress Relief</td>\n",
       "      <td>Spotify</td>\n",
       "      <td>https://open.spotify.com/user/spotify</td>\n",
       "      <td>https://api.spotify.com/v1/users/spotify</td>\n",
       "      <td>spotify</td>\n",
       "      <td>user</td>\n",
       "      <td>spotify:user:spotify</td>\n",
       "      <td>None</td>\n",
       "      <td>True</td>\n",
       "      <td>MTU2NDA2NjEzNiwwMDAwMDAwMGQ0MWQ4Y2Q5OGYwMGIyMD...</td>\n",
       "      <td>https://api.spotify.com/v1/playlists/37i9dQZF1...</td>\n",
       "      <td>131</td>\n",
       "      <td>playlist</td>\n",
       "      <td>spotify:playlist:37i9dQZF1DWXe9gFZP0gtP</td>\n",
       "    </tr>\n",
       "    <tr>\n",
       "      <th>1</th>\n",
       "      <td>False</td>\n",
       "      <td>https://open.spotify.com/playlist/5oiKq5lfsNvr...</td>\n",
       "      <td>https://api.spotify.com/v1/playlists/5oiKq5lfs...</td>\n",
       "      <td>5oiKq5lfsNvrdN7xAy6XsK</td>\n",
       "      <td>[{'height': 640, 'url': 'https://mosaic.scdn.c...</td>\n",
       "      <td>Místico All time collection</td>\n",
       "      <td>angelus_</td>\n",
       "      <td>https://open.spotify.com/user/angelus_</td>\n",
       "      <td>https://api.spotify.com/v1/users/angelus_</td>\n",
       "      <td>angelus_</td>\n",
       "      <td>user</td>\n",
       "      <td>spotify:user:angelus_</td>\n",
       "      <td>None</td>\n",
       "      <td>True</td>\n",
       "      <td>MTQxLGZhNTJkYmU2ZGYxZDk0MTVmYzZjNzJhNzk4YzU2Zm...</td>\n",
       "      <td>https://api.spotify.com/v1/playlists/5oiKq5lfs...</td>\n",
       "      <td>150</td>\n",
       "      <td>playlist</td>\n",
       "      <td>spotify:playlist:5oiKq5lfsNvrdN7xAy6XsK</td>\n",
       "    </tr>\n",
       "    <tr>\n",
       "      <th>2</th>\n",
       "      <td>False</td>\n",
       "      <td>https://open.spotify.com/playlist/4UBx2ZfAjPbh...</td>\n",
       "      <td>https://api.spotify.com/v1/playlists/4UBx2ZfAj...</td>\n",
       "      <td>4UBx2ZfAjPbh0jNdvuVhss</td>\n",
       "      <td>[{'height': 640, 'url': 'https://mosaic.scdn.c...</td>\n",
       "      <td>Chunda chunda guay discotequero</td>\n",
       "      <td>angelus_</td>\n",
       "      <td>https://open.spotify.com/user/angelus_</td>\n",
       "      <td>https://api.spotify.com/v1/users/angelus_</td>\n",
       "      <td>angelus_</td>\n",
       "      <td>user</td>\n",
       "      <td>spotify:user:angelus_</td>\n",
       "      <td>None</td>\n",
       "      <td>True</td>\n",
       "      <td>MTMzLGFiNTMzYWU3NGYyMzAxY2RkMjRiNWExMWEzZTFiYj...</td>\n",
       "      <td>https://api.spotify.com/v1/playlists/4UBx2ZfAj...</td>\n",
       "      <td>135</td>\n",
       "      <td>playlist</td>\n",
       "      <td>spotify:playlist:4UBx2ZfAjPbh0jNdvuVhss</td>\n",
       "    </tr>\n",
       "    <tr>\n",
       "      <th>3</th>\n",
       "      <td>False</td>\n",
       "      <td>https://open.spotify.com/playlist/3tPFZzhjsRsJ...</td>\n",
       "      <td>https://api.spotify.com/v1/playlists/3tPFZzhjs...</td>\n",
       "      <td>3tPFZzhjsRsJWavnevNwER</td>\n",
       "      <td>[{'height': 640, 'url': 'https://i.scdn.co/ima...</td>\n",
       "      <td>New Life</td>\n",
       "      <td>angelus_</td>\n",
       "      <td>https://open.spotify.com/user/angelus_</td>\n",
       "      <td>https://api.spotify.com/v1/users/angelus_</td>\n",
       "      <td>angelus_</td>\n",
       "      <td>user</td>\n",
       "      <td>spotify:user:angelus_</td>\n",
       "      <td>None</td>\n",
       "      <td>True</td>\n",
       "      <td>MyxkMWNiZWZjZTYyYmM4Yzc1MTNlMmY5YjkwYjY0ZWNlN2...</td>\n",
       "      <td>https://api.spotify.com/v1/playlists/3tPFZzhjs...</td>\n",
       "      <td>2</td>\n",
       "      <td>playlist</td>\n",
       "      <td>spotify:playlist:3tPFZzhjsRsJWavnevNwER</td>\n",
       "    </tr>\n",
       "    <tr>\n",
       "      <th>4</th>\n",
       "      <td>False</td>\n",
       "      <td>https://open.spotify.com/playlist/6xa4DYxZ5IO0...</td>\n",
       "      <td>https://api.spotify.com/v1/playlists/6xa4DYxZ5...</td>\n",
       "      <td>6xa4DYxZ5IO09eyKt5be52</td>\n",
       "      <td>[{'height': 640, 'url': 'https://mosaic.scdn.c...</td>\n",
       "      <td>MBM</td>\n",
       "      <td>angelus_</td>\n",
       "      <td>https://open.spotify.com/user/angelus_</td>\n",
       "      <td>https://api.spotify.com/v1/users/angelus_</td>\n",
       "      <td>angelus_</td>\n",
       "      <td>user</td>\n",
       "      <td>spotify:user:angelus_</td>\n",
       "      <td>None</td>\n",
       "      <td>True</td>\n",
       "      <td>NDksZDhmMWRiZDgxNDRjYjRlYzBhMjE3NGU2ZTFiNDQ4YT...</td>\n",
       "      <td>https://api.spotify.com/v1/playlists/6xa4DYxZ5...</td>\n",
       "      <td>186</td>\n",
       "      <td>playlist</td>\n",
       "      <td>spotify:playlist:6xa4DYxZ5IO09eyKt5be52</td>\n",
       "    </tr>\n",
       "  </tbody>\n",
       "</table>\n",
       "</div>"
      ],
      "text/plain": [
       "   collaborative                              external_urls.spotify                                               href                      id                                             images                             name owner.display_name             owner.external_urls.spotify                                 owner.href  owner.id owner.type              owner.uri primary_color  public                                        snapshot_id                                        tracks.href  tracks.total      type                                      uri\n",
       "0          False  https://open.spotify.com/playlist/37i9dQZF1DWX...  https://api.spotify.com/v1/playlists/37i9dQZF1...  37i9dQZF1DWXe9gFZP0gtP  [{'height': None, 'url': 'https://pl.scdn.co/i...                    Stress Relief            Spotify   https://open.spotify.com/user/spotify   https://api.spotify.com/v1/users/spotify   spotify       user   spotify:user:spotify          None    True  MTU2NDA2NjEzNiwwMDAwMDAwMGQ0MWQ4Y2Q5OGYwMGIyMD...  https://api.spotify.com/v1/playlists/37i9dQZF1...           131  playlist  spotify:playlist:37i9dQZF1DWXe9gFZP0gtP\n",
       "1          False  https://open.spotify.com/playlist/5oiKq5lfsNvr...  https://api.spotify.com/v1/playlists/5oiKq5lfs...  5oiKq5lfsNvrdN7xAy6XsK  [{'height': 640, 'url': 'https://mosaic.scdn.c...      Místico All time collection           angelus_  https://open.spotify.com/user/angelus_  https://api.spotify.com/v1/users/angelus_  angelus_       user  spotify:user:angelus_          None    True  MTQxLGZhNTJkYmU2ZGYxZDk0MTVmYzZjNzJhNzk4YzU2Zm...  https://api.spotify.com/v1/playlists/5oiKq5lfs...           150  playlist  spotify:playlist:5oiKq5lfsNvrdN7xAy6XsK\n",
       "2          False  https://open.spotify.com/playlist/4UBx2ZfAjPbh...  https://api.spotify.com/v1/playlists/4UBx2ZfAj...  4UBx2ZfAjPbh0jNdvuVhss  [{'height': 640, 'url': 'https://mosaic.scdn.c...  Chunda chunda guay discotequero           angelus_  https://open.spotify.com/user/angelus_  https://api.spotify.com/v1/users/angelus_  angelus_       user  spotify:user:angelus_          None    True  MTMzLGFiNTMzYWU3NGYyMzAxY2RkMjRiNWExMWEzZTFiYj...  https://api.spotify.com/v1/playlists/4UBx2ZfAj...           135  playlist  spotify:playlist:4UBx2ZfAjPbh0jNdvuVhss\n",
       "3          False  https://open.spotify.com/playlist/3tPFZzhjsRsJ...  https://api.spotify.com/v1/playlists/3tPFZzhjs...  3tPFZzhjsRsJWavnevNwER  [{'height': 640, 'url': 'https://i.scdn.co/ima...                         New Life           angelus_  https://open.spotify.com/user/angelus_  https://api.spotify.com/v1/users/angelus_  angelus_       user  spotify:user:angelus_          None    True  MyxkMWNiZWZjZTYyYmM4Yzc1MTNlMmY5YjkwYjY0ZWNlN2...  https://api.spotify.com/v1/playlists/3tPFZzhjs...             2  playlist  spotify:playlist:3tPFZzhjsRsJWavnevNwER\n",
       "4          False  https://open.spotify.com/playlist/6xa4DYxZ5IO0...  https://api.spotify.com/v1/playlists/6xa4DYxZ5...  6xa4DYxZ5IO09eyKt5be52  [{'height': 640, 'url': 'https://mosaic.scdn.c...                              MBM           angelus_  https://open.spotify.com/user/angelus_  https://api.spotify.com/v1/users/angelus_  angelus_       user  spotify:user:angelus_          None    True  NDksZDhmMWRiZDgxNDRjYjRlYzBhMjE3NGU2ZTFiNDQ4YT...  https://api.spotify.com/v1/playlists/6xa4DYxZ5...           186  playlist  spotify:playlist:6xa4DYxZ5IO09eyKt5be52"
      ]
     },
     "execution_count": 12,
     "metadata": {},
     "output_type": "execute_result"
    }
   ],
   "source": [
    "playlists_df.head()"
   ]
  },
  {
   "cell_type": "code",
   "execution_count": 13,
   "metadata": {},
   "outputs": [
    {
     "data": {
      "text/plain": [
       "(493, 19)"
      ]
     },
     "execution_count": 13,
     "metadata": {},
     "output_type": "execute_result"
    }
   ],
   "source": [
    "playlists_df.shape"
   ]
  },
  {
   "cell_type": "code",
   "execution_count": 14,
   "metadata": {},
   "outputs": [
    {
     "name": "stdout",
     "output_type": "stream",
     "text": [
      "<class 'pandas.core.frame.DataFrame'>\n",
      "RangeIndex: 493 entries, 0 to 492\n",
      "Data columns (total 19 columns):\n",
      "collaborative                  493 non-null bool\n",
      "external_urls.spotify          493 non-null object\n",
      "href                           493 non-null object\n",
      "id                             493 non-null object\n",
      "images                         493 non-null object\n",
      "name                           493 non-null object\n",
      "owner.display_name             434 non-null object\n",
      "owner.external_urls.spotify    493 non-null object\n",
      "owner.href                     493 non-null object\n",
      "owner.id                       493 non-null object\n",
      "owner.type                     493 non-null object\n",
      "owner.uri                      493 non-null object\n",
      "primary_color                  0 non-null object\n",
      "public                         493 non-null bool\n",
      "snapshot_id                    493 non-null object\n",
      "tracks.href                    493 non-null object\n",
      "tracks.total                   493 non-null int64\n",
      "type                           493 non-null object\n",
      "uri                            493 non-null object\n",
      "dtypes: bool(2), int64(1), object(16)\n",
      "memory usage: 66.5+ KB\n"
     ]
    }
   ],
   "source": [
    "playlists_df.info()"
   ]
  },
  {
   "cell_type": "code",
   "execution_count": 15,
   "metadata": {},
   "outputs": [],
   "source": [
    "#Exporting (uses PATH as constant previously defined):\n",
    "playlists_export = playlists_df.to_csv('%s/output/spotify_playlists.csv'%PATH, index=False)"
   ]
  },
  {
   "cell_type": "markdown",
   "metadata": {},
   "source": [
    "## 6. Extract track information"
   ]
  },
  {
   "cell_type": "markdown",
   "metadata": {},
   "source": [
    "### Defining a function to extract (and clean and flatten) the songs of a playlist:"
   ]
  },
  {
   "cell_type": "code",
   "execution_count": 16,
   "metadata": {},
   "outputs": [],
   "source": [
    "def track_extractor(df):\n",
    "    final_df = pd.DataFrame()\n",
    "    for i in range(len(df)):\n",
    "        # Uses spotipy's user_playlist_tracks function to get the songs.\n",
    "        track_list = json_normalize(sp.user_playlist_tracks(user=df['owner.id'][i], playlist_id=df['id'][i]))\n",
    "        if track_list['items'][0] == []:\n",
    "            continue\n",
    "        else:\n",
    "            tracks_df = json_normalize(track_list['items'][0])\n",
    "            tracks_df['owner.id'] = df['owner.id'][i]\n",
    "            tracks_df_clean = tracks_df[['track.album.href', 'track.album.id', 'track.album.name', \n",
    "                                   'track.album.release_date', 'track.album.type', 'track.artists', 'track.href',\n",
    "                                   'track.id', 'track.is_local', 'track.name', 'track.popularity', 'track.type', 'owner.id']]\n",
    "            final_df = final_df.append(tracks_df_clean)\n",
    "    return final_df"
   ]
  },
  {
   "cell_type": "markdown",
   "metadata": {},
   "source": [
    "### Looping the function over playlists_df to create a new dataframe with all the tracks of every playlist:"
   ]
  },
  {
   "cell_type": "code",
   "execution_count": 17,
   "metadata": {},
   "outputs": [
    {
     "name": "stdout",
     "output_type": "stream",
     "text": [
      "0\n",
      "1\n",
      "2\n",
      "3\n",
      "4\n",
      "5\n",
      "6\n",
      "7\n",
      "8\n",
      "9\n",
      "10\n",
      "11\n",
      "12\n",
      "13\n",
      "14\n",
      "15\n",
      "16\n",
      "17\n",
      "18\n",
      "19\n",
      "20\n",
      "21\n",
      "22\n",
      "23\n",
      "24\n",
      "25\n",
      "26\n",
      "27\n",
      "28\n",
      "29\n",
      "30\n",
      "31\n",
      "32\n",
      "33\n",
      "34\n",
      "35\n",
      "36\n",
      "37\n",
      "38\n",
      "39\n",
      "40\n",
      "41\n",
      "42\n",
      "43\n",
      "44\n",
      "45\n",
      "46\n",
      "47\n",
      "48\n",
      "49\n",
      "50\n",
      "51\n",
      "52\n",
      "53\n",
      "54\n",
      "55\n",
      "56\n",
      "57\n",
      "58\n",
      "59\n",
      "60\n",
      "61\n",
      "62\n",
      "63\n",
      "64\n",
      "65\n",
      "66\n",
      "67\n",
      "68\n",
      "69\n",
      "70\n",
      "71\n",
      "72\n",
      "73\n",
      "74\n",
      "75\n",
      "76\n",
      "77\n",
      "78\n",
      "79\n",
      "80\n",
      "81\n",
      "82\n",
      "83\n",
      "84\n",
      "85\n",
      "86\n",
      "87\n",
      "88\n",
      "89\n",
      "90\n",
      "91\n",
      "92\n",
      "93\n",
      "94\n",
      "95\n",
      "96\n",
      "97\n",
      "98\n",
      "99\n",
      "100\n",
      "101\n",
      "102\n",
      "103\n",
      "104\n",
      "105\n",
      "106\n",
      "107\n",
      "108\n",
      "109\n",
      "110\n",
      "111\n",
      "112\n",
      "113\n",
      "114\n",
      "115\n",
      "116\n",
      "117\n",
      "118\n",
      "119\n",
      "120\n",
      "121\n",
      "122\n",
      "123\n",
      "124\n",
      "125\n",
      "126\n",
      "127\n",
      "128\n",
      "129\n",
      "130\n",
      "131\n",
      "132\n",
      "133\n",
      "134\n",
      "135\n",
      "136\n",
      "137\n",
      "138\n",
      "139\n",
      "140\n",
      "141\n",
      "142\n",
      "143\n",
      "144\n",
      "145\n",
      "146\n",
      "147\n",
      "148\n",
      "149\n",
      "150\n",
      "151\n",
      "152\n",
      "153\n",
      "154\n",
      "155\n",
      "156\n",
      "157\n",
      "158\n",
      "159\n",
      "160\n",
      "161\n",
      "162\n",
      "163\n",
      "164\n",
      "165\n",
      "166\n",
      "167\n",
      "168\n",
      "169\n",
      "170\n",
      "171\n",
      "172\n",
      "173\n",
      "174\n",
      "175\n",
      "176\n",
      "177\n",
      "178\n",
      "179\n",
      "180\n",
      "181\n",
      "182\n",
      "183\n",
      "184\n",
      "185\n",
      "186\n",
      "187\n",
      "188\n",
      "189\n",
      "190\n",
      "191\n",
      "192\n",
      "193\n",
      "194\n",
      "195\n",
      "196\n",
      "197\n",
      "198\n",
      "199\n",
      "200\n",
      "201\n",
      "202\n",
      "203\n",
      "204\n",
      "205\n",
      "206\n",
      "207\n",
      "208\n",
      "209\n",
      "210\n",
      "211\n",
      "212\n",
      "213\n",
      "214\n",
      "215\n",
      "216\n",
      "217\n",
      "218\n",
      "219\n",
      "220\n",
      "221\n",
      "222\n",
      "223\n",
      "224\n",
      "225\n",
      "226\n",
      "227\n",
      "228\n",
      "229\n",
      "230\n",
      "231\n",
      "232\n",
      "233\n",
      "234\n",
      "235\n",
      "236\n",
      "237\n",
      "238\n",
      "239\n",
      "240\n",
      "241\n",
      "242\n",
      "243\n",
      "244\n",
      "245\n",
      "246\n",
      "247\n",
      "248\n",
      "249\n",
      "250\n",
      "251\n",
      "252\n",
      "253\n",
      "254\n",
      "255\n",
      "256\n",
      "257\n",
      "258\n",
      "259\n",
      "260\n",
      "261\n",
      "262\n",
      "263\n",
      "264\n",
      "265\n",
      "266\n",
      "267\n",
      "268\n",
      "269\n",
      "270\n",
      "271\n",
      "272\n",
      "273\n",
      "274\n",
      "275\n",
      "276\n",
      "277\n",
      "278\n",
      "279\n",
      "280\n",
      "281\n",
      "282\n",
      "283\n",
      "284\n",
      "285\n",
      "286\n",
      "287\n",
      "288\n",
      "289\n",
      "290\n",
      "291\n",
      "292\n",
      "293\n",
      "294\n",
      "295\n",
      "296\n",
      "297\n",
      "298\n",
      "299\n",
      "300\n",
      "301\n",
      "302\n",
      "303\n",
      "304\n",
      "305\n",
      "306\n",
      "307\n",
      "308\n",
      "309\n",
      "310\n",
      "311\n",
      "312\n",
      "313\n",
      "314\n",
      "315\n",
      "316\n",
      "317\n",
      "318\n",
      "319\n",
      "320\n",
      "321\n",
      "322\n",
      "323\n",
      "324\n",
      "325\n",
      "326\n",
      "327\n",
      "328\n",
      "329\n",
      "330\n",
      "331\n",
      "332\n",
      "333\n",
      "334\n",
      "335\n",
      "336\n",
      "337\n",
      "338\n",
      "339\n",
      "340\n",
      "341\n",
      "342\n",
      "343\n",
      "344\n",
      "345\n",
      "346\n",
      "347\n",
      "348\n",
      "349\n",
      "350\n",
      "351\n",
      "352\n",
      "353\n",
      "354\n",
      "355\n",
      "356\n",
      "357\n",
      "358\n",
      "359\n",
      "360\n",
      "361\n",
      "362\n",
      "363\n",
      "364\n",
      "365\n",
      "366\n",
      "367\n",
      "368\n",
      "369\n",
      "370\n",
      "371\n",
      "372\n",
      "373\n",
      "374\n",
      "375\n",
      "376\n",
      "377\n",
      "378\n",
      "379\n",
      "380\n",
      "381\n",
      "382\n",
      "383\n",
      "384\n",
      "385\n",
      "386\n",
      "387\n",
      "388\n",
      "389\n",
      "390\n",
      "391\n",
      "392\n",
      "393\n",
      "394\n",
      "395\n",
      "396\n",
      "397\n",
      "398\n",
      "399\n",
      "400\n",
      "401\n",
      "402\n",
      "403\n",
      "404\n",
      "405\n",
      "406\n",
      "407\n",
      "408\n",
      "409\n",
      "410\n",
      "411\n",
      "412\n",
      "413\n",
      "414\n",
      "415\n",
      "416\n",
      "417\n",
      "418\n",
      "419\n",
      "420\n",
      "421\n",
      "422\n",
      "423\n",
      "424\n",
      "425\n",
      "426\n",
      "427\n",
      "428\n",
      "429\n",
      "430\n",
      "431\n",
      "432\n",
      "433\n",
      "434\n",
      "435\n",
      "436\n",
      "437\n",
      "438\n",
      "439\n",
      "440\n",
      "441\n",
      "442\n",
      "443\n",
      "444\n",
      "445\n",
      "446\n",
      "447\n",
      "448\n",
      "449\n",
      "450\n",
      "451\n",
      "452\n",
      "453\n",
      "454\n",
      "455\n",
      "456\n",
      "457\n",
      "458\n",
      "459\n",
      "460\n",
      "461\n",
      "462\n",
      "463\n",
      "464\n",
      "465\n",
      "466\n",
      "467\n",
      "468\n",
      "469\n",
      "470\n",
      "471\n",
      "472\n",
      "473\n",
      "474\n",
      "475\n",
      "476\n",
      "477\n",
      "478\n",
      "479\n",
      "480\n",
      "481\n",
      "482\n",
      "483\n",
      "484\n",
      "485\n",
      "486\n",
      "487\n",
      "488\n",
      "489\n",
      "490\n",
      "491\n",
      "492\n"
     ]
    }
   ],
   "source": [
    "# Creating the dataframe:\n",
    "songs_df = track_extractor(playlists_df)\n",
    "\n",
    "# Resetting songs_df index:\n",
    "songs_df.reset_index(drop=True, inplace=True)"
   ]
  },
  {
   "cell_type": "markdown",
   "metadata": {},
   "source": [
    "### songs_df information:"
   ]
  },
  {
   "cell_type": "code",
   "execution_count": 18,
   "metadata": {},
   "outputs": [
    {
     "data": {
      "text/html": [
       "<div>\n",
       "<style scoped>\n",
       "    .dataframe tbody tr th:only-of-type {\n",
       "        vertical-align: middle;\n",
       "    }\n",
       "\n",
       "    .dataframe tbody tr th {\n",
       "        vertical-align: top;\n",
       "    }\n",
       "\n",
       "    .dataframe thead th {\n",
       "        text-align: right;\n",
       "    }\n",
       "</style>\n",
       "<table border=\"1\" class=\"dataframe\">\n",
       "  <thead>\n",
       "    <tr style=\"text-align: right;\">\n",
       "      <th></th>\n",
       "      <th>track.album.href</th>\n",
       "      <th>track.album.id</th>\n",
       "      <th>track.album.name</th>\n",
       "      <th>track.album.release_date</th>\n",
       "      <th>track.album.type</th>\n",
       "      <th>track.artists</th>\n",
       "      <th>track.href</th>\n",
       "      <th>track.id</th>\n",
       "      <th>track.is_local</th>\n",
       "      <th>track.name</th>\n",
       "      <th>track.popularity</th>\n",
       "      <th>track.type</th>\n",
       "      <th>owner.id</th>\n",
       "    </tr>\n",
       "  </thead>\n",
       "  <tbody>\n",
       "    <tr>\n",
       "      <th>0</th>\n",
       "      <td>https://api.spotify.com/v1/albums/6hzdQgjn3wTJ...</td>\n",
       "      <td>6hzdQgjn3wTJhOUI4cVKu2</td>\n",
       "      <td>Amelie from Montmartre</td>\n",
       "      <td>2001-04-23</td>\n",
       "      <td>album</td>\n",
       "      <td>[{'external_urls': {'spotify': 'https://open.s...</td>\n",
       "      <td>https://api.spotify.com/v1/tracks/2AkcjsKlRbIB...</td>\n",
       "      <td>2AkcjsKlRbIBYGAgpQVFii</td>\n",
       "      <td>False</td>\n",
       "      <td>Comptine d'un autre été, l'après-midi</td>\n",
       "      <td>15.0</td>\n",
       "      <td>track</td>\n",
       "      <td>spotify</td>\n",
       "    </tr>\n",
       "    <tr>\n",
       "      <th>1</th>\n",
       "      <td>https://api.spotify.com/v1/albums/5Q23RuwpOqhN...</td>\n",
       "      <td>5Q23RuwpOqhN28KtBOdnGp</td>\n",
       "      <td>Tone of Love</td>\n",
       "      <td>2019-03-23</td>\n",
       "      <td>album</td>\n",
       "      <td>[{'external_urls': {'spotify': 'https://open.s...</td>\n",
       "      <td>https://api.spotify.com/v1/tracks/3Z0n8POAcDQC...</td>\n",
       "      <td>3Z0n8POAcDQCSyxA06cqbW</td>\n",
       "      <td>False</td>\n",
       "      <td>Tone of Love</td>\n",
       "      <td>61.0</td>\n",
       "      <td>track</td>\n",
       "      <td>spotify</td>\n",
       "    </tr>\n",
       "    <tr>\n",
       "      <th>2</th>\n",
       "      <td>https://api.spotify.com/v1/albums/2rK7rji9Qxaf...</td>\n",
       "      <td>2rK7rji9Qxafhao5PFXtu5</td>\n",
       "      <td>Longing</td>\n",
       "      <td>2019-05-30</td>\n",
       "      <td>album</td>\n",
       "      <td>[{'external_urls': {'spotify': 'https://open.s...</td>\n",
       "      <td>https://api.spotify.com/v1/tracks/1ONolOLYjM97...</td>\n",
       "      <td>1ONolOLYjM977hgtqKzXmJ</td>\n",
       "      <td>False</td>\n",
       "      <td>Longing</td>\n",
       "      <td>56.0</td>\n",
       "      <td>track</td>\n",
       "      <td>spotify</td>\n",
       "    </tr>\n",
       "    <tr>\n",
       "      <th>3</th>\n",
       "      <td>https://api.spotify.com/v1/albums/4zojkjd8Enxh...</td>\n",
       "      <td>4zojkjd8EnxhvBQAx1Nd4W</td>\n",
       "      <td>En t'attendant</td>\n",
       "      <td>2011-05-02</td>\n",
       "      <td>album</td>\n",
       "      <td>[{'external_urls': {'spotify': 'https://open.s...</td>\n",
       "      <td>https://api.spotify.com/v1/tracks/2rK5aTaCfPoS...</td>\n",
       "      <td>2rK5aTaCfPoSX0TqAW5YgV</td>\n",
       "      <td>False</td>\n",
       "      <td>Fin</td>\n",
       "      <td>60.0</td>\n",
       "      <td>track</td>\n",
       "      <td>spotify</td>\n",
       "    </tr>\n",
       "    <tr>\n",
       "      <th>4</th>\n",
       "      <td>https://api.spotify.com/v1/albums/6AUPQJfBYnyw...</td>\n",
       "      <td>6AUPQJfBYnyw47dZ9V0w89</td>\n",
       "      <td>Florentin</td>\n",
       "      <td>2019-04-03</td>\n",
       "      <td>album</td>\n",
       "      <td>[{'external_urls': {'spotify': 'https://open.s...</td>\n",
       "      <td>https://api.spotify.com/v1/tracks/6lE5ACHHqeEk...</td>\n",
       "      <td>6lE5ACHHqeEk7nLciGJH3P</td>\n",
       "      <td>False</td>\n",
       "      <td>Florentin</td>\n",
       "      <td>57.0</td>\n",
       "      <td>track</td>\n",
       "      <td>spotify</td>\n",
       "    </tr>\n",
       "  </tbody>\n",
       "</table>\n",
       "</div>"
      ],
      "text/plain": [
       "                                    track.album.href          track.album.id        track.album.name track.album.release_date track.album.type                                      track.artists                                         track.href                track.id track.is_local                             track.name  track.popularity track.type owner.id\n",
       "0  https://api.spotify.com/v1/albums/6hzdQgjn3wTJ...  6hzdQgjn3wTJhOUI4cVKu2  Amelie from Montmartre               2001-04-23            album  [{'external_urls': {'spotify': 'https://open.s...  https://api.spotify.com/v1/tracks/2AkcjsKlRbIB...  2AkcjsKlRbIBYGAgpQVFii          False  Comptine d'un autre été, l'après-midi              15.0      track  spotify\n",
       "1  https://api.spotify.com/v1/albums/5Q23RuwpOqhN...  5Q23RuwpOqhN28KtBOdnGp            Tone of Love               2019-03-23            album  [{'external_urls': {'spotify': 'https://open.s...  https://api.spotify.com/v1/tracks/3Z0n8POAcDQC...  3Z0n8POAcDQCSyxA06cqbW          False                           Tone of Love              61.0      track  spotify\n",
       "2  https://api.spotify.com/v1/albums/2rK7rji9Qxaf...  2rK7rji9Qxafhao5PFXtu5                 Longing               2019-05-30            album  [{'external_urls': {'spotify': 'https://open.s...  https://api.spotify.com/v1/tracks/1ONolOLYjM97...  1ONolOLYjM977hgtqKzXmJ          False                                Longing              56.0      track  spotify\n",
       "3  https://api.spotify.com/v1/albums/4zojkjd8Enxh...  4zojkjd8EnxhvBQAx1Nd4W          En t'attendant               2011-05-02            album  [{'external_urls': {'spotify': 'https://open.s...  https://api.spotify.com/v1/tracks/2rK5aTaCfPoS...  2rK5aTaCfPoSX0TqAW5YgV          False                                    Fin              60.0      track  spotify\n",
       "4  https://api.spotify.com/v1/albums/6AUPQJfBYnyw...  6AUPQJfBYnyw47dZ9V0w89               Florentin               2019-04-03            album  [{'external_urls': {'spotify': 'https://open.s...  https://api.spotify.com/v1/tracks/6lE5ACHHqeEk...  6lE5ACHHqeEk7nLciGJH3P          False                              Florentin              57.0      track  spotify"
      ]
     },
     "execution_count": 18,
     "metadata": {},
     "output_type": "execute_result"
    }
   ],
   "source": [
    "songs_df.head()"
   ]
  },
  {
   "cell_type": "code",
   "execution_count": 19,
   "metadata": {},
   "outputs": [
    {
     "data": {
      "text/plain": [
       "(22537, 13)"
      ]
     },
     "execution_count": 19,
     "metadata": {},
     "output_type": "execute_result"
    }
   ],
   "source": [
    "songs_df.shape"
   ]
  },
  {
   "cell_type": "code",
   "execution_count": 20,
   "metadata": {},
   "outputs": [
    {
     "name": "stdout",
     "output_type": "stream",
     "text": [
      "<class 'pandas.core.frame.DataFrame'>\n",
      "RangeIndex: 22537 entries, 0 to 22536\n",
      "Data columns (total 13 columns):\n",
      "track.album.href            22173 non-null object\n",
      "track.album.id              22173 non-null object\n",
      "track.album.name            22534 non-null object\n",
      "track.album.release_date    22173 non-null object\n",
      "track.album.type            22534 non-null object\n",
      "track.artists               22534 non-null object\n",
      "track.href                  22173 non-null object\n",
      "track.id                    22173 non-null object\n",
      "track.is_local              22534 non-null object\n",
      "track.name                  22534 non-null object\n",
      "track.popularity            22534 non-null float64\n",
      "track.type                  22534 non-null object\n",
      "owner.id                    22537 non-null object\n",
      "dtypes: float64(1), object(12)\n",
      "memory usage: 2.2+ MB\n"
     ]
    }
   ],
   "source": [
    "songs_df.info()"
   ]
  },
  {
   "cell_type": "markdown",
   "metadata": {},
   "source": [
    "## 7. Extract artist information:"
   ]
  },
  {
   "cell_type": "markdown",
   "metadata": {},
   "source": [
    "### Defining a function to extract (by means of flattenning) the artist of the songs_df:"
   ]
  },
  {
   "cell_type": "code",
   "execution_count": 21,
   "metadata": {},
   "outputs": [],
   "source": [
    "def artist_extractor(item):\n",
    "    if type(item) == float:\n",
    "        return []\n",
    "    else:\n",
    "        artist_df = json_normalize(item)\n",
    "        artist_list = [str(artist_df['name'][i]) for i in range(len(artist_df))]\n",
    "        return artist_list"
   ]
  },
  {
   "cell_type": "markdown",
   "metadata": {},
   "source": [
    "### Applying the function to the whole 'track.artists' column in order to change the json information for a more readable list of artists:"
   ]
  },
  {
   "cell_type": "code",
   "execution_count": 22,
   "metadata": {},
   "outputs": [],
   "source": [
    "songs_df['track.artists'] = songs_df['track.artists'].apply(artist_extractor)"
   ]
  },
  {
   "cell_type": "markdown",
   "metadata": {},
   "source": [
    "## 8. songs_df information, cleaning, and export:"
   ]
  },
  {
   "cell_type": "code",
   "execution_count": 23,
   "metadata": {},
   "outputs": [
    {
     "data": {
      "text/html": [
       "<div>\n",
       "<style scoped>\n",
       "    .dataframe tbody tr th:only-of-type {\n",
       "        vertical-align: middle;\n",
       "    }\n",
       "\n",
       "    .dataframe tbody tr th {\n",
       "        vertical-align: top;\n",
       "    }\n",
       "\n",
       "    .dataframe thead th {\n",
       "        text-align: right;\n",
       "    }\n",
       "</style>\n",
       "<table border=\"1\" class=\"dataframe\">\n",
       "  <thead>\n",
       "    <tr style=\"text-align: right;\">\n",
       "      <th></th>\n",
       "      <th>track.album.href</th>\n",
       "      <th>track.album.id</th>\n",
       "      <th>track.album.name</th>\n",
       "      <th>track.album.release_date</th>\n",
       "      <th>track.album.type</th>\n",
       "      <th>track.artists</th>\n",
       "      <th>track.href</th>\n",
       "      <th>track.id</th>\n",
       "      <th>track.is_local</th>\n",
       "      <th>track.name</th>\n",
       "      <th>track.popularity</th>\n",
       "      <th>track.type</th>\n",
       "      <th>owner.id</th>\n",
       "    </tr>\n",
       "  </thead>\n",
       "  <tbody>\n",
       "    <tr>\n",
       "      <th>0</th>\n",
       "      <td>https://api.spotify.com/v1/albums/6hzdQgjn3wTJ...</td>\n",
       "      <td>6hzdQgjn3wTJhOUI4cVKu2</td>\n",
       "      <td>Amelie from Montmartre</td>\n",
       "      <td>2001-04-23</td>\n",
       "      <td>album</td>\n",
       "      <td>[Yann Tiersen]</td>\n",
       "      <td>https://api.spotify.com/v1/tracks/2AkcjsKlRbIB...</td>\n",
       "      <td>2AkcjsKlRbIBYGAgpQVFii</td>\n",
       "      <td>False</td>\n",
       "      <td>Comptine d'un autre été, l'après-midi</td>\n",
       "      <td>15.0</td>\n",
       "      <td>track</td>\n",
       "      <td>spotify</td>\n",
       "    </tr>\n",
       "    <tr>\n",
       "      <th>1</th>\n",
       "      <td>https://api.spotify.com/v1/albums/5Q23RuwpOqhN...</td>\n",
       "      <td>5Q23RuwpOqhN28KtBOdnGp</td>\n",
       "      <td>Tone of Love</td>\n",
       "      <td>2019-03-23</td>\n",
       "      <td>album</td>\n",
       "      <td>[Charles Bolt]</td>\n",
       "      <td>https://api.spotify.com/v1/tracks/3Z0n8POAcDQC...</td>\n",
       "      <td>3Z0n8POAcDQCSyxA06cqbW</td>\n",
       "      <td>False</td>\n",
       "      <td>Tone of Love</td>\n",
       "      <td>61.0</td>\n",
       "      <td>track</td>\n",
       "      <td>spotify</td>\n",
       "    </tr>\n",
       "    <tr>\n",
       "      <th>2</th>\n",
       "      <td>https://api.spotify.com/v1/albums/2rK7rji9Qxaf...</td>\n",
       "      <td>2rK7rji9Qxafhao5PFXtu5</td>\n",
       "      <td>Longing</td>\n",
       "      <td>2019-05-30</td>\n",
       "      <td>album</td>\n",
       "      <td>[Joaquin Mans]</td>\n",
       "      <td>https://api.spotify.com/v1/tracks/1ONolOLYjM97...</td>\n",
       "      <td>1ONolOLYjM977hgtqKzXmJ</td>\n",
       "      <td>False</td>\n",
       "      <td>Longing</td>\n",
       "      <td>56.0</td>\n",
       "      <td>track</td>\n",
       "      <td>spotify</td>\n",
       "    </tr>\n",
       "    <tr>\n",
       "      <th>3</th>\n",
       "      <td>https://api.spotify.com/v1/albums/4zojkjd8Enxh...</td>\n",
       "      <td>4zojkjd8EnxhvBQAx1Nd4W</td>\n",
       "      <td>En t'attendant</td>\n",
       "      <td>2011-05-02</td>\n",
       "      <td>album</td>\n",
       "      <td>[Mélanie Laurent]</td>\n",
       "      <td>https://api.spotify.com/v1/tracks/2rK5aTaCfPoS...</td>\n",
       "      <td>2rK5aTaCfPoSX0TqAW5YgV</td>\n",
       "      <td>False</td>\n",
       "      <td>Fin</td>\n",
       "      <td>60.0</td>\n",
       "      <td>track</td>\n",
       "      <td>spotify</td>\n",
       "    </tr>\n",
       "    <tr>\n",
       "      <th>4</th>\n",
       "      <td>https://api.spotify.com/v1/albums/6AUPQJfBYnyw...</td>\n",
       "      <td>6AUPQJfBYnyw47dZ9V0w89</td>\n",
       "      <td>Florentin</td>\n",
       "      <td>2019-04-03</td>\n",
       "      <td>album</td>\n",
       "      <td>[Joaquin Alejandro]</td>\n",
       "      <td>https://api.spotify.com/v1/tracks/6lE5ACHHqeEk...</td>\n",
       "      <td>6lE5ACHHqeEk7nLciGJH3P</td>\n",
       "      <td>False</td>\n",
       "      <td>Florentin</td>\n",
       "      <td>57.0</td>\n",
       "      <td>track</td>\n",
       "      <td>spotify</td>\n",
       "    </tr>\n",
       "  </tbody>\n",
       "</table>\n",
       "</div>"
      ],
      "text/plain": [
       "                                    track.album.href          track.album.id        track.album.name track.album.release_date track.album.type        track.artists                                         track.href                track.id track.is_local                             track.name  track.popularity track.type owner.id\n",
       "0  https://api.spotify.com/v1/albums/6hzdQgjn3wTJ...  6hzdQgjn3wTJhOUI4cVKu2  Amelie from Montmartre               2001-04-23            album       [Yann Tiersen]  https://api.spotify.com/v1/tracks/2AkcjsKlRbIB...  2AkcjsKlRbIBYGAgpQVFii          False  Comptine d'un autre été, l'après-midi              15.0      track  spotify\n",
       "1  https://api.spotify.com/v1/albums/5Q23RuwpOqhN...  5Q23RuwpOqhN28KtBOdnGp            Tone of Love               2019-03-23            album       [Charles Bolt]  https://api.spotify.com/v1/tracks/3Z0n8POAcDQC...  3Z0n8POAcDQCSyxA06cqbW          False                           Tone of Love              61.0      track  spotify\n",
       "2  https://api.spotify.com/v1/albums/2rK7rji9Qxaf...  2rK7rji9Qxafhao5PFXtu5                 Longing               2019-05-30            album       [Joaquin Mans]  https://api.spotify.com/v1/tracks/1ONolOLYjM97...  1ONolOLYjM977hgtqKzXmJ          False                                Longing              56.0      track  spotify\n",
       "3  https://api.spotify.com/v1/albums/4zojkjd8Enxh...  4zojkjd8EnxhvBQAx1Nd4W          En t'attendant               2011-05-02            album    [Mélanie Laurent]  https://api.spotify.com/v1/tracks/2rK5aTaCfPoS...  2rK5aTaCfPoSX0TqAW5YgV          False                                    Fin              60.0      track  spotify\n",
       "4  https://api.spotify.com/v1/albums/6AUPQJfBYnyw...  6AUPQJfBYnyw47dZ9V0w89               Florentin               2019-04-03            album  [Joaquin Alejandro]  https://api.spotify.com/v1/tracks/6lE5ACHHqeEk...  6lE5ACHHqeEk7nLciGJH3P          False                              Florentin              57.0      track  spotify"
      ]
     },
     "execution_count": 23,
     "metadata": {},
     "output_type": "execute_result"
    }
   ],
   "source": [
    "songs_df.head()"
   ]
  },
  {
   "cell_type": "code",
   "execution_count": 24,
   "metadata": {},
   "outputs": [
    {
     "data": {
      "text/plain": [
       "(22537, 13)"
      ]
     },
     "execution_count": 24,
     "metadata": {},
     "output_type": "execute_result"
    }
   ],
   "source": [
    "songs_df.shape"
   ]
  },
  {
   "cell_type": "code",
   "execution_count": 25,
   "metadata": {},
   "outputs": [
    {
     "name": "stdout",
     "output_type": "stream",
     "text": [
      "<class 'pandas.core.frame.DataFrame'>\n",
      "RangeIndex: 22537 entries, 0 to 22536\n",
      "Data columns (total 13 columns):\n",
      "track.album.href            22173 non-null object\n",
      "track.album.id              22173 non-null object\n",
      "track.album.name            22534 non-null object\n",
      "track.album.release_date    22173 non-null object\n",
      "track.album.type            22534 non-null object\n",
      "track.artists               22537 non-null object\n",
      "track.href                  22173 non-null object\n",
      "track.id                    22173 non-null object\n",
      "track.is_local              22534 non-null object\n",
      "track.name                  22534 non-null object\n",
      "track.popularity            22534 non-null float64\n",
      "track.type                  22534 non-null object\n",
      "owner.id                    22537 non-null object\n",
      "dtypes: float64(1), object(12)\n",
      "memory usage: 2.2+ MB\n"
     ]
    }
   ],
   "source": [
    "songs_df.info()"
   ]
  },
  {
   "cell_type": "markdown",
   "metadata": {},
   "source": [
    "### Deleting all rows that are local songs:"
   ]
  },
  {
   "cell_type": "code",
   "execution_count": 26,
   "metadata": {},
   "outputs": [],
   "source": [
    "# Excluding all rows where .is_local is True\n",
    "songs_df = songs_df[songs_df['track.is_local'] == False]"
   ]
  },
  {
   "cell_type": "markdown",
   "metadata": {},
   "source": [
    "### Rearranging columns:"
   ]
  },
  {
   "cell_type": "code",
   "execution_count": 27,
   "metadata": {},
   "outputs": [],
   "source": [
    "songs_df = songs_df[['track.popularity', 'track.name', 'track.artists', \n",
    "             'track.album.name','track.href', 'track.album.href', \n",
    "             'track.id', 'track.album.id', 'track.album.release_date',\n",
    "             'track.type', 'track.album.type', 'track.is_local', 'owner.id']]"
   ]
  },
  {
   "cell_type": "markdown",
   "metadata": {},
   "source": [
    "### Renaming columns:"
   ]
  },
  {
   "cell_type": "code",
   "execution_count": 28,
   "metadata": {},
   "outputs": [],
   "source": [
    "# Replaces colon for underscore to adapt column names to snake case:\n",
    "snake_cols = [i.replace('.','_') for i in songs_df.columns]\n",
    "\n",
    "# Changes column names\n",
    "songs_df.columns = snake_cols"
   ]
  },
  {
   "cell_type": "code",
   "execution_count": 29,
   "metadata": {},
   "outputs": [
    {
     "data": {
      "text/plain": [
       "(22173, 13)"
      ]
     },
     "execution_count": 29,
     "metadata": {},
     "output_type": "execute_result"
    }
   ],
   "source": [
    "songs_df.shape"
   ]
  },
  {
   "cell_type": "code",
   "execution_count": 30,
   "metadata": {},
   "outputs": [
    {
     "data": {
      "text/html": [
       "<div>\n",
       "<style scoped>\n",
       "    .dataframe tbody tr th:only-of-type {\n",
       "        vertical-align: middle;\n",
       "    }\n",
       "\n",
       "    .dataframe tbody tr th {\n",
       "        vertical-align: top;\n",
       "    }\n",
       "\n",
       "    .dataframe thead th {\n",
       "        text-align: right;\n",
       "    }\n",
       "</style>\n",
       "<table border=\"1\" class=\"dataframe\">\n",
       "  <thead>\n",
       "    <tr style=\"text-align: right;\">\n",
       "      <th></th>\n",
       "      <th>track_popularity</th>\n",
       "      <th>track_name</th>\n",
       "      <th>track_artists</th>\n",
       "      <th>track_album_name</th>\n",
       "      <th>track_href</th>\n",
       "      <th>track_album_href</th>\n",
       "      <th>track_id</th>\n",
       "      <th>track_album_id</th>\n",
       "      <th>track_album_release_date</th>\n",
       "      <th>track_type</th>\n",
       "      <th>track_album_type</th>\n",
       "      <th>track_is_local</th>\n",
       "      <th>owner_id</th>\n",
       "    </tr>\n",
       "  </thead>\n",
       "  <tbody>\n",
       "    <tr>\n",
       "      <th>0</th>\n",
       "      <td>15.0</td>\n",
       "      <td>Comptine d'un autre été, l'après-midi</td>\n",
       "      <td>[Yann Tiersen]</td>\n",
       "      <td>Amelie from Montmartre</td>\n",
       "      <td>https://api.spotify.com/v1/tracks/2AkcjsKlRbIB...</td>\n",
       "      <td>https://api.spotify.com/v1/albums/6hzdQgjn3wTJ...</td>\n",
       "      <td>2AkcjsKlRbIBYGAgpQVFii</td>\n",
       "      <td>6hzdQgjn3wTJhOUI4cVKu2</td>\n",
       "      <td>2001-04-23</td>\n",
       "      <td>track</td>\n",
       "      <td>album</td>\n",
       "      <td>False</td>\n",
       "      <td>spotify</td>\n",
       "    </tr>\n",
       "    <tr>\n",
       "      <th>1</th>\n",
       "      <td>61.0</td>\n",
       "      <td>Tone of Love</td>\n",
       "      <td>[Charles Bolt]</td>\n",
       "      <td>Tone of Love</td>\n",
       "      <td>https://api.spotify.com/v1/tracks/3Z0n8POAcDQC...</td>\n",
       "      <td>https://api.spotify.com/v1/albums/5Q23RuwpOqhN...</td>\n",
       "      <td>3Z0n8POAcDQCSyxA06cqbW</td>\n",
       "      <td>5Q23RuwpOqhN28KtBOdnGp</td>\n",
       "      <td>2019-03-23</td>\n",
       "      <td>track</td>\n",
       "      <td>album</td>\n",
       "      <td>False</td>\n",
       "      <td>spotify</td>\n",
       "    </tr>\n",
       "    <tr>\n",
       "      <th>2</th>\n",
       "      <td>56.0</td>\n",
       "      <td>Longing</td>\n",
       "      <td>[Joaquin Mans]</td>\n",
       "      <td>Longing</td>\n",
       "      <td>https://api.spotify.com/v1/tracks/1ONolOLYjM97...</td>\n",
       "      <td>https://api.spotify.com/v1/albums/2rK7rji9Qxaf...</td>\n",
       "      <td>1ONolOLYjM977hgtqKzXmJ</td>\n",
       "      <td>2rK7rji9Qxafhao5PFXtu5</td>\n",
       "      <td>2019-05-30</td>\n",
       "      <td>track</td>\n",
       "      <td>album</td>\n",
       "      <td>False</td>\n",
       "      <td>spotify</td>\n",
       "    </tr>\n",
       "    <tr>\n",
       "      <th>3</th>\n",
       "      <td>60.0</td>\n",
       "      <td>Fin</td>\n",
       "      <td>[Mélanie Laurent]</td>\n",
       "      <td>En t'attendant</td>\n",
       "      <td>https://api.spotify.com/v1/tracks/2rK5aTaCfPoS...</td>\n",
       "      <td>https://api.spotify.com/v1/albums/4zojkjd8Enxh...</td>\n",
       "      <td>2rK5aTaCfPoSX0TqAW5YgV</td>\n",
       "      <td>4zojkjd8EnxhvBQAx1Nd4W</td>\n",
       "      <td>2011-05-02</td>\n",
       "      <td>track</td>\n",
       "      <td>album</td>\n",
       "      <td>False</td>\n",
       "      <td>spotify</td>\n",
       "    </tr>\n",
       "    <tr>\n",
       "      <th>4</th>\n",
       "      <td>57.0</td>\n",
       "      <td>Florentin</td>\n",
       "      <td>[Joaquin Alejandro]</td>\n",
       "      <td>Florentin</td>\n",
       "      <td>https://api.spotify.com/v1/tracks/6lE5ACHHqeEk...</td>\n",
       "      <td>https://api.spotify.com/v1/albums/6AUPQJfBYnyw...</td>\n",
       "      <td>6lE5ACHHqeEk7nLciGJH3P</td>\n",
       "      <td>6AUPQJfBYnyw47dZ9V0w89</td>\n",
       "      <td>2019-04-03</td>\n",
       "      <td>track</td>\n",
       "      <td>album</td>\n",
       "      <td>False</td>\n",
       "      <td>spotify</td>\n",
       "    </tr>\n",
       "  </tbody>\n",
       "</table>\n",
       "</div>"
      ],
      "text/plain": [
       "   track_popularity                             track_name        track_artists        track_album_name                                         track_href                                   track_album_href                track_id          track_album_id track_album_release_date track_type track_album_type track_is_local owner_id\n",
       "0              15.0  Comptine d'un autre été, l'après-midi       [Yann Tiersen]  Amelie from Montmartre  https://api.spotify.com/v1/tracks/2AkcjsKlRbIB...  https://api.spotify.com/v1/albums/6hzdQgjn3wTJ...  2AkcjsKlRbIBYGAgpQVFii  6hzdQgjn3wTJhOUI4cVKu2               2001-04-23      track            album          False  spotify\n",
       "1              61.0                           Tone of Love       [Charles Bolt]            Tone of Love  https://api.spotify.com/v1/tracks/3Z0n8POAcDQC...  https://api.spotify.com/v1/albums/5Q23RuwpOqhN...  3Z0n8POAcDQCSyxA06cqbW  5Q23RuwpOqhN28KtBOdnGp               2019-03-23      track            album          False  spotify\n",
       "2              56.0                                Longing       [Joaquin Mans]                 Longing  https://api.spotify.com/v1/tracks/1ONolOLYjM97...  https://api.spotify.com/v1/albums/2rK7rji9Qxaf...  1ONolOLYjM977hgtqKzXmJ  2rK7rji9Qxafhao5PFXtu5               2019-05-30      track            album          False  spotify\n",
       "3              60.0                                    Fin    [Mélanie Laurent]          En t'attendant  https://api.spotify.com/v1/tracks/2rK5aTaCfPoS...  https://api.spotify.com/v1/albums/4zojkjd8Enxh...  2rK5aTaCfPoSX0TqAW5YgV  4zojkjd8EnxhvBQAx1Nd4W               2011-05-02      track            album          False  spotify\n",
       "4              57.0                              Florentin  [Joaquin Alejandro]               Florentin  https://api.spotify.com/v1/tracks/6lE5ACHHqeEk...  https://api.spotify.com/v1/albums/6AUPQJfBYnyw...  6lE5ACHHqeEk7nLciGJH3P  6AUPQJfBYnyw47dZ9V0w89               2019-04-03      track            album          False  spotify"
      ]
     },
     "execution_count": 30,
     "metadata": {},
     "output_type": "execute_result"
    }
   ],
   "source": [
    "songs_df.head()"
   ]
  },
  {
   "cell_type": "markdown",
   "metadata": {},
   "source": [
    "### Dropping duplicates:"
   ]
  },
  {
   "cell_type": "code",
   "execution_count": 31,
   "metadata": {},
   "outputs": [],
   "source": [
    "songs_df = songs_df.drop_duplicates(subset='track_id')"
   ]
  },
  {
   "cell_type": "code",
   "execution_count": 32,
   "metadata": {},
   "outputs": [
    {
     "data": {
      "text/plain": [
       "(17443, 13)"
      ]
     },
     "execution_count": 32,
     "metadata": {},
     "output_type": "execute_result"
    }
   ],
   "source": [
    "songs_df.shape"
   ]
  },
  {
   "cell_type": "markdown",
   "metadata": {},
   "source": [
    "### Exporting raw dataframe:"
   ]
  },
  {
   "cell_type": "code",
   "execution_count": 33,
   "metadata": {},
   "outputs": [],
   "source": [
    "#Exporting:\n",
    "songs_raw_export = songs_df.to_csv('%s/output/spotify_songs_raw.csv'%PATH, index=False)"
   ]
  },
  {
   "cell_type": "markdown",
   "metadata": {},
   "source": [
    "### Filtering by owner (deleting songs of followed playlists):"
   ]
  },
  {
   "cell_type": "code",
   "execution_count": 34,
   "metadata": {},
   "outputs": [],
   "source": [
    "# Excludes all rows where owner.id is not in initial list of friends\n",
    "songs_filtered = songs_df.loc[songs_df['owner_id'].isin(friends)]"
   ]
  },
  {
   "cell_type": "code",
   "execution_count": 35,
   "metadata": {},
   "outputs": [
    {
     "data": {
      "text/plain": [
       "(10659, 13)"
      ]
     },
     "execution_count": 35,
     "metadata": {},
     "output_type": "execute_result"
    }
   ],
   "source": [
    "songs_filtered.shape"
   ]
  },
  {
   "cell_type": "markdown",
   "metadata": {},
   "source": [
    "###  TOP creators of playlists"
   ]
  },
  {
   "cell_type": "code",
   "execution_count": 36,
   "metadata": {
    "scrolled": true
   },
   "outputs": [
    {
     "data": {
      "text/plain": [
       "aechos               1767\n",
       "popersea             1373\n",
       "elyp                 1344\n",
       "pau_ik               1072\n",
       "angelus_              853\n",
       "brunocossio           643\n",
       "dannig012             624\n",
       "chicareversible       529\n",
       "42416345k             515\n",
       "alequijada            388\n",
       "amane88               386\n",
       "nestorviolin          359\n",
       "elsapato              313\n",
       "marc.vallvebernal     281\n",
       "jluisite              212\n",
       "Name: owner_id, dtype: int64"
      ]
     },
     "execution_count": 36,
     "metadata": {},
     "output_type": "execute_result"
    }
   ],
   "source": [
    "songs_filtered['owner_id'].value_counts()"
   ]
  },
  {
   "cell_type": "markdown",
   "metadata": {},
   "source": [
    "### Exporting filtered dataframe:"
   ]
  },
  {
   "cell_type": "code",
   "execution_count": 37,
   "metadata": {},
   "outputs": [],
   "source": [
    "#Exporting:\n",
    "songs_filtered_export = songs_filtered.to_csv('%s/output/spotify_songs_filtered.csv'%PATH, index=False)"
   ]
  }
 ],
 "metadata": {
  "kernelspec": {
   "display_name": "Python 3",
   "language": "python",
   "name": "python3"
  },
  "language_info": {
   "codemirror_mode": {
    "name": "ipython",
    "version": 3
   },
   "file_extension": ".py",
   "mimetype": "text/x-python",
   "name": "python",
   "nbconvert_exporter": "python",
   "pygments_lexer": "ipython3",
   "version": "3.6.8"
  }
 },
 "nbformat": 4,
 "nbformat_minor": 2
}
